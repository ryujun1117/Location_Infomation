{
 "cells": [
  {
   "cell_type": "markdown",
   "id": "45356b8a-a105-4c08-979b-34966bb54812",
   "metadata": {},
   "source": [
    "## install"
   ]
  },
  {
   "cell_type": "code",
   "execution_count": 58,
   "id": "007926ab-4d4e-42aa-b272-ecd4e5fd4c3d",
   "metadata": {
    "tags": []
   },
   "outputs": [],
   "source": [
    "# !pip install keplergl\n",
    "# !pip install geopandas\n",
    "# !pip install leafmap\n",
    "\n",
    "# ターミナルにて実行\n",
    "# $ apt-get install --no-install-recommends npm -y\n",
    "# $ apt-get install --no-install-recommends nodejs -y"
   ]
  },
  {
   "cell_type": "code",
   "execution_count": 13,
   "id": "8e605138-602a-42e3-8b24-3799ac0c8276",
   "metadata": {
    "tags": []
   },
   "outputs": [],
   "source": [
    "import pandas as pd\n",
    "import geopandas as gpd"
   ]
  },
  {
   "cell_type": "code",
   "execution_count": 2,
   "id": "e4ba1bf8-7af2-46f4-8f06-9397ac50d4fd",
   "metadata": {
    "tags": []
   },
   "outputs": [],
   "source": [
    "df = pd.read_csv(\"geo_starbucks.csv\")"
   ]
  },
  {
   "cell_type": "code",
   "execution_count": 59,
   "id": "e82add74-92ee-48de-8024-9966522d5b7d",
   "metadata": {
    "tags": []
   },
   "outputs": [
    {
     "data": {
      "text/html": [
       "<div>\n",
       "<style scoped>\n",
       "    .dataframe tbody tr th:only-of-type {\n",
       "        vertical-align: middle;\n",
       "    }\n",
       "\n",
       "    .dataframe tbody tr th {\n",
       "        vertical-align: top;\n",
       "    }\n",
       "\n",
       "    .dataframe thead th {\n",
       "        text-align: right;\n",
       "    }\n",
       "</style>\n",
       "<table border=\"1\" class=\"dataframe\">\n",
       "  <thead>\n",
       "    <tr style=\"text-align: right;\">\n",
       "      <th></th>\n",
       "      <th>店舗名</th>\n",
       "      <th>address</th>\n",
       "      <th>tel</th>\n",
       "      <th>postcode</th>\n",
       "      <th>lat</th>\n",
       "      <th>lng</th>\n",
       "    </tr>\n",
       "  </thead>\n",
       "  <tbody>\n",
       "    <tr>\n",
       "      <th>0</th>\n",
       "      <td>皇居外苑 和田倉噴水公園店</td>\n",
       "      <td>東京都 千代田区 皇居外苑3-1</td>\n",
       "      <td>03-6273-4844</td>\n",
       "      <td>100-0002</td>\n",
       "      <td>35.683540</td>\n",
       "      <td>139.762023</td>\n",
       "    </tr>\n",
       "    <tr>\n",
       "      <th>1</th>\n",
       "      <td>竹橋パレスサイド店</td>\n",
       "      <td>東京都 千代田区 一ツ橋1-1-1 竹橋パレスサイドビルディング 1F</td>\n",
       "      <td>03-3212-3510</td>\n",
       "      <td>100-0003</td>\n",
       "      <td>35.690222</td>\n",
       "      <td>139.758293</td>\n",
       "    </tr>\n",
       "    <tr>\n",
       "      <th>2</th>\n",
       "      <td>ＫＤＤＩ大手町ビル店</td>\n",
       "      <td>東京都 千代田区 大手町1-8-1 ＫＤＤＩ大手町ビル 1F</td>\n",
       "      <td>03-3231-2065</td>\n",
       "      <td>100-0004</td>\n",
       "      <td>35.687792</td>\n",
       "      <td>139.764329</td>\n",
       "    </tr>\n",
       "    <tr>\n",
       "      <th>3</th>\n",
       "      <td>大手町プレイス店</td>\n",
       "      <td>東京都 千代田区 大手町2-3-1 大手町プレイス</td>\n",
       "      <td>03-6281-9645</td>\n",
       "      <td>100-0004</td>\n",
       "      <td>35.686859</td>\n",
       "      <td>139.767437</td>\n",
       "    </tr>\n",
       "    <tr>\n",
       "      <th>4</th>\n",
       "      <td>大手町ビル店</td>\n",
       "      <td>東京都 千代田区 大手町1-6-1 大手町ビル</td>\n",
       "      <td>03-5288-7330</td>\n",
       "      <td>100-0004</td>\n",
       "      <td>35.686405</td>\n",
       "      <td>139.764809</td>\n",
       "    </tr>\n",
       "  </tbody>\n",
       "</table>\n",
       "</div>"
      ],
      "text/plain": [
       "             店舗名                              address           tel  postcode   \n",
       "0  皇居外苑 和田倉噴水公園店                     東京都 千代田区 皇居外苑3-1  03-6273-4844  100-0002  \\\n",
       "1      竹橋パレスサイド店  東京都 千代田区 一ツ橋1-1-1 竹橋パレスサイドビルディング 1F  03-3212-3510  100-0003   \n",
       "2     ＫＤＤＩ大手町ビル店       東京都 千代田区 大手町1-8-1 ＫＤＤＩ大手町ビル 1F  03-3231-2065  100-0004   \n",
       "3       大手町プレイス店            東京都 千代田区 大手町2-3-1 大手町プレイス  03-6281-9645  100-0004   \n",
       "4         大手町ビル店              東京都 千代田区 大手町1-6-1 大手町ビル  03-5288-7330  100-0004   \n",
       "\n",
       "         lat         lng  \n",
       "0  35.683540  139.762023  \n",
       "1  35.690222  139.758293  \n",
       "2  35.687792  139.764329  \n",
       "3  35.686859  139.767437  \n",
       "4  35.686405  139.764809  "
      ]
     },
     "execution_count": 59,
     "metadata": {},
     "output_type": "execute_result"
    }
   ],
   "source": [
    "df.head()"
   ]
  },
  {
   "cell_type": "code",
   "execution_count": 26,
   "id": "eb613a65-5342-46f3-bc9d-a1d45abcaf6c",
   "metadata": {},
   "outputs": [],
   "source": [
    "df = df[[\"店舗名\", \"address\", \"tel\", \"postcode\", \"lat\", \"lng\"]]\n",
    "\n",
    "# dataframeをgeodataframeに変換\n",
    "# 座標情報を　dtype = geomery　に変更\n",
    "gt_df = gpd.GeoDataFrame(df, geometry = gpd.points_from_xy(df.lng, df.lat), crs=4326)"
   ]
  },
  {
   "cell_type": "code",
   "execution_count": 30,
   "id": "a647defd-bc17-413c-b484-f67d51fcc73b",
   "metadata": {
    "tags": []
   },
   "outputs": [],
   "source": [
    "# ポイントを追加する\n",
    "d4c_df = pd.DataFrame({\n",
    "    \"company\":[\"株式会社D4cプレミアム\"],\n",
    "    \"address\":[\"東京都港区南麻布5丁目2番32号興和広尾ビル\"],\n",
    "    \"tel\":[\"03-5422-6620\"],\n",
    "    \"lat\":[35.6546762],\n",
    "    \"lng\":[139.7231728]\n",
    "})\n",
    "g_d4c_df = gpd.GeoDataFrame(d4c_df, geometry = gpd.points_from_xy(d4c_df.lng, d4c_df.lat), crs=4326)"
   ]
  },
  {
   "cell_type": "code",
   "execution_count": 61,
   "id": "ea36d218-c043-479b-8878-db3caea0620f",
   "metadata": {
    "tags": []
   },
   "outputs": [
    {
     "data": {
      "text/html": [
       "<style>.container { width:100% !important; }</style>"
      ],
      "text/plain": [
       "<IPython.core.display.HTML object>"
      ]
     },
     "metadata": {},
     "output_type": "display_data"
    },
    {
     "data": {
      "application/vnd.jupyter.widget-view+json": {
       "model_id": "31587d5e9d7d4a9d9d1bd358590cc603",
       "version_major": 2,
       "version_minor": 0
      },
      "text/plain": [
       "Map(config={'version': 'v1', 'config': {'visState': {'filters': [], 'layers': [{'id': 'vxj75dk', 'type': 'geoj…"
      ]
     },
     "metadata": {},
     "output_type": "display_data"
    }
   ],
   "source": [
    "# この書き方じゃないとうまく表示できない\n",
    "import leafmap.kepler as leafmap\n",
    "from keplergl import KeplerGl\n",
    "\n",
    "# ベースとなる地図を作成\n",
    "m = leafmap.Map(center=[35.68944, 139.69167], zoom=10, height=400, widescreen=True)\n",
    "\n",
    "# 追加のpoint\n",
    "m.add_gdf(g_d4c_df, layer_name=\"d4c\")\n",
    "\n",
    "# スタバ情報を追加\n",
    "m.add_gdf(gt_df, layer_name=\"starbucks\")\n",
    "\n",
    "# コンフィグで表示の微調整\n",
    "m.config=config\n",
    "# m.save_to_html(file_name=\"starbucks_shopmap.html\")\n",
    "m"
   ]
  },
  {
   "cell_type": "code",
   "execution_count": 52,
   "id": "2ffcdf3e-e40a-4902-8c13-62a07e69eaae",
   "metadata": {},
   "outputs": [],
   "source": [
    "config = {'version': 'v1',\n",
    " 'config': {'visState': {'filters': [],\n",
    "   'layers': [\n",
    "    {'id': 'vxj75dk',\n",
    "     'type': 'geojson',\n",
    "     'config': {'dataId': 'd4c',\n",
    "      'label': 'd4c',\n",
    "      'color': [29, 155, 240],\n",
    "      'highlightColor': [252, 242, 26, 255],\n",
    "      'columns': {'geojson': '_geojson'},\n",
    "      'isVisible': True,\n",
    "      'visConfig': {'opacity': 0.8,\n",
    "       'strokeOpacity': 0.8,\n",
    "       'thickness': 0.5,\n",
    "       'strokeColor': None,\n",
    "       'colorRange': {'name': 'Global Warming',\n",
    "        'type': 'sequential',\n",
    "        'category': 'Uber',\n",
    "        'colors': ['#00704a',\n",
    "         '#900C3F',\n",
    "         '#C70039',\n",
    "         '#E3611C',\n",
    "         '#F1920E',\n",
    "         '#FFC300']},\n",
    "       'strokeColorRange': {'name': 'Global Warming',\n",
    "        'type': 'sequential',\n",
    "        'category': 'Uber',\n",
    "        'colors': ['#5A1846',\n",
    "         '#900C3F',\n",
    "         '#C70039',\n",
    "         '#E3611C',\n",
    "         '#F1920E',\n",
    "         '#FFC300']},\n",
    "       'radius': 15,\n",
    "       'sizeRange': [0, 15],\n",
    "       'radiusRange': [0, 50],\n",
    "       'heightRange': [0, 500],\n",
    "       'elevationScale': 5,\n",
    "       'enableElevationZoomFactor': True,\n",
    "       'stroked': False,\n",
    "       'filled': True,\n",
    "       'enable3d': False,\n",
    "       'wireframe': False},\n",
    "      'hidden': False,\n",
    "      'textLabel': [{'field': None,\n",
    "        'color': [255, 255, 255],\n",
    "        'size': 18,\n",
    "        'offset': [0, 0],\n",
    "        'anchor': 'start',\n",
    "        'alignment': 'center'}]},\n",
    "     'visualChannels': {'colorField': None,\n",
    "      'colorScale': 'quantile',\n",
    "      'strokeColorField': None,\n",
    "      'strokeColorScale': 'quantile',\n",
    "      'sizeField': None,\n",
    "      'sizeScale': 'linear',\n",
    "      'heightField': None,\n",
    "      'heightScale': 'linear',\n",
    "      'radiusField': None,\n",
    "      'radiusScale': 'linear'}},\n",
    "    {'id': 'q54xvc',\n",
    "     'type': 'geojson',\n",
    "     'config': {'dataId': 'starbucks',\n",
    "      'label': 'starbucks',\n",
    "      'color': [0, 112, 74],\n",
    "      'highlightColor': [252, 242, 26, 255],\n",
    "      'columns': {'geojson': '_geojson'},\n",
    "      'isVisible': True,\n",
    "      'visConfig': {'opacity': 0.8,\n",
    "       'strokeOpacity': 0.8,\n",
    "       'thickness': 0.5,\n",
    "       'strokeColor': None,\n",
    "       'colorRange': {'name': 'Global Warming',\n",
    "        'type': 'sequential',\n",
    "        'category': 'Uber',\n",
    "        'colors': ['#5A1846',\n",
    "         '#900C3F',\n",
    "         '#C70039',\n",
    "         '#E3611C',\n",
    "         '#F1920E',\n",
    "         '#FFC300']},\n",
    "       'strokeColorRange': {'name': 'Global Warming',\n",
    "        'type': 'sequential',\n",
    "        'category': 'Uber',\n",
    "        'colors': ['#00704a',\n",
    "         '#900C3F',\n",
    "         '#C70039',\n",
    "         '#E3611C',\n",
    "         '#F1920E',\n",
    "         '#FFC300']},\n",
    "       'radius': 7,\n",
    "       'sizeRange': [0, 10],\n",
    "       'radiusRange': [0, 50],\n",
    "       'heightRange': [0, 500],\n",
    "       'elevationScale': 5,\n",
    "       'enableElevationZoomFactor': True,\n",
    "       'stroked': False,\n",
    "       'filled': True,\n",
    "       'enable3d': False,\n",
    "       'wireframe': False},\n",
    "      'hidden': False,\n",
    "      'textLabel': [{'field': None,\n",
    "        'color': [255, 255, 255],\n",
    "        'size': 18,\n",
    "        'offset': [0, 0],\n",
    "        'anchor': 'start',\n",
    "        'alignment': 'center'}]},\n",
    "     'visualChannels': {'colorField': None,\n",
    "      'colorScale': 'quantile',\n",
    "      'strokeColorField': None,\n",
    "      'strokeColorScale': 'quantile',\n",
    "      'sizeField': None,\n",
    "      'sizeScale': 'linear',\n",
    "      'heightField': None,\n",
    "      'heightScale': 'linear',\n",
    "      'radiusField': None,\n",
    "      'radiusScale': 'linear'}}],\n",
    "   'interactionConfig': {'tooltip': {'fieldsToShow': {'d4c': [{'name': 'company',\n",
    "        'format': None},\n",
    "       {'name': 'address', 'format': None},\n",
    "       {'name': 'tel', 'format': None}],\n",
    "      'starbucks': [{'name': '店舗名', 'format': None},\n",
    "       {'name': 'address', 'format': None},\n",
    "       {'name': 'tel', 'format': None},\n",
    "       {'name': 'postcode', 'format': None}]},\n",
    "     'compareMode': False,\n",
    "     'compareType': 'absolute',\n",
    "     'enabled': True},\n",
    "    'brush': {'size': 0.5, 'enabled': False},\n",
    "    'geocoder': {'enabled': False},\n",
    "    'coordinate': {'enabled': False}},\n",
    "   'layerBlending': 'normal',\n",
    "   'splitMaps': [],\n",
    "   'animationConfig': {'currentTime': None, 'speed': 1}},\n",
    "  'mapState': {'bearing': 0,\n",
    "   'dragRotate': False,\n",
    "   'latitude': 35.68944,\n",
    "   'longitude': 139.69167,\n",
    "   'pitch': 0,\n",
    "   'zoom': 10,\n",
    "   'isSplit': False},\n",
    "  'mapStyle': {'styleType': 'dark',\n",
    "   'topLayerGroups': {},\n",
    "   'visibleLayerGroups': {'label': True,\n",
    "    'road': True,\n",
    "    'border': False,\n",
    "    'building': True,\n",
    "    'water': True,\n",
    "    'land': True,\n",
    "    '3d building': False},\n",
    "   'threeDBuildingColor': [9.665468314072013,\n",
    "    17.18305478057247,\n",
    "    31.1442867897876],\n",
    "   'mapStyles': {}}}}"
   ]
  },
  {
   "cell_type": "code",
   "execution_count": null,
   "id": "c760731b-1c9f-47a5-bed8-07cde5c6e887",
   "metadata": {},
   "outputs": [],
   "source": []
  }
 ],
 "metadata": {
  "kernelspec": {
   "display_name": "Python 3 (ipykernel)",
   "language": "python",
   "name": "python3"
  },
  "language_info": {
   "codemirror_mode": {
    "name": "ipython",
    "version": 3
   },
   "file_extension": ".py",
   "mimetype": "text/x-python",
   "name": "python",
   "nbconvert_exporter": "python",
   "pygments_lexer": "ipython3",
   "version": "3.9.16"
  }
 },
 "nbformat": 4,
 "nbformat_minor": 5
}
