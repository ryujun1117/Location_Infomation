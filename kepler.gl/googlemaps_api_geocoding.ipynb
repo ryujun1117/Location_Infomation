{
 "cells": [
  {
   "cell_type": "code",
   "execution_count": 3,
   "id": "b2a08f83-219b-4935-8903-10e639dc4b1b",
   "metadata": {
    "tags": []
   },
   "outputs": [],
   "source": [
    "# googlemaps / google-maps-services-python\n",
    "# https://github.com/googlemaps/google-maps-services-python"
   ]
  },
  {
   "cell_type": "code",
   "execution_count": null,
   "id": "987f6b7d-da97-44fe-aaf0-822121f03da2",
   "metadata": {
    "tags": []
   },
   "outputs": [],
   "source": [
    "# install　geocoding用のapiを利用できるようにする\n",
    "# !pip install -U googlemaps"
   ]
  },
  {
   "cell_type": "markdown",
   "id": "cc2ca5ea-e00b-41ba-b77b-27448e75ae8e",
   "metadata": {},
   "source": [
    "## チュートリアル"
   ]
  },
  {
   "cell_type": "code",
   "execution_count": 67,
   "id": "6fa4c930-2e1c-4681-a9e5-a76b30f9e95d",
   "metadata": {
    "tags": []
   },
   "outputs": [],
   "source": [
    "import googlemaps\n",
    "from datetime import datetime\n",
    "\n",
    "# GCP consoleから取得\n",
    "gmaps = googlemaps.Client(key='xxxxxxxxxxxxxxxxxxxxxxxxxxxxxxxxxxxxxx')\n",
    "\n",
    "# Geocoding an address\n",
    "geocode_result = gmaps.geocode('東京都港区南麻布5丁目2番32号興和広尾ビル')"
   ]
  },
  {
   "cell_type": "code",
   "execution_count": 68,
   "id": "6ed4a7cd-ef8b-4a3d-bab0-a7b62ead5d45",
   "metadata": {
    "tags": []
   },
   "outputs": [
    {
     "data": {
      "text/html": [
       "<div>\n",
       "<style scoped>\n",
       "    .dataframe tbody tr th:only-of-type {\n",
       "        vertical-align: middle;\n",
       "    }\n",
       "\n",
       "    .dataframe tbody tr th {\n",
       "        vertical-align: top;\n",
       "    }\n",
       "\n",
       "    .dataframe thead th {\n",
       "        text-align: right;\n",
       "    }\n",
       "</style>\n",
       "<table border=\"1\" class=\"dataframe\">\n",
       "  <thead>\n",
       "    <tr style=\"text-align: right;\">\n",
       "      <th></th>\n",
       "      <th>address_components</th>\n",
       "      <th>formatted_address</th>\n",
       "      <th>place_id</th>\n",
       "      <th>types</th>\n",
       "      <th>geometry.bounds.northeast.lat</th>\n",
       "      <th>geometry.bounds.northeast.lng</th>\n",
       "      <th>geometry.bounds.southwest.lat</th>\n",
       "      <th>geometry.bounds.southwest.lng</th>\n",
       "      <th>geometry.location.lat</th>\n",
       "      <th>geometry.location.lng</th>\n",
       "      <th>geometry.location_type</th>\n",
       "      <th>geometry.viewport.northeast.lat</th>\n",
       "      <th>geometry.viewport.northeast.lng</th>\n",
       "      <th>geometry.viewport.southwest.lat</th>\n",
       "      <th>geometry.viewport.southwest.lng</th>\n",
       "    </tr>\n",
       "  </thead>\n",
       "  <tbody>\n",
       "    <tr>\n",
       "      <th>0</th>\n",
       "      <td>[{'long_name': '興和広尾ビル', 'short_name': '興和広尾ビル...</td>\n",
       "      <td>Japan, 〒106-0047 Tokyo, Minato City, Minamiaza...</td>\n",
       "      <td>ChIJV46xI3KLGGARcMjF8KPOFSo</td>\n",
       "      <td>[premise]</td>\n",
       "      <td>35.654894</td>\n",
       "      <td>139.723367</td>\n",
       "      <td>35.654399</td>\n",
       "      <td>139.722962</td>\n",
       "      <td>35.654676</td>\n",
       "      <td>139.723173</td>\n",
       "      <td>ROOFTOP</td>\n",
       "      <td>35.655996</td>\n",
       "      <td>139.724514</td>\n",
       "      <td>35.653298</td>\n",
       "      <td>139.721816</td>\n",
       "    </tr>\n",
       "  </tbody>\n",
       "</table>\n",
       "</div>"
      ],
      "text/plain": [
       "                                  address_components   \n",
       "0  [{'long_name': '興和広尾ビル', 'short_name': '興和広尾ビル...  \\\n",
       "\n",
       "                                   formatted_address   \n",
       "0  Japan, 〒106-0047 Tokyo, Minato City, Minamiaza...  \\\n",
       "\n",
       "                      place_id      types  geometry.bounds.northeast.lat   \n",
       "0  ChIJV46xI3KLGGARcMjF8KPOFSo  [premise]                      35.654894  \\\n",
       "\n",
       "   geometry.bounds.northeast.lng  geometry.bounds.southwest.lat   \n",
       "0                     139.723367                      35.654399  \\\n",
       "\n",
       "   geometry.bounds.southwest.lng  geometry.location.lat   \n",
       "0                     139.722962              35.654676  \\\n",
       "\n",
       "   geometry.location.lng geometry.location_type   \n",
       "0             139.723173                ROOFTOP  \\\n",
       "\n",
       "   geometry.viewport.northeast.lat  geometry.viewport.northeast.lng   \n",
       "0                        35.655996                       139.724514  \\\n",
       "\n",
       "   geometry.viewport.southwest.lat  geometry.viewport.southwest.lng  \n",
       "0                        35.653298                       139.721816  "
      ]
     },
     "execution_count": 68,
     "metadata": {},
     "output_type": "execute_result"
    }
   ],
   "source": [
    "pd.json_normalize(geocode_result)"
   ]
  },
  {
   "cell_type": "code",
   "execution_count": 69,
   "id": "d576127c-8e52-47c7-bcf2-2fb340f6936f",
   "metadata": {
    "tags": []
   },
   "outputs": [
    {
     "data": {
      "text/plain": [
       "{'bounds': {'northeast': {'lat': 35.654894, 'lng': 139.7233671},\n",
       "  'southwest': {'lat': 35.6543992, 'lng': 139.7229621}},\n",
       " 'location': {'lat': 35.6546762, 'lng': 139.7231728},\n",
       " 'location_type': 'ROOFTOP',\n",
       " 'viewport': {'northeast': {'lat': 35.6559955802915, 'lng': 139.7245135802915},\n",
       "  'southwest': {'lat': 35.6532976197085, 'lng': 139.7218156197085}}}"
      ]
     },
     "execution_count": 69,
     "metadata": {},
     "output_type": "execute_result"
    }
   ],
   "source": [
    "geocode_result[0][\"geometry\"]"
   ]
  },
  {
   "cell_type": "code",
   "execution_count": 70,
   "id": "75cbf6d8-223a-4bbe-97b2-fb49c8d4b00e",
   "metadata": {
    "tags": []
   },
   "outputs": [
    {
     "data": {
      "text/plain": [
       "{'lat': 35.6546762, 'lng': 139.7231728}"
      ]
     },
     "execution_count": 70,
     "metadata": {},
     "output_type": "execute_result"
    }
   ],
   "source": [
    "geocode_result[0][\"geometry\"][\"location\"]"
   ]
  },
  {
   "cell_type": "code",
   "execution_count": 71,
   "id": "4eb0f24d-d2bb-44bc-a644-8a402efa6772",
   "metadata": {
    "tags": []
   },
   "outputs": [
    {
     "data": {
      "text/plain": [
       "35.6546762"
      ]
     },
     "execution_count": 71,
     "metadata": {},
     "output_type": "execute_result"
    }
   ],
   "source": [
    "geocode_result[0][\"geometry\"][\"location\"][\"lat\"]"
   ]
  }
 ],
 "metadata": {
  "kernelspec": {
   "display_name": "Python 3 (ipykernel)",
   "language": "python",
   "name": "python3"
  },
  "language_info": {
   "codemirror_mode": {
    "name": "ipython",
    "version": 3
   },
   "file_extension": ".py",
   "mimetype": "text/x-python",
   "name": "python",
   "nbconvert_exporter": "python",
   "pygments_lexer": "ipython3",
   "version": "3.9.16"
  }
 },
 "nbformat": 4,
 "nbformat_minor": 5
}
