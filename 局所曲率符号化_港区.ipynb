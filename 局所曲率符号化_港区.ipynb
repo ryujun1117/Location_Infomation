{
 "cells": [
  {
   "cell_type": "code",
   "execution_count": 3,
   "metadata": {
    "ExecuteTime": {
     "end_time": "2023-05-17T12:51:07.928Z",
     "start_time": "2023-05-17T12:51:07.813401Z"
    },
    "collapsed": false
   },
   "outputs": [],
   "source": [
    "# !pip install leafmap"
   ]
  },
  {
   "cell_type": "code",
   "execution_count": 723,
   "metadata": {
    "ExecuteTime": {
     "end_time": "2023-05-17T15:56:24.228712Z",
     "start_time": "2023-05-17T15:56:23.214928Z"
    },
    "collapsed": true
   },
   "outputs": [],
   "source": [
    "import geopandas as gpd\n",
    "import pandas as pd\n",
    "import numpy as np\n",
    "import matplotlib\n",
    "import matplotlib.pyplot as plt\n",
    "# import seaborn as sns\n",
    "# import cv2\n",
    "# from PIL import Image\n",
    "%matplotlib inline\n",
    "from geopandas import GeoSeries\n",
    "from shapely.ops import cascaded_union\n",
    "import leafmap\n",
    "from shapely.geometry import MultiPoint\n",
    "from shapely.geometry import Polygon"
   ]
  },
  {
   "cell_type": "code",
   "execution_count": 767,
   "metadata": {
    "ExecuteTime": {
     "end_time": "2023-05-17T15:58:51.699332Z",
     "start_time": "2023-05-17T15:58:27.177043Z"
    },
    "collapsed": false
   },
   "outputs": [],
   "source": [
    "gdf = gpd.read_file(\"/work/mapsolution/data-1682398976674.csv\")\n",
    "gdf[\"geom\"] = gpd.GeoSeries.from_wkb(gdf[\"geom\"])\n",
    "gdf = gdf[[\"筆id\", \"市区町村名\", \"大字名\", \"丁目名\", \"geom\"]]\n",
    "gdf[\"大字_丁目名\"] = gdf[\"大字名\"] + gdf[\"丁目名\"]\n",
    "gdf = gpd.GeoDataFrame(gdf, crs=\"EPSG:4326\", geometry=\"geom\")"
   ]
  },
  {
   "cell_type": "code",
   "execution_count": 768,
   "metadata": {
    "ExecuteTime": {
     "end_time": "2023-05-17T15:58:51.718228Z",
     "start_time": "2023-05-17T15:58:51.693524Z"
    },
    "collapsed": false
   },
   "outputs": [
    {
     "data": {
      "text/html": [
       "<div>\n",
       "<style scoped>\n",
       "    .dataframe tbody tr th:only-of-type {\n",
       "        vertical-align: middle;\n",
       "    }\n",
       "\n",
       "    .dataframe tbody tr th {\n",
       "        vertical-align: top;\n",
       "    }\n",
       "\n",
       "    .dataframe thead th {\n",
       "        text-align: right;\n",
       "    }\n",
       "</style>\n",
       "<table border=\"1\" class=\"dataframe\">\n",
       "  <thead>\n",
       "    <tr style=\"text-align: right;\">\n",
       "      <th></th>\n",
       "      <th>筆id</th>\n",
       "      <th>市区町村名</th>\n",
       "      <th>大字名</th>\n",
       "      <th>丁目名</th>\n",
       "      <th>geom</th>\n",
       "      <th>大字_丁目名</th>\n",
       "    </tr>\n",
       "  </thead>\n",
       "  <tbody>\n",
       "    <tr>\n",
       "      <th>0</th>\n",
       "      <td>H000002270</td>\n",
       "      <td>港区</td>\n",
       "      <td>新橋</td>\n",
       "      <td>６丁目</td>\n",
       "      <td>MULTIPOLYGON (((-58.94100 79.57900, -63.70800 ...</td>\n",
       "      <td>新橋６丁目</td>\n",
       "    </tr>\n",
       "    <tr>\n",
       "      <th>1</th>\n",
       "      <td>H000000033</td>\n",
       "      <td>港区</td>\n",
       "      <td>愛宕</td>\n",
       "      <td>１丁目</td>\n",
       "      <td>MULTIPOLYGON (((65.59800 182.31900, 65.64200 1...</td>\n",
       "      <td>愛宕１丁目</td>\n",
       "    </tr>\n",
       "    <tr>\n",
       "      <th>2</th>\n",
       "      <td>H000000003</td>\n",
       "      <td>港区</td>\n",
       "      <td>愛宕</td>\n",
       "      <td>１丁目</td>\n",
       "      <td>MULTIPOLYGON (((85.65600 326.04200, 84.73100 3...</td>\n",
       "      <td>愛宕１丁目</td>\n",
       "    </tr>\n",
       "    <tr>\n",
       "      <th>3</th>\n",
       "      <td>H000000086</td>\n",
       "      <td>港区</td>\n",
       "      <td>愛宕</td>\n",
       "      <td>２丁目</td>\n",
       "      <td>MULTIPOLYGON (((33.97900 103.74700, 33.96700 1...</td>\n",
       "      <td>愛宕２丁目</td>\n",
       "    </tr>\n",
       "    <tr>\n",
       "      <th>4</th>\n",
       "      <td>H000000020</td>\n",
       "      <td>港区</td>\n",
       "      <td>愛宕</td>\n",
       "      <td>１丁目</td>\n",
       "      <td>MULTIPOLYGON (((52.48900 295.11800, 42.04900 2...</td>\n",
       "      <td>愛宕１丁目</td>\n",
       "    </tr>\n",
       "  </tbody>\n",
       "</table>\n",
       "</div>"
      ],
      "text/plain": [
       "          筆id 市区町村名 大字名  丁目名   \n",
       "0  H000002270    港区  新橋  ６丁目  \\\n",
       "1  H000000033    港区  愛宕  １丁目   \n",
       "2  H000000003    港区  愛宕  １丁目   \n",
       "3  H000000086    港区  愛宕  ２丁目   \n",
       "4  H000000020    港区  愛宕  １丁目   \n",
       "\n",
       "                                                geom 大字_丁目名  \n",
       "0  MULTIPOLYGON (((-58.94100 79.57900, -63.70800 ...  新橋６丁目  \n",
       "1  MULTIPOLYGON (((65.59800 182.31900, 65.64200 1...  愛宕１丁目  \n",
       "2  MULTIPOLYGON (((85.65600 326.04200, 84.73100 3...  愛宕１丁目  \n",
       "3  MULTIPOLYGON (((33.97900 103.74700, 33.96700 1...  愛宕２丁目  \n",
       "4  MULTIPOLYGON (((52.48900 295.11800, 42.04900 2...  愛宕１丁目  "
      ]
     },
     "execution_count": 768,
     "metadata": {},
     "output_type": "execute_result"
    }
   ],
   "source": [
    "gdf.head()"
   ]
  },
  {
   "cell_type": "code",
   "execution_count": 769,
   "metadata": {
    "ExecuteTime": {
     "end_time": "2023-05-17T15:58:51.830395Z",
     "start_time": "2023-05-17T15:58:51.713069Z"
    },
    "collapsed": false
   },
   "outputs": [
    {
     "data": {
      "text/plain": [
       "array(['新橋６丁目', '愛宕１丁目', '愛宕２丁目', '虎ノ門１丁目', '虎ノ門３丁目', '虎ノ門４丁目', '芝１丁目',\n",
       "       '芝２丁目', '虎ノ門２丁目', '虎ノ門５丁目', '新橋５丁目', '新橋１丁目', '高輪２丁目', '高輪３丁目',\n",
       "       '芝３丁目', '赤坂２丁目', '三田１丁目', '三田２丁目', '南青山３丁目', '港南２丁目', '赤坂５丁目',\n",
       "       '高輪４丁目', '赤坂６丁目', '赤坂４丁目', '赤坂８丁目', '高輪１丁目', '東新橋１丁目', '東麻布１丁目',\n",
       "       '南青山２丁目', '三田３丁目', '三田５丁目', '三田４丁目', '芝４丁目', '港南１丁目', '芝５丁目',\n",
       "       '芝浦１丁目', '芝浦４丁目', '芝浦２丁目', '西麻布３丁目', '芝浦３丁目', '西麻布１丁目', '芝公園１丁目',\n",
       "       '芝公園４丁目', '芝公園３丁目', '芝公園２丁目', '南青山４丁目', '新橋４丁目', '西麻布４丁目', '港南３丁目',\n",
       "       '港南４丁目', '港南５丁目', '南青山６丁目', '新橋２丁目', '新橋３丁目', '西麻布２丁目', '赤坂１丁目',\n",
       "       '六本木７丁目', '元赤坂１丁目', '元赤坂２丁目', '赤坂３丁目', '南青山５丁目', '南青山７丁目',\n",
       "       '南麻布４丁目', '南麻布５丁目', '南麻布１丁目', '南麻布２丁目', '南麻布３丁目', '白金１丁目', '白金５丁目',\n",
       "       '白金６丁目', '北青山１丁目', '赤坂７丁目', '赤坂９丁目', '東新橋２丁目', '東麻布２丁目', '南青山１丁目',\n",
       "       '東麻布３丁目', '六本木３丁目', '白金２丁目', '白金３丁目', '白金４丁目', '白金台５丁目', '白金台３丁目',\n",
       "       '北青山２丁目', '浜松町１丁目', '北青山３丁目', '麻布永坂町NULL', '元麻布１丁目', '元麻布２丁目',\n",
       "       '六本木６丁目', '麻布十番１丁目', '麻布十番２丁目', '海岸１丁目', '麻布十番３丁目', '麻布十番４丁目',\n",
       "       '麻布台３丁目', '麻布台１丁目', '麻布台２丁目', '六本木２丁目', 'NULLNULL', '六本木１丁目',\n",
       "       '六本木５丁目', '六本木４丁目', '芝大門１丁目', '芝大門２丁目', '西新橋２丁目', '白金台１丁目',\n",
       "       '白金台２丁目', '西新橋１丁目', '西新橋３丁目', '浜松町２丁目', '麻布狸穴町NULL', '海岸２丁目',\n",
       "       '海岸３丁目', '元麻布３丁目', '白金台４丁目'], dtype=object)"
      ]
     },
     "execution_count": 769,
     "metadata": {},
     "output_type": "execute_result"
    }
   ],
   "source": [
    "gdf[\"大字_丁目名\"].unique()"
   ]
  },
  {
   "cell_type": "code",
   "execution_count": 770,
   "metadata": {
    "ExecuteTime": {
     "end_time": "2023-05-17T15:58:51.872702Z",
     "start_time": "2023-05-17T15:58:51.763046Z"
    },
    "collapsed": false
   },
   "outputs": [],
   "source": [
    "tdf = gdf[gdf[\"大字_丁目名\"] == \"西新橋１丁目\"]"
   ]
  },
  {
   "cell_type": "code",
   "execution_count": 771,
   "metadata": {
    "ExecuteTime": {
     "end_time": "2023-05-17T15:58:52.097251Z",
     "start_time": "2023-05-17T15:58:51.785712Z"
    },
    "collapsed": false
   },
   "outputs": [
    {
     "data": {
      "text/plain": [
       "<Axes: >"
      ]
     },
     "execution_count": 771,
     "metadata": {},
     "output_type": "execute_result"
    },
    {
     "data": {
      "image/png": "[encoded data removed]",
      "text/plain": [
       "<Figure size 640x480 with 1 Axes>"
      ]
     },
     "metadata": {},
     "output_type": "display_data"
    }
   ],
   "source": [
    "tdf[\"geom\"].plot(aspect=1)"
   ]
  },
  {
   "cell_type": "code",
   "execution_count": 772,
   "metadata": {
    "ExecuteTime": {
     "end_time": "2023-05-17T15:58:52.250929Z",
     "start_time": "2023-05-17T15:58:52.096778Z"
    },
    "collapsed": false
   },
   "outputs": [],
   "source": [
    "# 境界を取得\n",
    "bound = gpd.GeoSeries(cascaded_union(tdf.geom))"
   ]
  },
  {
   "cell_type": "code",
   "execution_count": 773,
   "metadata": {
    "ExecuteTime": {
     "end_time": "2023-05-17T15:58:52.368796Z",
     "start_time": "2023-05-17T15:58:52.190220Z"
    },
    "collapsed": false
   },
   "outputs": [
    {
     "data": {
      "text/plain": [
       "<Axes: >"
      ]
     },
     "execution_count": 773,
     "metadata": {},
     "output_type": "execute_result"
    },
    {
     "data": {
      "image/png": "[encoded data removed]",
      "text/plain": [
       "<Figure size 640x480 with 1 Axes>"
      ]
     },
     "metadata": {},
     "output_type": "display_data"
    }
   ],
   "source": [
    "bound.plot()"
   ]
  },
  {
   "cell_type": "code",
   "execution_count": 774,
   "metadata": {
    "ExecuteTime": {
     "end_time": "2023-05-17T15:58:52.385743Z",
     "start_time": "2023-05-17T15:58:52.375482Z"
    },
    "collapsed": false
   },
   "outputs": [
    {
     "data": {
      "text/plain": [
       "0    MULTIPOLYGON (((-255.712 1133.807, -254.484 11...\n",
       "dtype: geometry"
      ]
     },
     "execution_count": 774,
     "metadata": {},
     "output_type": "execute_result"
    }
   ],
   "source": [
    "bound"
   ]
  },
  {
   "cell_type": "code",
   "execution_count": 775,
   "metadata": {
    "ExecuteTime": {
     "end_time": "2023-05-17T15:58:52.450902Z",
     "start_time": "2023-05-17T15:58:52.397839Z"
    },
    "collapsed": false
   },
   "outputs": [
    {
     "data": {
      "text/html": [
       "<div>\n",
       "<style scoped>\n",
       "    .dataframe tbody tr th:only-of-type {\n",
       "        vertical-align: middle;\n",
       "    }\n",
       "\n",
       "    .dataframe tbody tr th {\n",
       "        vertical-align: top;\n",
       "    }\n",
       "\n",
       "    .dataframe thead th {\n",
       "        text-align: right;\n",
       "    }\n",
       "</style>\n",
       "<table border=\"1\" class=\"dataframe\">\n",
       "  <thead>\n",
       "    <tr style=\"text-align: right;\">\n",
       "      <th></th>\n",
       "      <th>level_0</th>\n",
       "      <th>index</th>\n",
       "      <th>geometry</th>\n",
       "    </tr>\n",
       "  </thead>\n",
       "  <tbody>\n",
       "    <tr>\n",
       "      <th>0</th>\n",
       "      <td>0</td>\n",
       "      <td>0</td>\n",
       "      <td>POLYGON ((-255.71200 1133.80700, -254.48400 11...</td>\n",
       "    </tr>\n",
       "    <tr>\n",
       "      <th>1</th>\n",
       "      <td>1</td>\n",
       "      <td>0</td>\n",
       "      <td>POLYGON ((-40.09700 1150.87400, 19.57900 1155....</td>\n",
       "    </tr>\n",
       "  </tbody>\n",
       "</table>\n",
       "</div>"
      ],
      "text/plain": [
       "   level_0  index                                           geometry\n",
       "0        0      0  POLYGON ((-255.71200 1133.80700, -254.48400 11...\n",
       "1        1      0  POLYGON ((-40.09700 1150.87400, 19.57900 1155...."
      ]
     },
     "execution_count": 775,
     "metadata": {},
     "output_type": "execute_result"
    }
   ],
   "source": [
    "# MultipolygonをPolygonに変換\n",
    "bdf = gpd.GeoDataFrame({\n",
    "    \"geometry\": bound\n",
    "}, crs=4326)\n",
    "\n",
    "bdf = bdf.explode(index_parts=False).reset_index(False).reset_index(False)\n",
    "bdf"
   ]
  },
  {
   "cell_type": "code",
   "execution_count": 776,
   "metadata": {
    "ExecuteTime": {
     "end_time": "2023-05-17T15:58:52.452771Z",
     "start_time": "2023-05-17T15:58:52.433555Z"
    },
    "collapsed": false
   },
   "outputs": [
    {
     "name": "stdout",
     "output_type": "stream",
     "text": [
      "2\n"
     ]
    }
   ],
   "source": [
    "# 抽出レコードに幾つのポリゴンが含まれているか\n",
    "Polygon_Num = bdf.shape[0]\n",
    "print(Polygon_Num)"
   ]
  },
  {
   "cell_type": "code",
   "execution_count": 777,
   "metadata": {
    "ExecuteTime": {
     "end_time": "2023-05-17T15:58:52.471474Z",
     "start_time": "2023-05-17T15:58:52.441101Z"
    },
    "collapsed": false
   },
   "outputs": [],
   "source": [
    "# ポリゴンの外周を取得する\n",
    "# TODO 点を増やすために線型補完したい\n",
    "bdf.geometry = bdf.geometry.apply(lambda x: MultiPoint(list(x.exterior.coords)))"
   ]
  },
  {
   "cell_type": "code",
   "execution_count": 778,
   "metadata": {
    "ExecuteTime": {
     "end_time": "2023-05-17T15:58:53.033809Z",
     "start_time": "2023-05-17T15:58:52.468938Z"
    },
    "collapsed": false
   },
   "outputs": [
    {
     "data": {
      "text/plain": [
       "<Axes: >"
      ]
     },
     "execution_count": 778,
     "metadata": {},
     "output_type": "execute_result"
    },
    {
     "data": {
      "image/png": "[encoded data removed]",
      "text/plain": [
       "<Figure size 640x480 with 1 Axes>"
      ]
     },
     "metadata": {},
     "output_type": "display_data"
    }
   ],
   "source": [
    "bdf.plot(aspect=1)"
   ]
  },
  {
   "cell_type": "code",
   "execution_count": 779,
   "metadata": {
    "ExecuteTime": {
     "end_time": "2023-05-17T15:58:53.034073Z",
     "start_time": "2023-05-17T15:58:52.909574Z"
    },
    "collapsed": false
   },
   "outputs": [],
   "source": [
    "gdf = bdf.copy()"
   ]
  },
  {
   "cell_type": "code",
   "execution_count": 780,
   "metadata": {
    "ExecuteTime": {
     "end_time": "2023-05-17T15:58:53.034141Z",
     "start_time": "2023-05-17T15:58:52.909784Z"
    },
    "collapsed": false
   },
   "outputs": [],
   "source": [
    "# 輪郭の点群をDataframeとして取得する\n",
    "# 終点が追加されて+1行となる\n",
    "# ポリゴンごとにIDを付与してくれているので、どのポリゴンの点なのか識別できる\n",
    "ex = gdf.geometry.explode(index_parts=True)"
   ]
  },
  {
   "cell_type": "code",
   "execution_count": 781,
   "metadata": {
    "ExecuteTime": {
     "end_time": "2023-05-17T15:58:53.034199Z",
     "start_time": "2023-05-17T15:58:52.909920Z"
    },
    "collapsed": false
   },
   "outputs": [],
   "source": [
    "# GeoSeries to pd.DataFrame\n",
    "df = pd.DataFrame({\n",
    "    \"x\":ex.x,\n",
    "    \"y\":ex.y\n",
    "}).reset_index(drop=False)"
   ]
  },
  {
   "cell_type": "code",
   "execution_count": 782,
   "metadata": {
    "ExecuteTime": {
     "end_time": "2023-05-17T15:58:53.034376Z",
     "start_time": "2023-05-17T15:58:52.910023Z"
    },
    "collapsed": false
   },
   "outputs": [
    {
     "name": "stdout",
     "output_type": "stream",
     "text": [
      "theta Cn 1 41.30988528813098\n",
      "局所方向符号 0\n",
      "theta Cn 2 29.851038825293767\n",
      "局所方向符号 0\n",
      "theta Cn 3 91.23643884137864\n",
      "局所方向符号 2\n",
      "theta Cn 4 21.65993628431892\n",
      "局所方向符号 0\n",
      "theta Cn 5 75.21198258518675\n",
      "局所方向符号 1\n",
      "theta Cn 6 8.66230618480368\n",
      "局所方向符号 0\n",
      "theta Cn 7 12.163009684215861\n",
      "局所方向符号 0\n",
      "theta Cn 8 23.547364753241506\n",
      "局所方向符号 0\n",
      "theta Cn 9 51.08723012887749\n",
      "局所方向符号 1\n",
      "theta Cn 10 90.61753876674429\n",
      "局所方向符号 2\n",
      "theta Cn 11 3.828733641273847\n",
      "局所方向符号 0\n",
      "theta Cn 12 90.63139563460513\n",
      "局所方向符号 2\n",
      "theta Cn 13 87.05919278604185\n",
      "局所方向符号 1\n",
      "theta Cn 14 80.26909982106636\n",
      "局所方向符号 1\n",
      "theta Cn 15 14.082081200404078\n",
      "局所方向符号 0\n",
      "theta Cn 16 24.331650154142345\n",
      "局所方向符号 0\n",
      "theta Cn 17 24.5684744949666\n",
      "局所方向符号 0\n",
      "theta Cn 18 19.793768207668524\n",
      "局所方向符号 0\n",
      "theta Cn 19 4.1131213487333955\n",
      "局所方向符号 0\n",
      "theta Cn 20 5.279430297806654\n",
      "局所方向符号 0\n",
      "theta Cn 21 4.53195514513441\n",
      "局所方向符号 0\n",
      "theta Cn 22 90.8884354922813\n",
      "局所方向符号 2\n",
      "theta Cn 23 3.9283145319603685\n",
      "局所方向符号 0\n",
      "theta Cn 24 3.4806131616014797\n",
      "局所方向符号 0\n",
      "theta Cn 25 89.12152864901911\n",
      "局所方向符号 1\n",
      "theta Cn 26 0.10952937431406959\n",
      "局所方向符号 0\n",
      "theta Cn 27 1.3244874657111994\n",
      "局所方向符号 0\n",
      "theta Cn 28 1.18657092924827\n",
      "局所方向符号 0\n",
      "theta Cn 29 2.6334168078731817\n",
      "局所方向符号 0\n",
      "theta Cn 30 49.96450578677236\n",
      "局所方向符号 1\n",
      "theta Cn 31 47.637851729619\n",
      "局所方向符号 1\n",
      "theta Cn 32 1.4208946029085419\n",
      "局所方向符号 0\n",
      "theta Cn 33 86.357267174253\n",
      "局所方向符号 1\n",
      "theta Cn 34 18.572235852341475\n",
      "局所方向符号 0\n",
      "theta Cn 35 42.423797150677466\n",
      "局所方向符号 0\n",
      "theta Cn 36 196.35221797533853\n",
      "局所方向符号 4\n",
      "theta Cn 37 10.415644904401592\n",
      "局所方向符号 0\n",
      "theta Cn 38 2.801514711150569\n",
      "局所方向符号 0\n",
      "theta Cn 39 4.84154676233534\n",
      "局所方向符号 0\n",
      "theta Cn 40 92.78586453373362\n",
      "局所方向符号 2\n",
      "theta Cn 41 40.47520733034309\n",
      "局所方向符号 0\n",
      "theta Cn 42 36.842354406897314\n",
      "局所方向符号 0\n",
      "theta Cn 43 4.058483945650668\n",
      "局所方向符号 0\n",
      "theta Cn 44 0.6057004226946779\n",
      "局所方向符号 0\n",
      "theta Cn 45 3.010406439750375\n",
      "局所方向符号 0\n",
      "theta Cn 46 4.946446335740379\n",
      "局所方向符号 0\n",
      "theta Cn 47 90.3980439213036\n",
      "局所方向符号 2\n",
      "theta Cn 48 2.1242705477607564\n",
      "局所方向符号 0\n",
      "theta Cn 49 2.0071249938922935\n",
      "局所方向符号 0\n",
      "theta Cn 50 5.038833677509144\n",
      "局所方向符号 0\n",
      "theta Cn 51 88.85271104309454\n",
      "局所方向符号 1\n",
      "theta Cn 52 6.49945464241108\n",
      "局所方向符号 0\n",
      "theta Cn 53 1.572931967501841\n",
      "局所方向符号 0\n",
      "theta Cn 54 10.661344670323704\n",
      "局所方向符号 0\n",
      "theta Cn 55 271.3008185389691\n",
      "局所方向符号 6\n"
     ]
    }
   ],
   "source": [
    "# 局所方向符号を定義する\n",
    "# Cn_secがもとまる\n",
    "cn_list = []\n",
    "for c in range(df.shape[0] - 1):\n",
    "    cc = c + 1\n",
    "    if cc < df.shape[0] - 1:\n",
    "        fir = df.loc[cc-1,:].values\n",
    "        sec = df.loc[cc,:].values\n",
    "        thr = df.loc[cc+1,:].values\n",
    "    else:\n",
    "        fir = df.loc[cc-1,:].values\n",
    "        sec = df.loc[cc,:].values\n",
    "        thr = df.loc[1,:].values\n",
    "\n",
    "    v1 = sec - fir\n",
    "    v2 = thr - sec\n",
    "\n",
    "    if v2[1] < 0 :\n",
    "        r = 180\n",
    "    else:\n",
    "        r = 0\n",
    "\n",
    "    n1 = np.linalg.norm(v1, ord=2)\n",
    "    n2 = np.linalg.norm(v2, ord=2)\n",
    "\n",
    "    d = np.dot(v1, v2)\n",
    "\n",
    "    cos = d / (n1 * n2)\n",
    "\n",
    "    # Cn_secの角度\n",
    "    theta = np.arccos(cos)\n",
    "    theta = r + np.degrees(theta)\n",
    "    print(\"theta\", \"Cn\", cc, theta)\n",
    "\n",
    "    # 局所方向符号:cn\n",
    "    if (0 <= theta < 45):\n",
    "        cn = 0\n",
    "    elif (45 <= theta < 90):\n",
    "        cn = 1\n",
    "    elif (90 <= theta < 135):\n",
    "        cn = 2\n",
    "    elif (135 <= theta < 180):\n",
    "        cn = 3\n",
    "    elif (180 <= theta < 225):\n",
    "        cn = 4\n",
    "    elif (225 <= theta < 270):\n",
    "        cn = 5\n",
    "    elif (270 <= theta < 315):\n",
    "        cn = 6\n",
    "    elif (315 <= theta < 360):\n",
    "        cn = 7\n",
    "\n",
    "    print(\"局所方向符号\", cn)\n",
    "    cn_list.append(cn)"
   ]
  },
  {
   "cell_type": "code",
   "execution_count": 783,
   "metadata": {
    "ExecuteTime": {
     "end_time": "2023-05-17T15:58:53.034455Z",
     "start_time": "2023-05-17T15:58:52.910255Z"
    },
    "collapsed": false
   },
   "outputs": [],
   "source": [
    "# 調整\n",
    "df = df.loc[:df.shape[0] - 2,:]\n",
    "cn_list.insert(0, cn_list[-1])\n",
    "cn_list = cn_list[:-1]\n",
    "df[\"Cn\"] = cn_list"
   ]
  },
  {
   "cell_type": "code",
   "execution_count": 784,
   "metadata": {
    "ExecuteTime": {
     "end_time": "2023-05-17T15:58:53.034576Z",
     "start_time": "2023-05-17T15:58:52.910325Z"
    },
    "collapsed": false
   },
   "outputs": [],
   "source": [
    "# 局所曲率符号: ca\n",
    "# Cai = octmod(Cni - Cni-1 + 11) - 3\n",
    "ca_list = []\n",
    "for l in range(len(cn_list)):\n",
    "    # llは1-8をとる　8をとるとout of range\n",
    "    ll = l + 1\n",
    "    if ll < len(cn_list):\n",
    "        ca = ((cn_list[ll-1] - cn_list[ll] + 11 ) % 8 ) - 3\n",
    "    else:\n",
    "        ca = ((cn_list[ll-1] - cn_list[0] + 11 ) % 8 ) - 3\n",
    "    ca_list.append(ca)\n",
    "df[\"Ca\"] = ca_list"
   ]
  },
  {
   "cell_type": "code",
   "execution_count": 785,
   "metadata": {
    "ExecuteTime": {
     "end_time": "2023-05-17T15:58:53.034628Z",
     "start_time": "2023-05-17T15:58:52.910385Z"
    },
    "collapsed": false
   },
   "outputs": [],
   "source": [
    "def get_range_list(i, k):\n",
    "    x = [tmp for tmp in range(df.shape[0])]\n",
    "    xi = x.index(i)\n",
    "\n",
    "    fir = xi - k\n",
    "    sec = xi\n",
    "    thr = xi + k\n",
    "\n",
    "    if xi - k <= -1:\n",
    "        under = df.shape[0] + xi - k\n",
    "        tun = 0\n",
    "    else:\n",
    "        under = xi - k\n",
    "        tun = 1\n",
    "\n",
    "    if xi + k + 1 >= df.shape[0]:\n",
    "        upper = xi + k + 1 - df.shape[0]\n",
    "        tup = 0\n",
    "    else:\n",
    "        upper = xi + k + 1\n",
    "        tup = 1\n",
    "    if tun * tup == 1:\n",
    "        r_l = x[under:upper]\n",
    "    else:\n",
    "        r_l = x[under:] + x[:upper]\n",
    "\n",
    "    return r_l"
   ]
  },
  {
   "cell_type": "code",
   "execution_count": 786,
   "metadata": {
    "ExecuteTime": {
     "end_time": "2023-05-17T15:58:53.034665Z",
     "start_time": "2023-05-17T15:58:52.910522Z"
    },
    "collapsed": false
   },
   "outputs": [],
   "source": [
    "# G-オペレーション\n",
    "# M: Mは平滑化に用いる曲線上の連続した画素数\n",
    "# Gi: 曲線の曲率半径が小さいほど、絶対値が大きくなる。\n",
    "# 絶対値が大きい部分が曲線の角の部分であると考えられる\n",
    "# +が左回り, -が右回り\n",
    "\n",
    "M = 2\n",
    "k = M - 1\n",
    "s = 0\n",
    "gi_list = []\n",
    "for i in range(df.shape[0]):\n",
    "    r_l = get_range_list(i, k)\n",
    "    c = r_l.index(i)\n",
    "\n",
    "    # CnとCaの値を抽出する\n",
    "    tmp = df.loc[r_l, :]\n",
    "\n",
    "    for tk in range(M-1) :\n",
    "        ca_under = tmp.loc[r_l[c - tk], \"Ca\"]\n",
    "        ca_upper = tmp.loc[r_l[c + tk], \"Ca\"]\n",
    "        # print(ca_under, ca_upper)\n",
    "        s = (M - k+1) * (ca_under + ca_upper) + s\n",
    "\n",
    "    Gi = M * tmp.loc[i, \"Ca\"]  + s\n",
    "    gi_list.append(Gi)\n",
    "df[\"Gi\"] = gi_list"
   ]
  },
  {
   "cell_type": "code",
   "execution_count": 787,
   "metadata": {
    "ExecuteTime": {
     "end_time": "2023-05-17T15:58:53.034814Z",
     "start_time": "2023-05-17T15:58:52.910645Z"
    },
    "collapsed": false
   },
   "outputs": [
    {
     "data": {
      "text/plain": [
       "'\\n一致判定方法（案）\\n\\nQ. 近似的な一致に対応できるか\\nQ.\\n\\n\\n1. 一方のポリゴンをずらしていいって、Giの二条和誤差が最小となるずらし回数を算出\\n2. 相互相関係数: 表をlevel_1で昇順・降順で並べた上で比較しないとずれる\\n3. 相互相関係数\\u3000→\\u3000類似部分を抽出\\u3000→\\u3000逆転\\n\\n'"
      ]
     },
     "execution_count": 787,
     "metadata": {},
     "output_type": "execute_result"
    }
   ],
   "source": [
    "\"\"\"\n",
    "一致判定方法（案）\n",
    "\n",
    "Q. 近似的な一致に対応できるか\n",
    "Q.\n",
    "\n",
    "\n",
    "1. 一方のポリゴンをずらしていいって、Giの二条和誤差が最小となるずらし回数を算出\n",
    "2. 相互相関係数: 表をlevel_1で昇順・降順で並べた上で比較しないとずれる\n",
    "3. 相互相関係数　→　類似部分を抽出　→　逆転\n",
    "\n",
    "\"\"\""
   ]
  },
  {
   "cell_type": "markdown",
   "metadata": {
    "collapsed": false
   },
   "source": [
    "## 符号的：直線・角度的アプローチ"
   ]
  },
  {
   "cell_type": "code",
   "execution_count": 788,
   "metadata": {
    "ExecuteTime": {
     "end_time": "2023-05-17T15:58:53.034937Z",
     "start_time": "2023-05-17T15:58:52.910710Z"
    },
    "collapsed": false
   },
   "outputs": [],
   "source": [
    "tdf = df.copy()"
   ]
  },
  {
   "cell_type": "code",
   "execution_count": 789,
   "metadata": {
    "ExecuteTime": {
     "end_time": "2023-05-17T15:58:53.034992Z",
     "start_time": "2023-05-17T15:58:52.910761Z"
    },
    "collapsed": false
   },
   "outputs": [],
   "source": [
    "# 座標変換\n",
    "min_x = tdf[\"x\"].min()\n",
    "min_y = tdf[\"y\"].min()\n",
    "tdf[\"x\"] = tdf[\"x\"] - min_x\n",
    "tdf[\"y\"] = tdf[\"y\"] - min_y\n"
   ]
  },
  {
   "cell_type": "code",
   "execution_count": 792,
   "metadata": {
    "ExecuteTime": {
     "end_time": "2023-05-17T15:58:54.809443Z",
     "start_time": "2023-05-17T15:58:54.782827Z"
    },
    "collapsed": false
   },
   "outputs": [],
   "source": [
    "# 特徴量の抽出 pd.DataFrame -> list -> pd.DataFrame(datamart)\n",
    "# ポリゴンの個数\n",
    "polygon_num = [i for i in tdf.level_0.unique()]\n",
    "# 各ポリゴンのPOINT数\n",
    "point_num = tdf.groupby(\"level_0\").count()\n",
    "point_num = point_num[\"level_1\"].to_list()\n",
    "# 角の抽出 # 主要な角の抽出条件は・・Cn>1かつCa>1かつGi>14 corner=0:直線, corner=1:角\n",
    "conditions = (tdf[\"Cn\"]>=1) & (tdf[\"Gi\"] != 0)\n",
    "tdf['corner'] = 1\n",
    "tdf.loc[~conditions, 'corner'] = 0\n",
    "\n",
    "# 角の抽出　ポリゴンごとに抽出する\n",
    "# TODO\n",
    "tdf_0 = tdf.loc[df[\"level_0\"] == 0, :]\n",
    "# cornerとlineをlevel_1をindexとして利用してlistで管理する\n",
    "corner_df = tdf_0[tdf_0[\"corner\"] != 0]\n",
    "corner_df = corner_df.reset_index(drop=False)\n",
    "\n",
    "# 直近のcorner同士のxy座標から距離を測定\n",
    "# dfから測定に用いるレコードの組み合わせを抽出　indexを指定する\n",
    "def leftShiftIndex(arr, n):\n",
    "    result = arr[n:] + arr[:n]\n",
    "    return result\n",
    "list1 = corner_df[\"index\"].to_list()\n",
    "list2 = leftShiftIndex(list1,1)\n",
    "line_index_list = []\n",
    "for i,j in zip(list1, list2):\n",
    "    line_index_list.append([i,j])\n",
    "\n",
    "# 距離と傾きを算出 -> corner_dfに結合\n",
    "diff_list = []\n",
    "trend_list = []\n",
    "for k in line_index_list:\n",
    "    ia = k[0]\n",
    "    ib = k[1]\n",
    "    tmp = corner_df[(corner_df[\"index\"] == ia) | (corner_df[\"index\"] == ib)].reset_index(drop=True)\n",
    "    # 距離を計算\n",
    "    diff = ((tmp.loc[1,\"x\"] - tmp.loc[0,\"x\"])**2 + (tmp.loc[1,\"y\"] - tmp.loc[0,\"y\"])**2) ** 1/2\n",
    "    diff_list.append(diff)\n",
    "    # 傾きを計算\n",
    "    trend = ((tmp.loc[0,\"y\"] - tmp.loc[1,\"y\"]) / (tmp.loc[0,\"x\"] - tmp.loc[1,\"x\"]))\n",
    "    trend_list.append(trend)\n",
    "corner_df[\"diff\"] = diff_list\n",
    "corner_df[\"trend\"] = trend_list\n",
    "\n",
    "# diffを丸める\n",
    "from decimal import *\n",
    "\n",
    "def make_round(d):\n",
    "    # getcontext().rounding=ROUND_HALF_UP\n",
    "    # getcontext().prec=1\n",
    "    # d = float(Decimal(d))\n",
    "    d = round(d, -3)\n",
    "    return d\n",
    "\n",
    "corner_df[\"diff\"] = corner_df[\"diff\"].apply(make_round)\n",
    "# corner_df[\"trend\"] = corner_df[\"trend\"].apply(make_round)\n",
    "# corner_df[\"diff\"] = corner_df[\"diff\"] * corner_df[\"trend\"]"
   ]
  },
  {
   "cell_type": "code",
   "execution_count": 793,
   "metadata": {
    "ExecuteTime": {
     "end_time": "2023-05-17T15:58:58.520785Z",
     "start_time": "2023-05-17T15:58:58.500445Z"
    },
    "collapsed": false
   },
   "outputs": [],
   "source": [
    "ans_0 = corner_df.copy()\n",
    "# ans_1 = corner_df.copy()"
   ]
  },
  {
   "cell_type": "code",
   "execution_count": 794,
   "metadata": {
    "ExecuteTime": {
     "end_time": "2023-05-17T15:58:59.375778Z",
     "start_time": "2023-05-17T15:58:59.364889Z"
    },
    "collapsed": false
   },
   "outputs": [],
   "source": [
    "ans_0 = ans_0[ans_0[\"diff\"] != 0]\n",
    "ans_1 = ans_1.sort_values(\"index\",ascending=False)\n",
    "ans_1 = ans_1[ans_1[\"diff\"] != 0]"
   ]
  },
  {
   "cell_type": "code",
   "execution_count": 795,
   "metadata": {
    "ExecuteTime": {
     "end_time": "2023-05-17T15:59:00.144848Z",
     "start_time": "2023-05-17T15:58:59.936379Z"
    },
    "collapsed": false
   },
   "outputs": [
    {
     "data": {
      "text/plain": [
       "<Axes: >"
      ]
     },
     "execution_count": 795,
     "metadata": {},
     "output_type": "execute_result"
    },
    {
     "data": {
      "image/png": "[encoded data removed]",
      "text/plain": [
       "<Figure size 640x480 with 1 Axes>"
      ]
     },
     "metadata": {},
     "output_type": "display_data"
    }
   ],
   "source": [
    "p0 = Polygon(gpd.points_from_xy(ans_0[\"x\"], ans_0[\"y\"]))\n",
    "p1 = Polygon(gpd.points_from_xy(ans_1[\"x\"], ans_1[\"y\"]))\n",
    "r_gdf = gpd.GeoDataFrame([p0, p1], geometry=0)\n",
    "r_gdf.plot()"
   ]
  },
  {
   "cell_type": "code",
   "execution_count": 796,
   "metadata": {
    "ExecuteTime": {
     "end_time": "2023-05-17T15:59:54.640955Z",
     "start_time": "2023-05-17T15:59:54.449341Z"
    },
    "collapsed": false
   },
   "outputs": [
    {
     "data": {
      "text/plain": [
       "240.62874052731692"
      ]
     },
     "execution_count": 796,
     "metadata": {},
     "output_type": "execute_result"
    }
   ],
   "source": [
    "r_gdf[\"centroid\"] = r_gdf.centroid\n",
    "distance = r_gdf.loc[0,\"centroid\"].distance(r_gdf.loc[1,\"centroid\"])\n",
    "distance"
   ]
  },
  {
   "cell_type": "code",
   "execution_count": 797,
   "metadata": {
    "ExecuteTime": {
     "end_time": "2023-05-17T15:59:55.783853Z",
     "start_time": "2023-05-17T15:59:55.708121Z"
    },
    "collapsed": false
   },
   "outputs": [
    {
     "data": {
      "text/html": [
       "<div>\n",
       "<style scoped>\n",
       "    .dataframe tbody tr th:only-of-type {\n",
       "        vertical-align: middle;\n",
       "    }\n",
       "\n",
       "    .dataframe tbody tr th {\n",
       "        vertical-align: top;\n",
       "    }\n",
       "\n",
       "    .dataframe thead th {\n",
       "        text-align: right;\n",
       "    }\n",
       "</style>\n",
       "<table border=\"1\" class=\"dataframe\">\n",
       "  <thead>\n",
       "    <tr style=\"text-align: right;\">\n",
       "      <th></th>\n",
       "      <th>index</th>\n",
       "      <th>level_0</th>\n",
       "      <th>level_1</th>\n",
       "      <th>x</th>\n",
       "      <th>y</th>\n",
       "      <th>Cn</th>\n",
       "      <th>Ca</th>\n",
       "      <th>Gi</th>\n",
       "      <th>corner</th>\n",
       "      <th>diff</th>\n",
       "      <th>trend</th>\n",
       "    </tr>\n",
       "  </thead>\n",
       "  <tbody>\n",
       "    <tr>\n",
       "      <th>0</th>\n",
       "      <td>0</td>\n",
       "      <td>0</td>\n",
       "      <td>0</td>\n",
       "      <td>30.290</td>\n",
       "      <td>295.059</td>\n",
       "      <td>6</td>\n",
       "      <td>-2</td>\n",
       "      <td>-12</td>\n",
       "      <td>1</td>\n",
       "      <td>12000.0</td>\n",
       "      <td>0.019031</td>\n",
       "    </tr>\n",
       "    <tr>\n",
       "      <th>4</th>\n",
       "      <td>10</td>\n",
       "      <td>0</td>\n",
       "      <td>10</td>\n",
       "      <td>181.118</td>\n",
       "      <td>260.839</td>\n",
       "      <td>2</td>\n",
       "      <td>2</td>\n",
       "      <td>-4</td>\n",
       "      <td>1</td>\n",
       "      <td>1000.0</td>\n",
       "      <td>-0.059361</td>\n",
       "    </tr>\n",
       "    <tr>\n",
       "      <th>7</th>\n",
       "      <td>14</td>\n",
       "      <td>0</td>\n",
       "      <td>14</td>\n",
       "      <td>227.149</td>\n",
       "      <td>242.229</td>\n",
       "      <td>1</td>\n",
       "      <td>1</td>\n",
       "      <td>-6</td>\n",
       "      <td>1</td>\n",
       "      <td>27000.0</td>\n",
       "      <td>12.582781</td>\n",
       "    </tr>\n",
       "    <tr>\n",
       "      <th>8</th>\n",
       "      <td>22</td>\n",
       "      <td>0</td>\n",
       "      <td>22</td>\n",
       "      <td>208.751</td>\n",
       "      <td>10.731</td>\n",
       "      <td>2</td>\n",
       "      <td>2</td>\n",
       "      <td>-4</td>\n",
       "      <td>1</td>\n",
       "      <td>22000.0</td>\n",
       "      <td>-0.083061</td>\n",
       "    </tr>\n",
       "    <tr>\n",
       "      <th>9</th>\n",
       "      <td>25</td>\n",
       "      <td>0</td>\n",
       "      <td>25</td>\n",
       "      <td>0.000</td>\n",
       "      <td>28.070</td>\n",
       "      <td>1</td>\n",
       "      <td>1</td>\n",
       "      <td>-6</td>\n",
       "      <td>1</td>\n",
       "      <td>27000.0</td>\n",
       "      <td>20.349836</td>\n",
       "    </tr>\n",
       "    <tr>\n",
       "      <th>11</th>\n",
       "      <td>31</td>\n",
       "      <td>0</td>\n",
       "      <td>31</td>\n",
       "      <td>17.411</td>\n",
       "      <td>263.267</td>\n",
       "      <td>1</td>\n",
       "      <td>1</td>\n",
       "      <td>-6</td>\n",
       "      <td>1</td>\n",
       "      <td>1000.0</td>\n",
       "      <td>24.925432</td>\n",
       "    </tr>\n",
       "  </tbody>\n",
       "</table>\n",
       "</div>"
      ],
      "text/plain": [
       "    index  level_0  level_1        x        y  Cn  Ca  Gi  corner     diff   \n",
       "0       0        0        0   30.290  295.059   6  -2 -12       1  12000.0  \\\n",
       "4      10        0       10  181.118  260.839   2   2  -4       1   1000.0   \n",
       "7      14        0       14  227.149  242.229   1   1  -6       1  27000.0   \n",
       "8      22        0       22  208.751   10.731   2   2  -4       1  22000.0   \n",
       "9      25        0       25    0.000   28.070   1   1  -6       1  27000.0   \n",
       "11     31        0       31   17.411  263.267   1   1  -6       1   1000.0   \n",
       "\n",
       "        trend  \n",
       "0    0.019031  \n",
       "4   -0.059361  \n",
       "7   12.582781  \n",
       "8   -0.083061  \n",
       "9   20.349836  \n",
       "11  24.925432  "
      ]
     },
     "execution_count": 797,
     "metadata": {},
     "output_type": "execute_result"
    }
   ],
   "source": [
    "ans_0"
   ]
  },
  {
   "cell_type": "code",
   "execution_count": 798,
   "metadata": {
    "ExecuteTime": {
     "end_time": "2023-05-17T15:59:56.170492Z",
     "start_time": "2023-05-17T15:59:56.132359Z"
    },
    "collapsed": false
   },
   "outputs": [
    {
     "data": {
      "text/html": [
       "<div>\n",
       "<style scoped>\n",
       "    .dataframe tbody tr th:only-of-type {\n",
       "        vertical-align: middle;\n",
       "    }\n",
       "\n",
       "    .dataframe tbody tr th {\n",
       "        vertical-align: top;\n",
       "    }\n",
       "\n",
       "    .dataframe thead th {\n",
       "        text-align: right;\n",
       "    }\n",
       "</style>\n",
       "<table border=\"1\" class=\"dataframe\">\n",
       "  <thead>\n",
       "    <tr style=\"text-align: right;\">\n",
       "      <th></th>\n",
       "      <th>index</th>\n",
       "      <th>level_0</th>\n",
       "      <th>level_1</th>\n",
       "      <th>x</th>\n",
       "      <th>y</th>\n",
       "      <th>Cn</th>\n",
       "      <th>Ca</th>\n",
       "      <th>Gi</th>\n",
       "      <th>corner</th>\n",
       "      <th>diff</th>\n",
       "      <th>trend</th>\n",
       "    </tr>\n",
       "  </thead>\n",
       "  <tbody>\n",
       "    <tr>\n",
       "      <th>2</th>\n",
       "      <td>51</td>\n",
       "      <td>1</td>\n",
       "      <td>14</td>\n",
       "      <td>264.316</td>\n",
       "      <td>0.000</td>\n",
       "      <td>1</td>\n",
       "      <td>1</td>\n",
       "      <td>26</td>\n",
       "      <td>1</td>\n",
       "      <td>57000.0</td>\n",
       "      <td>2.808426</td>\n",
       "    </tr>\n",
       "    <tr>\n",
       "      <th>1</th>\n",
       "      <td>47</td>\n",
       "      <td>1</td>\n",
       "      <td>10</td>\n",
       "      <td>406.239</td>\n",
       "      <td>2.598</td>\n",
       "      <td>2</td>\n",
       "      <td>2</td>\n",
       "      <td>28</td>\n",
       "      <td>1</td>\n",
       "      <td>10000.0</td>\n",
       "      <td>0.018306</td>\n",
       "    </tr>\n",
       "    <tr>\n",
       "      <th>0</th>\n",
       "      <td>40</td>\n",
       "      <td>1</td>\n",
       "      <td>3</td>\n",
       "      <td>377.964</td>\n",
       "      <td>319.172</td>\n",
       "      <td>2</td>\n",
       "      <td>2</td>\n",
       "      <td>28</td>\n",
       "      <td>1</td>\n",
       "      <td>51000.0</td>\n",
       "      <td>-11.196251</td>\n",
       "    </tr>\n",
       "  </tbody>\n",
       "</table>\n",
       "</div>"
      ],
      "text/plain": [
       "   index  level_0  level_1        x        y  Cn  Ca  Gi  corner     diff   \n",
       "2     51        1       14  264.316    0.000   1   1  26       1  57000.0  \\\n",
       "1     47        1       10  406.239    2.598   2   2  28       1  10000.0   \n",
       "0     40        1        3  377.964  319.172   2   2  28       1  51000.0   \n",
       "\n",
       "       trend  \n",
       "2   2.808426  \n",
       "1   0.018306  \n",
       "0 -11.196251  "
      ]
     },
     "execution_count": 798,
     "metadata": {},
     "output_type": "execute_result"
    }
   ],
   "source": [
    "ans_1"
   ]
  },
  {
   "cell_type": "markdown",
   "metadata": {
    "collapsed": false
   },
   "source": [
    "## 最小二乗法"
   ]
  },
  {
   "cell_type": "code",
   "execution_count": 799,
   "metadata": {
    "ExecuteTime": {
     "end_time": "2023-05-17T15:59:57.399920Z",
     "start_time": "2023-05-17T15:59:57.338965Z"
    },
    "collapsed": false
   },
   "outputs": [],
   "source": [
    "a0_df = ans_0.copy()\n",
    "a1_df = ans_1.copy()\n",
    "a0_diff_list = a0_df[\"diff\"]\n",
    "a1_diff_list = a1_df[\"diff\"]\n",
    "a0_trend_list = a0_df[\"trend\"]\n",
    "a1_trend_list = a1_df[\"trend\"]"
   ]
  },
  {
   "cell_type": "code",
   "execution_count": 800,
   "metadata": {
    "ExecuteTime": {
     "end_time": "2023-05-17T15:59:57.977302Z",
     "start_time": "2023-05-17T15:59:57.839104Z"
    },
    "collapsed": false
   },
   "outputs": [
    {
     "name": "stdout",
     "output_type": "stream",
     "text": [
      "最小二乗誤差: 1620000000.0\n",
      "最適なずらし: 4\n",
      "最小二乗誤差: 289.5932395454801\n",
      "最適なずらし: 5\n"
     ]
    }
   ],
   "source": [
    "def calculate_shifted_lse(arr1, arr2):\n",
    "    min_error = np.inf\n",
    "    best_shift = None\n",
    "\n",
    "    # 配列1をずらしながら最小二乗誤差を計算\n",
    "    for shift in range(len(arr1)):\n",
    "        shifted_arr1 = np.roll(arr1, shift)\n",
    "        error = np.sum((shifted_arr1[:len(arr2)] - arr2) ** 2)\n",
    "\n",
    "        if error < min_error:\n",
    "            min_error = error\n",
    "            best_shift = shift\n",
    "\n",
    "    return min_error, best_shift\n",
    "\n",
    "# サンプルの配列を作成\n",
    "# len(arr2) > len(arr1)\n",
    "if len(a0_diff_list) >= len(a1_diff_list):\n",
    "    arr1_diff = a0_diff_list\n",
    "    arr2_diff = a1_diff_list\n",
    "    arr1_trend = a0_trend_list\n",
    "    arr2_trend = a1_trend_list\n",
    "else:\n",
    "    arr1_diff = a1_diff_list\n",
    "    arr2_diff = a0_diff_list\n",
    "    arr1_trend = a1_trend_list\n",
    "    arr2_trend = a0_trend_list\n",
    "\n",
    "# ずらしながら最小二乗誤差を計算\n",
    "error_diff, shift_diff = calculate_shifted_lse(arr1_diff, arr2_diff)\n",
    "error_trend, shift_trend = calculate_shifted_lse(arr1_trend, arr2_trend)\n",
    "print(f\"最小二乗誤差: {error_diff}\")\n",
    "print(f\"最適なずらし: {shift_diff}\") # OK\n",
    "print(f\"最小二乗誤差: {error_trend}\")\n",
    "print(f\"最適なずらし: {shift_trend}\") # OK\n",
    "ss_list = [shift_diff, shift_trend]\n",
    "shift = shift_diff"
   ]
  },
  {
   "cell_type": "code",
   "execution_count": 801,
   "metadata": {
    "ExecuteTime": {
     "end_time": "2023-05-17T15:59:58.595257Z",
     "start_time": "2023-05-17T15:59:58.589090Z"
    },
    "collapsed": false
   },
   "outputs": [
    {
     "data": {
      "text/plain": [
       "[4, 5]"
      ]
     },
     "execution_count": 801,
     "metadata": {},
     "output_type": "execute_result"
    }
   ],
   "source": [
    "ss_list"
   ]
  },
  {
   "cell_type": "code",
   "execution_count": 802,
   "metadata": {
    "ExecuteTime": {
     "end_time": "2023-05-17T15:59:59.174440Z",
     "start_time": "2023-05-17T15:59:59.166083Z"
    },
    "collapsed": false
   },
   "outputs": [
    {
     "data": {
      "text/html": [
       "<div>\n",
       "<style scoped>\n",
       "    .dataframe tbody tr th:only-of-type {\n",
       "        vertical-align: middle;\n",
       "    }\n",
       "\n",
       "    .dataframe tbody tr th {\n",
       "        vertical-align: top;\n",
       "    }\n",
       "\n",
       "    .dataframe thead th {\n",
       "        text-align: right;\n",
       "    }\n",
       "</style>\n",
       "<table border=\"1\" class=\"dataframe\">\n",
       "  <thead>\n",
       "    <tr style=\"text-align: right;\">\n",
       "      <th></th>\n",
       "      <th>index</th>\n",
       "      <th>level_0</th>\n",
       "      <th>level_1</th>\n",
       "      <th>x</th>\n",
       "      <th>y</th>\n",
       "      <th>Cn</th>\n",
       "      <th>Ca</th>\n",
       "      <th>Gi</th>\n",
       "      <th>corner</th>\n",
       "      <th>diff</th>\n",
       "      <th>trend</th>\n",
       "    </tr>\n",
       "  </thead>\n",
       "  <tbody>\n",
       "    <tr>\n",
       "      <th>0</th>\n",
       "      <td>0</td>\n",
       "      <td>0</td>\n",
       "      <td>0</td>\n",
       "      <td>30.290</td>\n",
       "      <td>295.059</td>\n",
       "      <td>6</td>\n",
       "      <td>-2</td>\n",
       "      <td>-12</td>\n",
       "      <td>1</td>\n",
       "      <td>12000.0</td>\n",
       "      <td>0.019031</td>\n",
       "    </tr>\n",
       "    <tr>\n",
       "      <th>4</th>\n",
       "      <td>10</td>\n",
       "      <td>0</td>\n",
       "      <td>10</td>\n",
       "      <td>181.118</td>\n",
       "      <td>260.839</td>\n",
       "      <td>2</td>\n",
       "      <td>2</td>\n",
       "      <td>-4</td>\n",
       "      <td>1</td>\n",
       "      <td>1000.0</td>\n",
       "      <td>-0.059361</td>\n",
       "    </tr>\n",
       "    <tr>\n",
       "      <th>7</th>\n",
       "      <td>14</td>\n",
       "      <td>0</td>\n",
       "      <td>14</td>\n",
       "      <td>227.149</td>\n",
       "      <td>242.229</td>\n",
       "      <td>1</td>\n",
       "      <td>1</td>\n",
       "      <td>-6</td>\n",
       "      <td>1</td>\n",
       "      <td>27000.0</td>\n",
       "      <td>12.582781</td>\n",
       "    </tr>\n",
       "    <tr>\n",
       "      <th>8</th>\n",
       "      <td>22</td>\n",
       "      <td>0</td>\n",
       "      <td>22</td>\n",
       "      <td>208.751</td>\n",
       "      <td>10.731</td>\n",
       "      <td>2</td>\n",
       "      <td>2</td>\n",
       "      <td>-4</td>\n",
       "      <td>1</td>\n",
       "      <td>22000.0</td>\n",
       "      <td>-0.083061</td>\n",
       "    </tr>\n",
       "    <tr>\n",
       "      <th>9</th>\n",
       "      <td>25</td>\n",
       "      <td>0</td>\n",
       "      <td>25</td>\n",
       "      <td>0.000</td>\n",
       "      <td>28.070</td>\n",
       "      <td>1</td>\n",
       "      <td>1</td>\n",
       "      <td>-6</td>\n",
       "      <td>1</td>\n",
       "      <td>27000.0</td>\n",
       "      <td>20.349836</td>\n",
       "    </tr>\n",
       "    <tr>\n",
       "      <th>11</th>\n",
       "      <td>31</td>\n",
       "      <td>0</td>\n",
       "      <td>31</td>\n",
       "      <td>17.411</td>\n",
       "      <td>263.267</td>\n",
       "      <td>1</td>\n",
       "      <td>1</td>\n",
       "      <td>-6</td>\n",
       "      <td>1</td>\n",
       "      <td>1000.0</td>\n",
       "      <td>24.925432</td>\n",
       "    </tr>\n",
       "  </tbody>\n",
       "</table>\n",
       "</div>"
      ],
      "text/plain": [
       "    index  level_0  level_1        x        y  Cn  Ca  Gi  corner     diff   \n",
       "0       0        0        0   30.290  295.059   6  -2 -12       1  12000.0  \\\n",
       "4      10        0       10  181.118  260.839   2   2  -4       1   1000.0   \n",
       "7      14        0       14  227.149  242.229   1   1  -6       1  27000.0   \n",
       "8      22        0       22  208.751   10.731   2   2  -4       1  22000.0   \n",
       "9      25        0       25    0.000   28.070   1   1  -6       1  27000.0   \n",
       "11     31        0       31   17.411  263.267   1   1  -6       1   1000.0   \n",
       "\n",
       "        trend  \n",
       "0    0.019031  \n",
       "4   -0.059361  \n",
       "7   12.582781  \n",
       "8   -0.083061  \n",
       "9   20.349836  \n",
       "11  24.925432  "
      ]
     },
     "execution_count": 802,
     "metadata": {},
     "output_type": "execute_result"
    }
   ],
   "source": [
    "a0_df"
   ]
  },
  {
   "cell_type": "code",
   "execution_count": 803,
   "metadata": {
    "ExecuteTime": {
     "end_time": "2023-05-17T15:59:59.759398Z",
     "start_time": "2023-05-17T15:59:59.737876Z"
    },
    "collapsed": false
   },
   "outputs": [
    {
     "data": {
      "text/html": [
       "<div>\n",
       "<style scoped>\n",
       "    .dataframe tbody tr th:only-of-type {\n",
       "        vertical-align: middle;\n",
       "    }\n",
       "\n",
       "    .dataframe tbody tr th {\n",
       "        vertical-align: top;\n",
       "    }\n",
       "\n",
       "    .dataframe thead th {\n",
       "        text-align: right;\n",
       "    }\n",
       "</style>\n",
       "<table border=\"1\" class=\"dataframe\">\n",
       "  <thead>\n",
       "    <tr style=\"text-align: right;\">\n",
       "      <th></th>\n",
       "      <th>index</th>\n",
       "      <th>level_0</th>\n",
       "      <th>level_1</th>\n",
       "      <th>x</th>\n",
       "      <th>y</th>\n",
       "      <th>Cn</th>\n",
       "      <th>Ca</th>\n",
       "      <th>Gi</th>\n",
       "      <th>corner</th>\n",
       "      <th>diff</th>\n",
       "      <th>trend</th>\n",
       "    </tr>\n",
       "  </thead>\n",
       "  <tbody>\n",
       "    <tr>\n",
       "      <th>2</th>\n",
       "      <td>51</td>\n",
       "      <td>1</td>\n",
       "      <td>14</td>\n",
       "      <td>264.316</td>\n",
       "      <td>0.000</td>\n",
       "      <td>1</td>\n",
       "      <td>1</td>\n",
       "      <td>26</td>\n",
       "      <td>1</td>\n",
       "      <td>57000.0</td>\n",
       "      <td>2.808426</td>\n",
       "    </tr>\n",
       "    <tr>\n",
       "      <th>1</th>\n",
       "      <td>47</td>\n",
       "      <td>1</td>\n",
       "      <td>10</td>\n",
       "      <td>406.239</td>\n",
       "      <td>2.598</td>\n",
       "      <td>2</td>\n",
       "      <td>2</td>\n",
       "      <td>28</td>\n",
       "      <td>1</td>\n",
       "      <td>10000.0</td>\n",
       "      <td>0.018306</td>\n",
       "    </tr>\n",
       "    <tr>\n",
       "      <th>0</th>\n",
       "      <td>40</td>\n",
       "      <td>1</td>\n",
       "      <td>3</td>\n",
       "      <td>377.964</td>\n",
       "      <td>319.172</td>\n",
       "      <td>2</td>\n",
       "      <td>2</td>\n",
       "      <td>28</td>\n",
       "      <td>1</td>\n",
       "      <td>51000.0</td>\n",
       "      <td>-11.196251</td>\n",
       "    </tr>\n",
       "  </tbody>\n",
       "</table>\n",
       "</div>"
      ],
      "text/plain": [
       "   index  level_0  level_1        x        y  Cn  Ca  Gi  corner     diff   \n",
       "2     51        1       14  264.316    0.000   1   1  26       1  57000.0  \\\n",
       "1     47        1       10  406.239    2.598   2   2  28       1  10000.0   \n",
       "0     40        1        3  377.964  319.172   2   2  28       1  51000.0   \n",
       "\n",
       "       trend  \n",
       "2   2.808426  \n",
       "1   0.018306  \n",
       "0 -11.196251  "
      ]
     },
     "execution_count": 803,
     "metadata": {},
     "output_type": "execute_result"
    }
   ],
   "source": [
    "a1_df"
   ]
  },
  {
   "cell_type": "code",
   "execution_count": 804,
   "metadata": {
    "ExecuteTime": {
     "end_time": "2023-05-17T16:00:00.866058Z",
     "start_time": "2023-05-17T16:00:00.435845Z"
    },
    "collapsed": false
   },
   "outputs": [
    {
     "name": "stdout",
     "output_type": "stream",
     "text": [
      "181.118 260.83899999999994 264.31600000000003 0.0\n",
      "181.118 260.83899999999994 406.23900000000003 2.5979999999999563\n",
      "181.118 260.83899999999994 377.964 319.172\n"
     ]
    },
    {
     "ename": "KeyError",
     "evalue": "3",
     "output_type": "error",
     "traceback": [
      "\u001b[0;31m---------------------------------------------------------------------------\u001b[0m",
      "\u001b[0;31mValueError\u001b[0m                                Traceback (most recent call last)",
      "File \u001b[0;32m/usr/local/lib/python3.9/site-packages/pandas/core/indexes/range.py:345\u001b[0m, in \u001b[0;36mRangeIndex.get_loc\u001b[0;34m(self, key)\u001b[0m\n\u001b[1;32m    344\u001b[0m \u001b[38;5;28;01mtry\u001b[39;00m:\n\u001b[0;32m--> 345\u001b[0m     \u001b[38;5;28;01mreturn\u001b[39;00m \u001b[38;5;28;43mself\u001b[39;49m\u001b[38;5;241;43m.\u001b[39;49m\u001b[43m_range\u001b[49m\u001b[38;5;241;43m.\u001b[39;49m\u001b[43mindex\u001b[49m\u001b[43m(\u001b[49m\u001b[43mnew_key\u001b[49m\u001b[43m)\u001b[49m\n\u001b[1;32m    346\u001b[0m \u001b[38;5;28;01mexcept\u001b[39;00m \u001b[38;5;167;01mValueError\u001b[39;00m \u001b[38;5;28;01mas\u001b[39;00m err:\n",
      "\u001b[0;31mValueError\u001b[0m: 3 is not in range",
      "\nThe above exception was the direct cause of the following exception:\n",
      "\u001b[0;31mKeyError\u001b[0m                                  Traceback (most recent call last)",
      "Cell \u001b[0;32mIn[804], line 18\u001b[0m\n\u001b[1;32m     16\u001b[0m l0_x \u001b[38;5;241m=\u001b[39m l0\u001b[38;5;241m.\u001b[39mloc[\u001b[38;5;241m1\u001b[39m, \u001b[38;5;124m\"\u001b[39m\u001b[38;5;124mx\u001b[39m\u001b[38;5;124m\"\u001b[39m]\n\u001b[1;32m     17\u001b[0m l0_y \u001b[38;5;241m=\u001b[39m l0\u001b[38;5;241m.\u001b[39mloc[\u001b[38;5;241m1\u001b[39m, \u001b[38;5;124m\"\u001b[39m\u001b[38;5;124my\u001b[39m\u001b[38;5;124m\"\u001b[39m]\n\u001b[0;32m---> 18\u001b[0m l1_x \u001b[38;5;241m=\u001b[39m \u001b[43ml1\u001b[49m\u001b[38;5;241;43m.\u001b[39;49m\u001b[43mloc\u001b[49m\u001b[43m[\u001b[49m\u001b[43mdiff_index\u001b[49m\u001b[43m,\u001b[49m\u001b[43m \u001b[49m\u001b[38;5;124;43m\"\u001b[39;49m\u001b[38;5;124;43mx\u001b[39;49m\u001b[38;5;124;43m\"\u001b[39;49m\u001b[43m]\u001b[49m\n\u001b[1;32m     19\u001b[0m l1_y \u001b[38;5;241m=\u001b[39m l1\u001b[38;5;241m.\u001b[39mloc[diff_index, \u001b[38;5;124m\"\u001b[39m\u001b[38;5;124my\u001b[39m\u001b[38;5;124m\"\u001b[39m]\n\u001b[1;32m     20\u001b[0m \u001b[38;5;28mprint\u001b[39m(l0_x, l0_y, l1_x, l1_y)\n",
      "File \u001b[0;32m/usr/local/lib/python3.9/site-packages/pandas/core/indexing.py:1096\u001b[0m, in \u001b[0;36m_LocationIndexer.__getitem__\u001b[0;34m(self, key)\u001b[0m\n\u001b[1;32m   1094\u001b[0m     key \u001b[38;5;241m=\u001b[39m \u001b[38;5;28mtuple\u001b[39m(com\u001b[38;5;241m.\u001b[39mapply_if_callable(x, \u001b[38;5;28mself\u001b[39m\u001b[38;5;241m.\u001b[39mobj) \u001b[38;5;28;01mfor\u001b[39;00m x \u001b[38;5;129;01min\u001b[39;00m key)\n\u001b[1;32m   1095\u001b[0m     \u001b[38;5;28;01mif\u001b[39;00m \u001b[38;5;28mself\u001b[39m\u001b[38;5;241m.\u001b[39m_is_scalar_access(key):\n\u001b[0;32m-> 1096\u001b[0m         \u001b[38;5;28;01mreturn\u001b[39;00m \u001b[38;5;28;43mself\u001b[39;49m\u001b[38;5;241;43m.\u001b[39;49m\u001b[43mobj\u001b[49m\u001b[38;5;241;43m.\u001b[39;49m\u001b[43m_get_value\u001b[49m\u001b[43m(\u001b[49m\u001b[38;5;241;43m*\u001b[39;49m\u001b[43mkey\u001b[49m\u001b[43m,\u001b[49m\u001b[43m \u001b[49m\u001b[43mtakeable\u001b[49m\u001b[38;5;241;43m=\u001b[39;49m\u001b[38;5;28;43mself\u001b[39;49m\u001b[38;5;241;43m.\u001b[39;49m\u001b[43m_takeable\u001b[49m\u001b[43m)\u001b[49m\n\u001b[1;32m   1097\u001b[0m     \u001b[38;5;28;01mreturn\u001b[39;00m \u001b[38;5;28mself\u001b[39m\u001b[38;5;241m.\u001b[39m_getitem_tuple(key)\n\u001b[1;32m   1098\u001b[0m \u001b[38;5;28;01melse\u001b[39;00m:\n\u001b[1;32m   1099\u001b[0m     \u001b[38;5;66;03m# we by definition only have the 0th axis\u001b[39;00m\n",
      "File \u001b[0;32m/usr/local/lib/python3.9/site-packages/pandas/core/frame.py:3887\u001b[0m, in \u001b[0;36mDataFrame._get_value\u001b[0;34m(self, index, col, takeable)\u001b[0m\n\u001b[1;32m   3881\u001b[0m engine \u001b[38;5;241m=\u001b[39m \u001b[38;5;28mself\u001b[39m\u001b[38;5;241m.\u001b[39mindex\u001b[38;5;241m.\u001b[39m_engine\n\u001b[1;32m   3883\u001b[0m \u001b[38;5;28;01mif\u001b[39;00m \u001b[38;5;129;01mnot\u001b[39;00m \u001b[38;5;28misinstance\u001b[39m(\u001b[38;5;28mself\u001b[39m\u001b[38;5;241m.\u001b[39mindex, MultiIndex):\n\u001b[1;32m   3884\u001b[0m     \u001b[38;5;66;03m# CategoricalIndex: Trying to use the engine fastpath may give incorrect\u001b[39;00m\n\u001b[1;32m   3885\u001b[0m     \u001b[38;5;66;03m#  results if our categories are integers that dont match our codes\u001b[39;00m\n\u001b[1;32m   3886\u001b[0m     \u001b[38;5;66;03m# IntervalIndex: IntervalTree has no get_loc\u001b[39;00m\n\u001b[0;32m-> 3887\u001b[0m     row \u001b[38;5;241m=\u001b[39m \u001b[38;5;28;43mself\u001b[39;49m\u001b[38;5;241;43m.\u001b[39;49m\u001b[43mindex\u001b[49m\u001b[38;5;241;43m.\u001b[39;49m\u001b[43mget_loc\u001b[49m\u001b[43m(\u001b[49m\u001b[43mindex\u001b[49m\u001b[43m)\u001b[49m\n\u001b[1;32m   3888\u001b[0m     \u001b[38;5;28;01mreturn\u001b[39;00m series\u001b[38;5;241m.\u001b[39m_values[row]\n\u001b[1;32m   3890\u001b[0m \u001b[38;5;66;03m# For MultiIndex going through engine effectively restricts us to\u001b[39;00m\n\u001b[1;32m   3891\u001b[0m \u001b[38;5;66;03m#  same-length tuples; see test_get_set_value_no_partial_indexing\u001b[39;00m\n",
      "File \u001b[0;32m/usr/local/lib/python3.9/site-packages/pandas/core/indexes/range.py:347\u001b[0m, in \u001b[0;36mRangeIndex.get_loc\u001b[0;34m(self, key)\u001b[0m\n\u001b[1;32m    345\u001b[0m         \u001b[38;5;28;01mreturn\u001b[39;00m \u001b[38;5;28mself\u001b[39m\u001b[38;5;241m.\u001b[39m_range\u001b[38;5;241m.\u001b[39mindex(new_key)\n\u001b[1;32m    346\u001b[0m     \u001b[38;5;28;01mexcept\u001b[39;00m \u001b[38;5;167;01mValueError\u001b[39;00m \u001b[38;5;28;01mas\u001b[39;00m err:\n\u001b[0;32m--> 347\u001b[0m         \u001b[38;5;28;01mraise\u001b[39;00m \u001b[38;5;167;01mKeyError\u001b[39;00m(key) \u001b[38;5;28;01mfrom\u001b[39;00m \u001b[38;5;21;01merr\u001b[39;00m\n\u001b[1;32m    348\u001b[0m \u001b[38;5;28;01mif\u001b[39;00m \u001b[38;5;28misinstance\u001b[39m(key, Hashable):\n\u001b[1;32m    349\u001b[0m     \u001b[38;5;28;01mraise\u001b[39;00m \u001b[38;5;167;01mKeyError\u001b[39;00m(key)\n",
      "\u001b[0;31mKeyError\u001b[0m: 3"
     ]
    }
   ],
   "source": [
    "l0 = a0_df[[\"level_0\", \"level_1\", \"x\", \"y\", \"Gi\"]].reset_index(drop=True)\n",
    "l1 = a1_df[[\"level_0\", \"level_1\", \"x\", \"y\", \"Gi\"]].sort_values('level_1', ascending=False).reset_index(\n",
    "    drop=True).reset_index(drop=False)\n",
    "\n",
    "# アンサンブルのために複数の候補を試す\n",
    "dd_list = []\n",
    "diff_x_list = []\n",
    "diff_y_list = []\n",
    "for shift in ss_list:\n",
    "    shift_list = [shift-1, shift, shift+1, shift+2, shift+3, shift+5]\n",
    "    for diff_index in shift_list:\n",
    "        # シフトを標準から±いくつかを試す。\n",
    "        if diff_index >= l1.shape[0]:\n",
    "            diff_index = diff_index - l1.shape[0]\n",
    "\n",
    "        l0_x = l0.loc[1, \"x\"]\n",
    "        l0_y = l0.loc[1, \"y\"]\n",
    "        l1_x = l1.loc[diff_index, \"x\"]\n",
    "        l1_y = l1.loc[diff_index, \"y\"]\n",
    "        print(l0_x, l0_y, l1_x, l1_y)\n",
    "        diff_x = l0_x - l1_x\n",
    "        diff_y = l0_y - l1_y\n",
    "        diff_x_list.append(diff_x)\n",
    "        diff_y_list.append(diff_y)\n",
    "        # 移動距離（判定に使う）\n",
    "        dd = ((diff_x)**2 + (diff_y)**2) ** 1/2\n",
    "        dd_list.append(dd)\n",
    "min_index = dd_list.index(min(dd_list))\n",
    "diff_x = diff_x_list[min_index]\n",
    "diff_y = diff_y_list[min_index]\n",
    "\n",
    "# dd > distanceの場合、処理をやめる\n",
    "if dd_list[min_index] > distance:\n",
    "    print(1)\n",
    "\n",
    "# l1にdiffを加算する\n",
    "a1_df[\"x\"] = a1_df[\"x\"] + diff_x\n",
    "a1_df[\"y\"] = a1_df[\"y\"] + diff_y\n",
    "\n",
    "ll0 = a0_df[[\"level_0\", \"x\",\"y\"]]\n",
    "ll1 = a1_df[[\"level_0\", \"x\", \"y\"]]\n",
    "\n",
    "p1 = Polygon(gpd.points_from_xy(ll0[\"x\"], ll0[\"y\"]))\n",
    "p2 = Polygon(gpd.points_from_xy(ll1[\"x\"], ll1[\"y\"]))\n",
    "r_gdf = gpd.GeoDataFrame([p1,p2], geometry=0)\n",
    "r_gdf = r_gdf.reset_index(drop=False)"
   ]
  },
  {
   "cell_type": "code",
   "execution_count": 762,
   "metadata": {
    "ExecuteTime": {
     "end_time": "2023-05-17T15:57:50.084854Z",
     "start_time": "2023-05-17T15:57:50.075161Z"
    },
    "collapsed": false
   },
   "outputs": [
    {
     "data": {
      "text/plain": [
       "1"
      ]
     },
     "execution_count": 762,
     "metadata": {},
     "output_type": "execute_result"
    }
   ],
   "source": [
    "min_index"
   ]
  },
  {
   "cell_type": "code",
   "execution_count": 763,
   "metadata": {
    "ExecuteTime": {
     "end_time": "2023-05-17T15:57:50.642230Z",
     "start_time": "2023-05-17T15:57:50.631703Z"
    },
    "collapsed": false
   },
   "outputs": [
    {
     "data": {
      "text/plain": [
       "1972.8082899999984"
      ]
     },
     "execution_count": 763,
     "metadata": {},
     "output_type": "execute_result"
    }
   ],
   "source": [
    "dd_list[min_index]"
   ]
  },
  {
   "cell_type": "code",
   "execution_count": 764,
   "metadata": {
    "ExecuteTime": {
     "end_time": "2023-05-17T15:57:51.643253Z",
     "start_time": "2023-05-17T15:57:51.615947Z"
    },
    "collapsed": false
   },
   "outputs": [
    {
     "data": {
      "text/html": [
       "<div>\n",
       "<style scoped>\n",
       "    .dataframe tbody tr th:only-of-type {\n",
       "        vertical-align: middle;\n",
       "    }\n",
       "\n",
       "    .dataframe tbody tr th {\n",
       "        vertical-align: top;\n",
       "    }\n",
       "\n",
       "    .dataframe thead th {\n",
       "        text-align: right;\n",
       "    }\n",
       "</style>\n",
       "<table border=\"1\" class=\"dataframe\">\n",
       "  <thead>\n",
       "    <tr style=\"text-align: right;\">\n",
       "      <th></th>\n",
       "      <th>index</th>\n",
       "      <th>0</th>\n",
       "    </tr>\n",
       "  </thead>\n",
       "  <tbody>\n",
       "    <tr>\n",
       "      <th>0</th>\n",
       "      <td>0</td>\n",
       "      <td>POLYGON ((326.228 406.555, 350.628 294.873, 86...</td>\n",
       "    </tr>\n",
       "    <tr>\n",
       "      <th>1</th>\n",
       "      <td>1</td>\n",
       "      <td>POLYGON ((358.601 66.108, 350.628 294.873, 78....</td>\n",
       "    </tr>\n",
       "  </tbody>\n",
       "</table>\n",
       "</div>"
      ],
      "text/plain": [
       "   index                                                  0\n",
       "0      0  POLYGON ((326.228 406.555, 350.628 294.873, 86...\n",
       "1      1  POLYGON ((358.601 66.108, 350.628 294.873, 78...."
      ]
     },
     "execution_count": 764,
     "metadata": {},
     "output_type": "execute_result"
    }
   ],
   "source": [
    "r_gdf"
   ]
  },
  {
   "cell_type": "code",
   "execution_count": 765,
   "metadata": {
    "ExecuteTime": {
     "end_time": "2023-05-17T15:57:52.121093Z",
     "start_time": "2023-05-17T15:57:51.986867Z"
    },
    "collapsed": false
   },
   "outputs": [
    {
     "data": {
      "text/plain": [
       "<Axes: >"
      ]
     },
     "execution_count": 765,
     "metadata": {},
     "output_type": "execute_result"
    },
    {
     "data": {
      "image/png": "[encoded data removed]",
      "text/plain": [
       "<Figure size 640x480 with 1 Axes>"
      ]
     },
     "metadata": {},
     "output_type": "display_data"
    }
   ],
   "source": [
    "r_gdf.plot(\"index\")"
   ]
  },
  {
   "cell_type": "code",
   "execution_count": 714,
   "metadata": {
    "ExecuteTime": {
     "end_time": "2023-05-17T15:51:25.204162Z",
     "start_time": "2023-05-17T15:51:25.129173Z"
    },
    "collapsed": false
   },
   "outputs": [
    {
     "data": {
      "text/plain": [
       "[15167.242119999997,\n",
       " 0.0,\n",
       " 5948.324946499998,\n",
       " 16308.116858500005,\n",
       " 25920.3438485,\n",
       " 34836.741605,\n",
       " 5948.324946499998,\n",
       " 16308.116858500005,\n",
       " 25920.3438485,\n",
       " 25269.816068000004,\n",
       " 34836.741605,\n",
       " 49038.7270105]"
      ]
     },
     "execution_count": 714,
     "metadata": {},
     "output_type": "execute_result"
    }
   ],
   "source": [
    "dd_list"
   ]
  },
  {
   "cell_type": "code",
   "execution_count": 674,
   "metadata": {
    "ExecuteTime": {
     "end_time": "2023-05-17T15:19:35.627027Z",
     "start_time": "2023-05-17T15:19:35.602863Z"
    },
    "collapsed": false
   },
   "outputs": [
    {
     "data": {
      "text/plain": [
       "8"
      ]
     },
     "execution_count": 674,
     "metadata": {},
     "output_type": "execute_result"
    }
   ],
   "source": [
    "shift"
   ]
  },
  {
   "cell_type": "code",
   "execution_count": 626,
   "metadata": {
    "ExecuteTime": {
     "end_time": "2023-05-17T15:15:59.128665Z",
     "start_time": "2023-05-17T15:15:59.110315Z"
    },
    "collapsed": false
   },
   "outputs": [],
   "source": []
  },
  {
   "cell_type": "markdown",
   "metadata": {
    "collapsed": false
   },
   "source": [
    "## 相互相関をとってみる"
   ]
  },
  {
   "cell_type": "code",
   "execution_count": null,
   "metadata": {
    "collapsed": false
   },
   "outputs": [],
   "source": [
    "# data1"
   ]
  },
  {
   "cell_type": "code",
   "execution_count": null,
   "metadata": {
    "collapsed": false
   },
   "outputs": [],
   "source": [
    "# data2"
   ]
  },
  {
   "cell_type": "code",
   "execution_count": null,
   "metadata": {
    "collapsed": false
   },
   "outputs": [],
   "source": [
    "# # 二つの時系列データの相互相関係数を算出\n",
    "# data1 = ans_0.loc[:,\"diff\"]\n",
    "# data2 = ans_1.loc[:,\"diff\"]\n",
    "# # クロス相関関数の計算\n",
    "# cross_corr = np.correlate(data1, data2, mode='full')\n",
    "# # クロス相関関数のプロット\n",
    "# import plotly.express as px\n",
    "# fig = px.line(cross_corr)\n",
    "# fig.show()"
   ]
  },
  {
   "cell_type": "code",
   "execution_count": null,
   "metadata": {
    "collapsed": false
   },
   "outputs": [],
   "source": [
    "# # cross_corr = cross_corr[:ans_0.shape[0]]\n",
    "# indices = np.argwhere(cross_corr == cross_corr.max())\n",
    "# # diff_index = indices[0][0] -2  # ラグdiff_indexで最も相互相関係数が上昇する→diff_indexシフトすると輪郭の一致する部分が重なる。\n",
    "# diff_index =  0\n",
    "# print(diff_index)"
   ]
  },
  {
   "cell_type": "code",
   "execution_count": null,
   "metadata": {
    "collapsed": false
   },
   "outputs": [],
   "source": [
    "# \"\"\"\n",
    "# 相互相関係数が最大値の19 - 2だけ移動すると一致する。\n",
    "# \"\"\"\n",
    "# l0 = ans_0[[\"level_0\", \"level_1\", \"x\", \"y\", \"diff\"]]\n",
    "# l1 = ans_1[[\"level_0\", \"level_1\", \"x\", \"y\", \"diff\"]].sort_values('level_1', ascending=False).reset_index(\n",
    "#     drop=True).reset_index(drop=False)\n",
    "# diff_index\n",
    "# l0_x = l0.loc[0, \"x\"]\n",
    "# l0_y = l0.loc[0, \"y\"]\n",
    "# l1_x = l1.loc[diff_index, \"x\"]\n",
    "# l1_y = l1.loc[diff_index, \"y\"]\n",
    "#\n",
    "# print(l0_x, l0_y, l1_x, l1_y)\n",
    "# diff_x = l0_x - l1_x\n",
    "# diff_y = l0_y - l1_y\n",
    "#\n",
    "# # l1にdiffを加算する\n",
    "# ans_1[\"x\"] = ans_1[\"x\"] + diff_x\n",
    "# ans_1[\"y\"] = ans_1[\"y\"] + diff_y\n",
    "#\n",
    "# ll0 = ans_0[[\"level_0\", \"x\",\"y\"]]\n",
    "# ll1 = ans_1[[\"level_0\", \"x\", \"y\"]]\n",
    "#\n",
    "# p1 = Polygon(gpd.points_from_xy(ll0[\"x\"], ll0[\"y\"]))\n",
    "# p2 = Polygon(gpd.points_from_xy(ll1[\"x\"], ll1[\"y\"]))\n",
    "# r_gdf = gpd.GeoDataFrame([p1,p2], geometry=0)\n",
    "# r_gdf"
   ]
  },
  {
   "cell_type": "code",
   "execution_count": null,
   "metadata": {
    "collapsed": false
   },
   "outputs": [],
   "source": []
  },
  {
   "cell_type": "code",
   "execution_count": null,
   "metadata": {
    "collapsed": false
   },
   "outputs": [],
   "source": []
  },
  {
   "cell_type": "code",
   "execution_count": null,
   "metadata": {
    "collapsed": false
   },
   "outputs": [],
   "source": []
  },
  {
   "cell_type": "code",
   "execution_count": null,
   "metadata": {
    "collapsed": false
   },
   "outputs": [],
   "source": []
  }
 ],
 "metadata": {
  "kernelspec": {
   "display_name": "Python 3",
   "language": "python",
   "name": "python3"
  },
  "language_info": {
   "codemirror_mode": {
    "name": "ipython",
    "version": 2
   },
   "file_extension": ".py",
   "mimetype": "text/x-python",
   "name": "python",
   "nbconvert_exporter": "python",
   "pygments_lexer": "ipython2",
   "version": "2.7.6"
  }
 },
 "nbformat": 4,
 "nbformat_minor": 0
}
