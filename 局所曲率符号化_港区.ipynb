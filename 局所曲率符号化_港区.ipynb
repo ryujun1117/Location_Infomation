{
 "cells": [
  {
   "cell_type": "code",
   "execution_count": 3,
   "metadata": {
    "ExecuteTime": {
     "end_time": "2023-05-17T12:51:07.928Z",
     "start_time": "2023-05-17T12:51:07.813401Z"
    },
    "collapsed": false
   },
   "outputs": [],
   "source": [
    "# !pip install leafmap"
   ]
  },
  {
   "cell_type": "code",
   "execution_count": 911,
   "metadata": {
    "ExecuteTime": {
     "end_time": "2023-05-17T23:13:15.684438Z",
     "start_time": "2023-05-17T23:13:15.046760Z"
    },
    "collapsed": true
   },
   "outputs": [],
   "source": [
    "import geopandas as gpd\n",
    "import pandas as pd\n",
    "import numpy as np\n",
    "import matplotlib\n",
    "import matplotlib.pyplot as plt\n",
    "# import seaborn as sns\n",
    "# import cv2\n",
    "# from PIL import Image\n",
    "%matplotlib inline\n",
    "from geopandas import GeoSeries\n",
    "from shapely.ops import cascaded_union\n",
    "import leafmap\n",
    "from shapely.geometry import MultiPoint\n",
    "from shapely.geometry import Polygon\n",
    "from shapely.geometry import MultiPolygon"
   ]
  },
  {
   "cell_type": "code",
   "execution_count": 882,
   "metadata": {
    "ExecuteTime": {
     "end_time": "2023-05-17T22:57:44.226493Z",
     "start_time": "2023-05-17T22:57:20.865083Z"
    },
    "collapsed": false
   },
   "outputs": [],
   "source": [
    "gdf = gpd.read_file(\"/work/mapsolution/data-1682398976674.csv\")\n",
    "gdf[\"geom\"] = gpd.GeoSeries.from_wkb(gdf[\"geom\"])\n",
    "gdf = gdf[[\"筆id\", \"市区町村名\", \"大字名\", \"丁目名\", \"geom\"]]\n",
    "gdf[\"大字_丁目名\"] = gdf[\"大字名\"] + gdf[\"丁目名\"]\n",
    "gdf = gpd.GeoDataFrame(gdf, crs=\"EPSG:4326\", geometry=\"geom\")"
   ]
  },
  {
   "cell_type": "code",
   "execution_count": 883,
   "metadata": {
    "ExecuteTime": {
     "end_time": "2023-05-17T22:57:44.283191Z",
     "start_time": "2023-05-17T22:57:44.240587Z"
    },
    "collapsed": false
   },
   "outputs": [
    {
     "data": {
      "text/html": [
       "<div>\n",
       "<style scoped>\n",
       "    .dataframe tbody tr th:only-of-type {\n",
       "        vertical-align: middle;\n",
       "    }\n",
       "\n",
       "    .dataframe tbody tr th {\n",
       "        vertical-align: top;\n",
       "    }\n",
       "\n",
       "    .dataframe thead th {\n",
       "        text-align: right;\n",
       "    }\n",
       "</style>\n",
       "<table border=\"1\" class=\"dataframe\">\n",
       "  <thead>\n",
       "    <tr style=\"text-align: right;\">\n",
       "      <th></th>\n",
       "      <th>筆id</th>\n",
       "      <th>市区町村名</th>\n",
       "      <th>大字名</th>\n",
       "      <th>丁目名</th>\n",
       "      <th>geom</th>\n",
       "      <th>大字_丁目名</th>\n",
       "    </tr>\n",
       "  </thead>\n",
       "  <tbody>\n",
       "    <tr>\n",
       "      <th>0</th>\n",
       "      <td>H000002270</td>\n",
       "      <td>港区</td>\n",
       "      <td>新橋</td>\n",
       "      <td>６丁目</td>\n",
       "      <td>MULTIPOLYGON (((-58.94100 79.57900, -63.70800 ...</td>\n",
       "      <td>新橋６丁目</td>\n",
       "    </tr>\n",
       "    <tr>\n",
       "      <th>1</th>\n",
       "      <td>H000000033</td>\n",
       "      <td>港区</td>\n",
       "      <td>愛宕</td>\n",
       "      <td>１丁目</td>\n",
       "      <td>MULTIPOLYGON (((65.59800 182.31900, 65.64200 1...</td>\n",
       "      <td>愛宕１丁目</td>\n",
       "    </tr>\n",
       "    <tr>\n",
       "      <th>2</th>\n",
       "      <td>H000000003</td>\n",
       "      <td>港区</td>\n",
       "      <td>愛宕</td>\n",
       "      <td>１丁目</td>\n",
       "      <td>MULTIPOLYGON (((85.65600 326.04200, 84.73100 3...</td>\n",
       "      <td>愛宕１丁目</td>\n",
       "    </tr>\n",
       "    <tr>\n",
       "      <th>3</th>\n",
       "      <td>H000000086</td>\n",
       "      <td>港区</td>\n",
       "      <td>愛宕</td>\n",
       "      <td>２丁目</td>\n",
       "      <td>MULTIPOLYGON (((33.97900 103.74700, 33.96700 1...</td>\n",
       "      <td>愛宕２丁目</td>\n",
       "    </tr>\n",
       "    <tr>\n",
       "      <th>4</th>\n",
       "      <td>H000000020</td>\n",
       "      <td>港区</td>\n",
       "      <td>愛宕</td>\n",
       "      <td>１丁目</td>\n",
       "      <td>MULTIPOLYGON (((52.48900 295.11800, 42.04900 2...</td>\n",
       "      <td>愛宕１丁目</td>\n",
       "    </tr>\n",
       "  </tbody>\n",
       "</table>\n",
       "</div>"
      ],
      "text/plain": [
       "          筆id 市区町村名 大字名  丁目名   \n",
       "0  H000002270    港区  新橋  ６丁目  \\\n",
       "1  H000000033    港区  愛宕  １丁目   \n",
       "2  H000000003    港区  愛宕  １丁目   \n",
       "3  H000000086    港区  愛宕  ２丁目   \n",
       "4  H000000020    港区  愛宕  １丁目   \n",
       "\n",
       "                                                geom 大字_丁目名  \n",
       "0  MULTIPOLYGON (((-58.94100 79.57900, -63.70800 ...  新橋６丁目  \n",
       "1  MULTIPOLYGON (((65.59800 182.31900, 65.64200 1...  愛宕１丁目  \n",
       "2  MULTIPOLYGON (((85.65600 326.04200, 84.73100 3...  愛宕１丁目  \n",
       "3  MULTIPOLYGON (((33.97900 103.74700, 33.96700 1...  愛宕２丁目  \n",
       "4  MULTIPOLYGON (((52.48900 295.11800, 42.04900 2...  愛宕１丁目  "
      ]
     },
     "execution_count": 883,
     "metadata": {},
     "output_type": "execute_result"
    }
   ],
   "source": [
    "gdf.head()"
   ]
  },
  {
   "cell_type": "code",
   "execution_count": 884,
   "metadata": {
    "ExecuteTime": {
     "end_time": "2023-05-17T22:57:44.284283Z",
     "start_time": "2023-05-17T22:57:44.274928Z"
    },
    "collapsed": false
   },
   "outputs": [
    {
     "data": {
      "text/plain": [
       "array(['新橋６丁目', '愛宕１丁目', '愛宕２丁目', '虎ノ門１丁目', '虎ノ門３丁目', '虎ノ門４丁目', '芝１丁目',\n",
       "       '芝２丁目', '虎ノ門２丁目', '虎ノ門５丁目', '新橋５丁目', '新橋１丁目', '高輪２丁目', '高輪３丁目',\n",
       "       '芝３丁目', '赤坂２丁目', '三田１丁目', '三田２丁目', '南青山３丁目', '港南２丁目', '赤坂５丁目',\n",
       "       '高輪４丁目', '赤坂６丁目', '赤坂４丁目', '赤坂８丁目', '高輪１丁目', '東新橋１丁目', '東麻布１丁目',\n",
       "       '南青山２丁目', '三田３丁目', '三田５丁目', '三田４丁目', '芝４丁目', '港南１丁目', '芝５丁目',\n",
       "       '芝浦１丁目', '芝浦４丁目', '芝浦２丁目', '西麻布３丁目', '芝浦３丁目', '西麻布１丁目', '芝公園１丁目',\n",
       "       '芝公園４丁目', '芝公園３丁目', '芝公園２丁目', '南青山４丁目', '新橋４丁目', '西麻布４丁目', '港南３丁目',\n",
       "       '港南４丁目', '港南５丁目', '南青山６丁目', '新橋２丁目', '新橋３丁目', '西麻布２丁目', '赤坂１丁目',\n",
       "       '六本木７丁目', '元赤坂１丁目', '元赤坂２丁目', '赤坂３丁目', '南青山５丁目', '南青山７丁目',\n",
       "       '南麻布４丁目', '南麻布５丁目', '南麻布１丁目', '南麻布２丁目', '南麻布３丁目', '白金１丁目', '白金５丁目',\n",
       "       '白金６丁目', '北青山１丁目', '赤坂７丁目', '赤坂９丁目', '東新橋２丁目', '東麻布２丁目', '南青山１丁目',\n",
       "       '東麻布３丁目', '六本木３丁目', '白金２丁目', '白金３丁目', '白金４丁目', '白金台５丁目', '白金台３丁目',\n",
       "       '北青山２丁目', '浜松町１丁目', '北青山３丁目', '麻布永坂町NULL', '元麻布１丁目', '元麻布２丁目',\n",
       "       '六本木６丁目', '麻布十番１丁目', '麻布十番２丁目', '海岸１丁目', '麻布十番３丁目', '麻布十番４丁目',\n",
       "       '麻布台３丁目', '麻布台１丁目', '麻布台２丁目', '六本木２丁目', 'NULLNULL', '六本木１丁目',\n",
       "       '六本木５丁目', '六本木４丁目', '芝大門１丁目', '芝大門２丁目', '西新橋２丁目', '白金台１丁目',\n",
       "       '白金台２丁目', '西新橋１丁目', '西新橋３丁目', '浜松町２丁目', '麻布狸穴町NULL', '海岸２丁目',\n",
       "       '海岸３丁目', '元麻布３丁目', '白金台４丁目'], dtype=object)"
      ]
     },
     "execution_count": 884,
     "metadata": {},
     "output_type": "execute_result"
    }
   ],
   "source": [
    "gdf[\"大字_丁目名\"].unique()"
   ]
  },
  {
   "cell_type": "code",
   "execution_count": 885,
   "metadata": {
    "ExecuteTime": {
     "end_time": "2023-05-17T22:57:44.295799Z",
     "start_time": "2023-05-17T22:57:44.282762Z"
    },
    "collapsed": false
   },
   "outputs": [],
   "source": [
    "tdf = gdf[gdf[\"大字_丁目名\"] == \"白金台１丁目\"]"
   ]
  },
  {
   "cell_type": "code",
   "execution_count": 886,
   "metadata": {
    "ExecuteTime": {
     "end_time": "2023-05-17T22:57:44.762881Z",
     "start_time": "2023-05-17T22:57:44.296045Z"
    },
    "collapsed": false
   },
   "outputs": [
    {
     "data": {
      "text/plain": [
       "<Axes: >"
      ]
     },
     "execution_count": 886,
     "metadata": {},
     "output_type": "execute_result"
    },
    {
     "data": {
      "image/png": "[encoded data removed]",
      "text/plain": [
       "<Figure size 640x480 with 1 Axes>"
      ]
     },
     "metadata": {},
     "output_type": "display_data"
    }
   ],
   "source": [
    "tdf[\"geom\"].plot(aspect=1)"
   ]
  },
  {
   "cell_type": "code",
   "execution_count": 899,
   "metadata": {
    "ExecuteTime": {
     "end_time": "2023-05-17T23:01:56.444412Z",
     "start_time": "2023-05-17T23:01:56.165590Z"
    },
    "collapsed": false
   },
   "outputs": [
    {
     "data": {
      "text/plain": [
       "<Axes: >"
      ]
     },
     "execution_count": 899,
     "metadata": {},
     "output_type": "execute_result"
    },
    {
     "data": {
      "image/png": "[encoded data removed]",
      "text/plain": [
       "<Figure size 640x480 with 1 Axes>"
      ]
     },
     "metadata": {},
     "output_type": "display_data"
    }
   ],
   "source": [
    "# 境界を取得\n",
    "bound = gpd.GeoSeries(cascaded_union(tdf.geom))\n",
    "bound.plot()"
   ]
  },
  {
   "cell_type": "code",
   "execution_count": 900,
   "metadata": {
    "ExecuteTime": {
     "end_time": "2023-05-17T23:01:57.371938Z",
     "start_time": "2023-05-17T23:01:57.345153Z"
    },
    "collapsed": false
   },
   "outputs": [
    {
     "data": {
      "text/plain": [
       "0    MULTIPOLYGON (((972.719 -605.827, 966.704 -607...\n",
       "dtype: geometry"
      ]
     },
     "execution_count": 900,
     "metadata": {},
     "output_type": "execute_result"
    }
   ],
   "source": [
    "bound"
   ]
  },
  {
   "cell_type": "code",
   "execution_count": 901,
   "metadata": {
    "ExecuteTime": {
     "end_time": "2023-05-17T23:01:58.148350Z",
     "start_time": "2023-05-17T23:01:58.135881Z"
    },
    "collapsed": false
   },
   "outputs": [
    {
     "data": {
      "text/html": [
       "<div>\n",
       "<style scoped>\n",
       "    .dataframe tbody tr th:only-of-type {\n",
       "        vertical-align: middle;\n",
       "    }\n",
       "\n",
       "    .dataframe tbody tr th {\n",
       "        vertical-align: top;\n",
       "    }\n",
       "\n",
       "    .dataframe thead th {\n",
       "        text-align: right;\n",
       "    }\n",
       "</style>\n",
       "<table border=\"1\" class=\"dataframe\">\n",
       "  <thead>\n",
       "    <tr style=\"text-align: right;\">\n",
       "      <th></th>\n",
       "      <th>level_0</th>\n",
       "      <th>index</th>\n",
       "      <th>geometry</th>\n",
       "    </tr>\n",
       "  </thead>\n",
       "  <tbody>\n",
       "    <tr>\n",
       "      <th>0</th>\n",
       "      <td>0</td>\n",
       "      <td>0</td>\n",
       "      <td>POLYGON ((972.71900 -605.82700, 966.70400 -607...</td>\n",
       "    </tr>\n",
       "    <tr>\n",
       "      <th>1</th>\n",
       "      <td>1</td>\n",
       "      <td>0</td>\n",
       "      <td>POLYGON ((954.11700 -469.57900, 950.43600 -470...</td>\n",
       "    </tr>\n",
       "  </tbody>\n",
       "</table>\n",
       "</div>"
      ],
      "text/plain": [
       "   level_0  index                                           geometry\n",
       "0        0      0  POLYGON ((972.71900 -605.82700, 966.70400 -607...\n",
       "1        1      0  POLYGON ((954.11700 -469.57900, 950.43600 -470..."
      ]
     },
     "execution_count": 901,
     "metadata": {},
     "output_type": "execute_result"
    }
   ],
   "source": [
    "# MultipolygonをPolygonに変換\n",
    "bdf = gpd.GeoDataFrame({\n",
    "    \"geometry\": bound\n",
    "}, crs=4326)\n",
    "\n",
    "bdf = bdf.explode(index_parts=False).reset_index(False).reset_index(False)\n",
    "bdf"
   ]
  },
  {
   "cell_type": "code",
   "execution_count": 902,
   "metadata": {
    "ExecuteTime": {
     "end_time": "2023-05-17T23:01:59.681817Z",
     "start_time": "2023-05-17T23:01:59.676474Z"
    },
    "collapsed": false
   },
   "outputs": [
    {
     "name": "stdout",
     "output_type": "stream",
     "text": [
      "2\n"
     ]
    }
   ],
   "source": [
    "# 抽出レコードに幾つのポリゴンが含まれているか\n",
    "Polygon_Num = bdf.shape[0]\n",
    "print(Polygon_Num)"
   ]
  },
  {
   "cell_type": "code",
   "execution_count": 903,
   "metadata": {
    "ExecuteTime": {
     "end_time": "2023-05-17T23:02:00.549637Z",
     "start_time": "2023-05-17T23:02:00.395528Z"
    },
    "collapsed": false
   },
   "outputs": [
    {
     "data": {
      "text/plain": [
       "<Axes: >"
      ]
     },
     "execution_count": 903,
     "metadata": {},
     "output_type": "execute_result"
    },
    {
     "data": {
      "image/png": "[encoded data removed]",
      "text/plain": [
       "<Figure size 640x480 with 1 Axes>"
      ]
     },
     "metadata": {},
     "output_type": "display_data"
    }
   ],
   "source": [
    "# ポリゴンの外周を取得する\n",
    "# TODO 点を増やすために線型補完したい\n",
    "bdf.geometry = bdf.geometry.apply(lambda x: MultiPoint(list(x.exterior.coords)))\n",
    "bdf.plot(aspect=1)"
   ]
  },
  {
   "cell_type": "code",
   "execution_count": 818,
   "metadata": {
    "ExecuteTime": {
     "end_time": "2023-05-17T22:50:46.751612Z",
     "start_time": "2023-05-17T22:50:45.990945Z"
    },
    "collapsed": false
   },
   "outputs": [],
   "source": [
    "gdf = bdf.copy()"
   ]
  },
  {
   "cell_type": "code",
   "execution_count": 819,
   "metadata": {
    "ExecuteTime": {
     "end_time": "2023-05-17T22:50:46.753321Z",
     "start_time": "2023-05-17T22:50:45.998931Z"
    },
    "collapsed": false
   },
   "outputs": [],
   "source": [
    "# 輪郭の点群をDataframeとして取得する\n",
    "# 終点が追加されて+1行となる\n",
    "# ポリゴンごとにIDを付与してくれているので、どのポリゴンの点なのか識別できる\n",
    "ex = gdf.geometry.explode(index_parts=True)"
   ]
  },
  {
   "cell_type": "code",
   "execution_count": 820,
   "metadata": {
    "ExecuteTime": {
     "end_time": "2023-05-17T22:50:46.753504Z",
     "start_time": "2023-05-17T22:50:46.007987Z"
    },
    "collapsed": false
   },
   "outputs": [],
   "source": [
    "# GeoSeries to pd.DataFrame\n",
    "df = pd.DataFrame({\n",
    "    \"x\":ex.x,\n",
    "    \"y\":ex.y\n",
    "}).reset_index(drop=False)"
   ]
  },
  {
   "cell_type": "code",
   "execution_count": 821,
   "metadata": {
    "ExecuteTime": {
     "end_time": "2023-05-17T22:50:46.761309Z",
     "start_time": "2023-05-17T22:50:46.028511Z"
    },
    "collapsed": false
   },
   "outputs": [
    {
     "name": "stdout",
     "output_type": "stream",
     "text": [
      "theta Cn 1 98.66615033027287\n",
      "局所方向符号 2\n",
      "theta Cn 2 2.345533477314576\n",
      "局所方向符号 0\n",
      "theta Cn 3 83.7664532268389\n",
      "局所方向符号 1\n",
      "theta Cn 4 8.025025950462046\n",
      "局所方向符号 0\n",
      "theta Cn 5 3.233323528106757\n",
      "局所方向符号 0\n",
      "theta Cn 6 10.233544570185265\n",
      "局所方向符号 0\n",
      "theta Cn 7 11.377379882969029\n",
      "局所方向符号 0\n",
      "theta Cn 8 5.9440229377203\n",
      "局所方向符号 0\n",
      "theta Cn 9 4.217611848118249\n",
      "局所方向符号 0\n",
      "theta Cn 10 93.38435515122885\n",
      "局所方向符号 2\n",
      "theta Cn 11 8.92435916293845\n",
      "局所方向符号 0\n",
      "theta Cn 12 23.229089541114277\n",
      "局所方向符号 0\n",
      "theta Cn 13 95.29837952030414\n",
      "局所方向符号 2\n",
      "theta Cn 14 0.8101887509923168\n",
      "局所方向符号 0\n",
      "theta Cn 15 3.8660009831093616\n",
      "局所方向符号 0\n",
      "theta Cn 16 78.1409602053109\n",
      "局所方向符号 1\n",
      "theta Cn 17 4.124156379790816\n",
      "局所方向符号 0\n",
      "theta Cn 18 94.03631250072927\n",
      "局所方向符号 2\n",
      "theta Cn 19 84.7882913815825\n",
      "局所方向符号 1\n",
      "theta Cn 20 14.423552624488181\n",
      "局所方向符号 0\n",
      "theta Cn 21 58.258330585669604\n",
      "局所方向符号 1\n",
      "theta Cn 22 60.884743392948415\n",
      "局所方向符号 1\n",
      "theta Cn 23 96.36875571698127\n",
      "局所方向符号 2\n",
      "theta Cn 24 92.23864710573216\n",
      "局所方向符号 2\n",
      "theta Cn 25 16.29804323215509\n",
      "局所方向符号 0\n",
      "theta Cn 26 4.98513931385891\n",
      "局所方向符号 0\n",
      "theta Cn 27 16.56755880198124\n",
      "局所方向符号 0\n",
      "theta Cn 28 29.199315112702838\n",
      "局所方向符号 0\n",
      "theta Cn 29 40.63727783399823\n",
      "局所方向符号 0\n",
      "theta Cn 30 95.42926648509243\n",
      "局所方向符号 2\n",
      "theta Cn 31 78.08828650191815\n",
      "局所方向符号 1\n",
      "theta Cn 32 17.887397339585178\n",
      "局所方向符号 0\n",
      "theta Cn 33 47.79586503165408\n",
      "局所方向符号 1\n",
      "theta Cn 34 83.50189697532589\n",
      "局所方向符号 1\n",
      "theta Cn 35 32.00230367500728\n",
      "局所方向符号 0\n",
      "theta Cn 36 30.50699208884757\n",
      "局所方向符号 0\n",
      "theta Cn 37 9.1559023138605\n",
      "局所方向符号 0\n",
      "theta Cn 38 92.37003238022429\n",
      "局所方向符号 2\n",
      "theta Cn 39 1.0617367647904832\n",
      "局所方向符号 0\n",
      "theta Cn 40 6.2758579002291395\n",
      "局所方向符号 0\n",
      "theta Cn 41 76.61258729822455\n",
      "局所方向符号 1\n",
      "theta Cn 42 10.041197550994136\n",
      "局所方向符号 0\n",
      "theta Cn 43 1.517084668664312\n",
      "局所方向符号 0\n",
      "theta Cn 44 1.9860497498014267\n",
      "局所方向符号 0\n",
      "theta Cn 45 9.630646108706467\n",
      "局所方向符号 0\n",
      "theta Cn 46 3.2724641763398816\n",
      "局所方向符号 0\n",
      "theta Cn 47 4.774937404473907\n",
      "局所方向符号 0\n",
      "theta Cn 48 4.762391203102588\n",
      "局所方向符号 0\n",
      "theta Cn 49 1.9089910424668608\n",
      "局所方向符号 0\n",
      "theta Cn 50 77.62256347855578\n",
      "局所方向符号 1\n",
      "theta Cn 51 5.780650155106303\n",
      "局所方向符号 0\n",
      "theta Cn 52 4.332935856402435\n",
      "局所方向符号 0\n",
      "theta Cn 53 1.2123914094093686\n",
      "局所方向符号 0\n",
      "theta Cn 54 0.7966615197142759\n",
      "局所方向符号 0\n",
      "theta Cn 55 1.3576368514453732\n",
      "局所方向符号 0\n",
      "theta Cn 56 0.23719894482186787\n",
      "局所方向符号 0\n",
      "theta Cn 57 0.9392206285994686\n",
      "局所方向符号 0\n",
      "theta Cn 58 1.9602513307369926\n",
      "局所方向符号 0\n",
      "theta Cn 59 5.0851592090855435\n",
      "局所方向符号 0\n",
      "theta Cn 60 86.637394920495\n",
      "局所方向符号 1\n",
      "theta Cn 61 0.8083893515800641\n",
      "局所方向符号 0\n",
      "theta Cn 62 4.011119359280676\n",
      "局所方向符号 0\n",
      "theta Cn 63 2.033841287140783\n",
      "局所方向符号 0\n",
      "theta Cn 64 19.088044783469833\n",
      "局所方向符号 0\n",
      "theta Cn 65 56.70300812654855\n",
      "局所方向符号 1\n",
      "theta Cn 66 0.9873753158004744\n",
      "局所方向符号 0\n",
      "theta Cn 67 210.2839430491556\n",
      "局所方向符号 4\n",
      "theta Cn 68 102.97268809421892\n",
      "局所方向符号 2\n",
      "theta Cn 69 94.42489674285515\n",
      "局所方向符号 2\n",
      "theta Cn 70 7.4005178024946385\n",
      "局所方向符号 0\n",
      "theta Cn 71 1.7771173123704782\n",
      "局所方向符号 0\n",
      "theta Cn 72 2.0244660130513084\n",
      "局所方向符号 0\n",
      "theta Cn 73 1.0754956822596724\n",
      "局所方向符号 0\n",
      "theta Cn 74 3.0629031822020707\n",
      "局所方向符号 0\n",
      "theta Cn 75 80.1174541896538\n",
      "局所方向符号 1\n",
      "theta Cn 76 2.8030163540355195\n",
      "局所方向符号 0\n",
      "theta Cn 77 0.8573163937176553\n",
      "局所方向符号 0\n",
      "theta Cn 78 4.612244478797155\n",
      "局所方向符号 0\n",
      "theta Cn 79 0.8516191180377954\n",
      "局所方向符号 0\n",
      "theta Cn 80 1.4868091934136078\n",
      "局所方向符号 0\n",
      "theta Cn 81 3.0458097551422356\n",
      "局所方向符号 0\n",
      "theta Cn 82 5.212940987951384\n",
      "局所方向符号 0\n",
      "theta Cn 83 5.557235495018671\n",
      "局所方向符号 0\n",
      "theta Cn 84 1.064514400785616\n",
      "局所方向符号 0\n",
      "theta Cn 85 2.3215637325256315\n",
      "局所方向符号 0\n",
      "theta Cn 86 3.059770402736576\n",
      "局所方向符号 0\n",
      "theta Cn 87 1.9638575202896886\n",
      "局所方向符号 0\n",
      "theta Cn 88 24.835781865120833\n",
      "局所方向符号 0\n",
      "theta Cn 89 3.0811463211252215\n",
      "局所方向符号 0\n",
      "theta Cn 90 0.9155862931672655\n",
      "局所方向符号 0\n",
      "theta Cn 91 4.279461575023072\n",
      "局所方向符号 0\n",
      "theta Cn 92 4.477468380728117\n",
      "局所方向符号 0\n",
      "theta Cn 93 69.04211708741387\n",
      "局所方向符号 1\n",
      "theta Cn 94 3.2348974637545966\n",
      "局所方向符号 0\n",
      "theta Cn 95 63.25313268695938\n",
      "局所方向符号 1\n",
      "theta Cn 96 38.3219848315337\n",
      "局所方向符号 0\n",
      "theta Cn 97 36.973837185051586\n",
      "局所方向符号 0\n",
      "theta Cn 98 15.269693897935527\n",
      "局所方向符号 0\n",
      "theta Cn 99 0.3045049788759294\n",
      "局所方向符号 0\n",
      "theta Cn 100 71.26934929069614\n",
      "局所方向符号 1\n",
      "theta Cn 101 76.84094901319678\n",
      "局所方向符号 1\n",
      "theta Cn 102 77.25521750186547\n",
      "局所方向符号 1\n",
      "theta Cn 103 105.50628236778824\n",
      "局所方向符号 2\n",
      "theta Cn 104 86.10016788282235\n",
      "局所方向符号 1\n",
      "theta Cn 105 24.137821311397186\n",
      "局所方向符号 0\n",
      "theta Cn 106 5.903033869259198\n",
      "局所方向符号 0\n",
      "theta Cn 107 88.92228894059463\n",
      "局所方向符号 1\n",
      "theta Cn 108 29.353270861567747\n",
      "局所方向符号 0\n",
      "theta Cn 109 3.3203236981154194\n",
      "局所方向符号 0\n",
      "theta Cn 110 105.56784061043264\n",
      "局所方向符号 2\n",
      "theta Cn 111 12.006529944486479\n",
      "局所方向符号 0\n",
      "theta Cn 112 17.521978486860295\n",
      "局所方向符号 0\n",
      "theta Cn 113 99.00265322747056\n",
      "局所方向符号 2\n",
      "theta Cn 114 3.795519850103321\n",
      "局所方向符号 0\n",
      "theta Cn 115 87.92093675510465\n",
      "局所方向符号 1\n",
      "theta Cn 116 85.04954534338678\n",
      "局所方向符号 1\n",
      "theta Cn 117 38.24367468859417\n",
      "局所方向符号 0\n",
      "theta Cn 118 0.34976425369292996\n",
      "局所方向符号 0\n",
      "theta Cn 119 102.45473539534598\n",
      "局所方向符号 2\n",
      "theta Cn 120 0.7160418194820237\n",
      "局所方向符号 0\n",
      "theta Cn 121 7.558076809281103\n",
      "局所方向符号 0\n",
      "theta Cn 122 15.5817899423234\n",
      "局所方向符号 0\n",
      "theta Cn 123 18.7275617912047\n",
      "局所方向符号 0\n",
      "theta Cn 124 2.2141697604725943\n",
      "局所方向符号 0\n",
      "theta Cn 125 9.31150129016438\n",
      "局所方向符号 0\n",
      "theta Cn 126 3.5903864153275133\n",
      "局所方向符号 0\n",
      "theta Cn 127 76.00951907558678\n",
      "局所方向符号 1\n",
      "theta Cn 128 0.8538325386800182\n",
      "局所方向符号 0\n",
      "theta Cn 129 6.282744860100344\n",
      "局所方向符号 0\n",
      "theta Cn 130 93.20955521339116\n",
      "局所方向符号 2\n",
      "theta Cn 131 1.3268790452743282\n",
      "局所方向符号 0\n",
      "theta Cn 132 84.75196416589465\n",
      "局所方向符号 1\n",
      "theta Cn 133 19.132281835681514\n",
      "局所方向符号 0\n",
      "theta Cn 134 13.713629061406376\n",
      "局所方向符号 0\n",
      "theta Cn 135 32.65117378373333\n",
      "局所方向符号 0\n",
      "theta Cn 136 68.02541134945609\n",
      "局所方向符号 1\n",
      "theta Cn 137 96.82122666813719\n",
      "局所方向符号 2\n",
      "theta Cn 138 4.453060187815535\n",
      "局所方向符号 0\n",
      "theta Cn 139 12.29601186052111\n",
      "局所方向符号 0\n",
      "theta Cn 140 0.991556693131355\n",
      "局所方向符号 0\n",
      "theta Cn 141 6.840116831361454\n",
      "局所方向符号 0\n",
      "theta Cn 142 13.148446440650332\n",
      "局所方向符号 0\n",
      "theta Cn 143 85.88833833440854\n",
      "局所方向符号 1\n",
      "theta Cn 144 96.26882285004876\n",
      "局所方向符号 2\n",
      "theta Cn 145 1.2803329568877257\n",
      "局所方向符号 0\n",
      "theta Cn 146 78.31399411353061\n",
      "局所方向符号 1\n",
      "theta Cn 147 5.285843248016469\n",
      "局所方向符号 0\n",
      "theta Cn 148 3.7198064875132695\n",
      "局所方向符号 0\n",
      "theta Cn 149 95.1392240529146\n",
      "局所方向符号 2\n",
      "theta Cn 150 45.32643484187026\n",
      "局所方向符号 1\n",
      "theta Cn 151 48.48922343099426\n",
      "局所方向符号 1\n",
      "theta Cn 152 1.7912527552796098\n",
      "局所方向符号 0\n",
      "theta Cn 153 94.0340028238289\n",
      "局所方向符号 2\n",
      "theta Cn 154 9.75394344396212\n",
      "局所方向符号 0\n",
      "theta Cn 155 7.666559874563229\n",
      "局所方向符号 0\n",
      "theta Cn 156 1.6350610180709992\n",
      "局所方向符号 0\n",
      "theta Cn 157 31.02865597030902\n",
      "局所方向符号 0\n",
      "theta Cn 158 27.80999160674412\n",
      "局所方向符号 0\n",
      "theta Cn 159 28.66273134627821\n",
      "局所方向符号 0\n",
      "theta Cn 160 34.14274490559854\n",
      "局所方向符号 0\n",
      "theta Cn 161 7.681846914977619\n",
      "局所方向符号 0\n",
      "theta Cn 162 9.19258490990797\n",
      "局所方向符号 0\n",
      "theta Cn 163 1.7972097484285572\n",
      "局所方向符号 0\n",
      "theta Cn 164 3.4592009634275716\n",
      "局所方向符号 0\n",
      "theta Cn 165 2.8472541009704355\n",
      "局所方向符号 0\n",
      "theta Cn 166 267.1052488789084\n",
      "局所方向符号 5\n"
     ]
    }
   ],
   "source": [
    "# 局所方向符号を定義する\n",
    "# Cn_secがもとまる\n",
    "cn_list = []\n",
    "for c in range(df.shape[0] - 1):\n",
    "    cc = c + 1\n",
    "    if cc < df.shape[0] - 1:\n",
    "        fir = df.loc[cc-1,:].values\n",
    "        sec = df.loc[cc,:].values\n",
    "        thr = df.loc[cc+1,:].values\n",
    "    else:\n",
    "        fir = df.loc[cc-1,:].values\n",
    "        sec = df.loc[cc,:].values\n",
    "        thr = df.loc[1,:].values\n",
    "\n",
    "    v1 = sec - fir\n",
    "    v2 = thr - sec\n",
    "\n",
    "    if v2[1] < 0 :\n",
    "        r = 180\n",
    "    else:\n",
    "        r = 0\n",
    "\n",
    "    n1 = np.linalg.norm(v1, ord=2)\n",
    "    n2 = np.linalg.norm(v2, ord=2)\n",
    "\n",
    "    d = np.dot(v1, v2)\n",
    "\n",
    "    cos = d / (n1 * n2)\n",
    "\n",
    "    # Cn_secの角度\n",
    "    theta = np.arccos(cos)\n",
    "    theta = r + np.degrees(theta)\n",
    "    print(\"theta\", \"Cn\", cc, theta)\n",
    "\n",
    "    # 局所方向符号:cn\n",
    "    if (0 <= theta < 45):\n",
    "        cn = 0\n",
    "    elif (45 <= theta < 90):\n",
    "        cn = 1\n",
    "    elif (90 <= theta < 135):\n",
    "        cn = 2\n",
    "    elif (135 <= theta < 180):\n",
    "        cn = 3\n",
    "    elif (180 <= theta < 225):\n",
    "        cn = 4\n",
    "    elif (225 <= theta < 270):\n",
    "        cn = 5\n",
    "    elif (270 <= theta < 315):\n",
    "        cn = 6\n",
    "    elif (315 <= theta < 360):\n",
    "        cn = 7\n",
    "\n",
    "    print(\"局所方向符号\", cn)\n",
    "    cn_list.append(cn)"
   ]
  },
  {
   "cell_type": "code",
   "execution_count": 822,
   "metadata": {
    "ExecuteTime": {
     "end_time": "2023-05-17T22:50:46.761568Z",
     "start_time": "2023-05-17T22:50:46.077028Z"
    },
    "collapsed": false
   },
   "outputs": [],
   "source": [
    "# 調整\n",
    "df = df.loc[:df.shape[0] - 2,:]\n",
    "cn_list.insert(0, cn_list[-1])\n",
    "cn_list = cn_list[:-1]\n",
    "df[\"Cn\"] = cn_list"
   ]
  },
  {
   "cell_type": "code",
   "execution_count": 823,
   "metadata": {
    "ExecuteTime": {
     "end_time": "2023-05-17T22:50:46.761805Z",
     "start_time": "2023-05-17T22:50:46.080868Z"
    },
    "collapsed": false
   },
   "outputs": [],
   "source": [
    "# 局所曲率符号: ca\n",
    "# Cai = octmod(Cni - Cni-1 + 11) - 3\n",
    "ca_list = []\n",
    "for l in range(len(cn_list)):\n",
    "    # llは1-8をとる　8をとるとout of range\n",
    "    ll = l + 1\n",
    "    if ll < len(cn_list):\n",
    "        ca = ((cn_list[ll-1] - cn_list[ll] + 11 ) % 8 ) - 3\n",
    "    else:\n",
    "        ca = ((cn_list[ll-1] - cn_list[0] + 11 ) % 8 ) - 3\n",
    "    ca_list.append(ca)\n",
    "df[\"Ca\"] = ca_list"
   ]
  },
  {
   "cell_type": "code",
   "execution_count": 824,
   "metadata": {
    "ExecuteTime": {
     "end_time": "2023-05-17T22:50:46.762031Z",
     "start_time": "2023-05-17T22:50:46.088610Z"
    },
    "collapsed": false
   },
   "outputs": [],
   "source": [
    "def get_range_list(i, k):\n",
    "    x = [tmp for tmp in range(df.shape[0])]\n",
    "    xi = x.index(i)\n",
    "\n",
    "    fir = xi - k\n",
    "    sec = xi\n",
    "    thr = xi + k\n",
    "\n",
    "    if xi - k <= -1:\n",
    "        under = df.shape[0] + xi - k\n",
    "        tun = 0\n",
    "    else:\n",
    "        under = xi - k\n",
    "        tun = 1\n",
    "\n",
    "    if xi + k + 1 >= df.shape[0]:\n",
    "        upper = xi + k + 1 - df.shape[0]\n",
    "        tup = 0\n",
    "    else:\n",
    "        upper = xi + k + 1\n",
    "        tup = 1\n",
    "    if tun * tup == 1:\n",
    "        r_l = x[under:upper]\n",
    "    else:\n",
    "        r_l = x[under:] + x[:upper]\n",
    "\n",
    "    return r_l"
   ]
  },
  {
   "cell_type": "code",
   "execution_count": 825,
   "metadata": {
    "ExecuteTime": {
     "end_time": "2023-05-17T22:50:46.763378Z",
     "start_time": "2023-05-17T22:50:46.102828Z"
    },
    "collapsed": false
   },
   "outputs": [],
   "source": [
    "# G-オペレーション\n",
    "# M: Mは平滑化に用いる曲線上の連続した画素数\n",
    "# Gi: 曲線の曲率半径が小さいほど、絶対値が大きくなる。\n",
    "# 絶対値が大きい部分が曲線の角の部分であると考えられる\n",
    "# +が左回り, -が右回り\n",
    "\n",
    "M = 2\n",
    "k = M - 1\n",
    "s = 0\n",
    "gi_list = []\n",
    "for i in range(df.shape[0]):\n",
    "    r_l = get_range_list(i, k)\n",
    "    c = r_l.index(i)\n",
    "\n",
    "    # CnとCaの値を抽出する\n",
    "    tmp = df.loc[r_l, :]\n",
    "\n",
    "    for tk in range(M-1) :\n",
    "        ca_under = tmp.loc[r_l[c - tk], \"Ca\"]\n",
    "        ca_upper = tmp.loc[r_l[c + tk], \"Ca\"]\n",
    "        # print(ca_under, ca_upper)\n",
    "        s = (M - k+1) * (ca_under + ca_upper) + s\n",
    "\n",
    "    Gi = M * tmp.loc[i, \"Ca\"]  + s\n",
    "    gi_list.append(Gi)\n",
    "df[\"Gi\"] = gi_list"
   ]
  },
  {
   "cell_type": "code",
   "execution_count": 826,
   "metadata": {
    "ExecuteTime": {
     "end_time": "2023-05-17T22:50:46.763739Z",
     "start_time": "2023-05-17T22:50:46.162441Z"
    },
    "collapsed": false
   },
   "outputs": [
    {
     "data": {
      "text/plain": [
       "'\\n一致判定方法（案）\\n\\nQ. 近似的な一致に対応できるか\\nQ.\\n\\n\\n1. 一方のポリゴンをずらしていいって、Giの二条和誤差が最小となるずらし回数を算出\\n2. 相互相関係数: 表をlevel_1で昇順・降順で並べた上で比較しないとずれる\\n3. 相互相関係数\\u3000→\\u3000類似部分を抽出\\u3000→\\u3000逆転\\n\\n'"
      ]
     },
     "execution_count": 826,
     "metadata": {},
     "output_type": "execute_result"
    }
   ],
   "source": [
    "\"\"\"\n",
    "一致判定方法（案）\n",
    "\n",
    "Q. 近似的な一致に対応できるか\n",
    "Q.\n",
    "\n",
    "\n",
    "1. 一方のポリゴンをずらしていいって、Giの二条和誤差が最小となるずらし回数を算出\n",
    "2. 相互相関係数: 表をlevel_1で昇順・降順で並べた上で比較しないとずれる\n",
    "3. 相互相関係数　→　類似部分を抽出　→　逆転\n",
    "\n",
    "\"\"\""
   ]
  },
  {
   "cell_type": "markdown",
   "metadata": {
    "collapsed": false
   },
   "source": [
    "## 符号的：直線・角度的アプローチ"
   ]
  },
  {
   "cell_type": "code",
   "execution_count": 856,
   "metadata": {
    "ExecuteTime": {
     "end_time": "2023-05-17T22:55:12.436676Z",
     "start_time": "2023-05-17T22:55:12.403890Z"
    },
    "collapsed": false
   },
   "outputs": [],
   "source": [
    "tdf = df.copy()"
   ]
  },
  {
   "cell_type": "code",
   "execution_count": 857,
   "metadata": {
    "ExecuteTime": {
     "end_time": "2023-05-17T22:55:12.673509Z",
     "start_time": "2023-05-17T22:55:12.661954Z"
    },
    "collapsed": false
   },
   "outputs": [],
   "source": [
    "# 座標変換\n",
    "min_x = tdf[\"x\"].min()\n",
    "min_y = tdf[\"y\"].min()\n",
    "tdf[\"x\"] = tdf[\"x\"] - min_x\n",
    "tdf[\"y\"] = tdf[\"y\"] - min_y\n"
   ]
  },
  {
   "cell_type": "code",
   "execution_count": 864,
   "metadata": {
    "ExecuteTime": {
     "end_time": "2023-05-17T22:55:34.110102Z",
     "start_time": "2023-05-17T22:55:34.084120Z"
    },
    "collapsed": false
   },
   "outputs": [],
   "source": [
    "# 特徴量の抽出 pd.DataFrame -> list -> pd.DataFrame(datamart)\n",
    "# ポリゴンの個数\n",
    "polygon_num = [i for i in tdf.level_0.unique()]\n",
    "# 各ポリゴンのPOINT数\n",
    "point_num = tdf.groupby(\"level_0\").count()\n",
    "point_num = point_num[\"level_1\"].to_list()\n",
    "# 角の抽出 # 主要な角の抽出条件は・・Cn>1かつCa>1かつGi>14 corner=0:直線, corner=1:角\n",
    "conditions = (tdf[\"Cn\"]>=1) & (tdf[\"Gi\"] != 0)\n",
    "tdf['corner'] = 1\n",
    "tdf.loc[~conditions, 'corner'] = 0\n",
    "\n",
    "# 角の抽出　ポリゴンごとに抽出する\n",
    "# TODO\n",
    "tdf_0 = tdf.loc[df[\"level_0\"] == 1, :]\n",
    "# cornerとlineをlevel_1をindexとして利用してlistで管理する\n",
    "corner_df = tdf_0[tdf_0[\"corner\"] != 0]\n",
    "corner_df = corner_df.reset_index(drop=False)\n",
    "\n",
    "# 直近のcorner同士のxy座標から距離を測定\n",
    "# dfから測定に用いるレコードの組み合わせを抽出　indexを指定する\n",
    "def leftShiftIndex(arr, n):\n",
    "    result = arr[n:] + arr[:n]\n",
    "    return result\n",
    "list1 = corner_df[\"index\"].to_list()\n",
    "list2 = leftShiftIndex(list1,1)\n",
    "line_index_list = []\n",
    "for i,j in zip(list1, list2):\n",
    "    line_index_list.append([i,j])\n",
    "\n",
    "# 距離と傾きを算出 -> corner_dfに結合\n",
    "diff_list = []\n",
    "trend_list = []\n",
    "for k in line_index_list:\n",
    "    ia = k[0]\n",
    "    ib = k[1]\n",
    "    tmp = corner_df[(corner_df[\"index\"] == ia) | (corner_df[\"index\"] == ib)].reset_index(drop=True)\n",
    "    # 距離を計算\n",
    "    diff = ((tmp.loc[1,\"x\"] - tmp.loc[0,\"x\"])**2 + (tmp.loc[1,\"y\"] - tmp.loc[0,\"y\"])**2) ** 1/2\n",
    "    diff_list.append(diff)\n",
    "    # 傾きを計算\n",
    "    trend = ((tmp.loc[0,\"y\"] - tmp.loc[1,\"y\"]) / (tmp.loc[0,\"x\"] - tmp.loc[1,\"x\"]))\n",
    "    trend_list.append(trend)\n",
    "corner_df[\"diff\"] = diff_list\n",
    "corner_df[\"trend\"] = trend_list\n",
    "\n",
    "# diffを丸める\n",
    "from decimal import *\n",
    "\n",
    "def make_round(d):\n",
    "    # getcontext().rounding=ROUND_HALF_UP\n",
    "    # getcontext().prec=1\n",
    "    # d = float(Decimal(d))\n",
    "    d = round(d, -3)\n",
    "    return d\n",
    "\n",
    "corner_df[\"diff\"] = corner_df[\"diff\"].apply(make_round)\n",
    "# corner_df[\"trend\"] = corner_df[\"trend\"].apply(make_round)\n",
    "# corner_df[\"diff\"] = corner_df[\"diff\"] * corner_df[\"trend\"]"
   ]
  },
  {
   "cell_type": "code",
   "execution_count": 865,
   "metadata": {
    "ExecuteTime": {
     "end_time": "2023-05-17T22:55:36.810702Z",
     "start_time": "2023-05-17T22:55:36.798659Z"
    },
    "collapsed": false
   },
   "outputs": [],
   "source": [
    "# ans_0 = corner_df.copy()\n",
    "ans_1 = corner_df.copy()"
   ]
  },
  {
   "cell_type": "code",
   "execution_count": 866,
   "metadata": {
    "ExecuteTime": {
     "end_time": "2023-05-17T22:55:37.090631Z",
     "start_time": "2023-05-17T22:55:37.085689Z"
    },
    "collapsed": false
   },
   "outputs": [],
   "source": [
    "ans_0 = ans_0[ans_0[\"diff\"] != 0]\n",
    "ans_1 = ans_1.sort_values(\"index\",ascending=False)\n",
    "ans_1 = ans_1[ans_1[\"diff\"] != 0]"
   ]
  },
  {
   "cell_type": "code",
   "execution_count": 867,
   "metadata": {
    "ExecuteTime": {
     "end_time": "2023-05-17T22:55:37.750625Z",
     "start_time": "2023-05-17T22:55:37.566700Z"
    },
    "collapsed": false
   },
   "outputs": [
    {
     "data": {
      "text/plain": [
       "<Axes: >"
      ]
     },
     "execution_count": 867,
     "metadata": {},
     "output_type": "execute_result"
    },
    {
     "data": {
      "image/png": "[encoded data removed]",
      "text/plain": [
       "<Figure size 640x480 with 1 Axes>"
      ]
     },
     "metadata": {},
     "output_type": "display_data"
    }
   ],
   "source": [
    "p0 = Polygon(gpd.points_from_xy(ans_0[\"x\"], ans_0[\"y\"]))\n",
    "p1 = Polygon(gpd.points_from_xy(ans_1[\"x\"], ans_1[\"y\"]))\n",
    "r_gdf = gpd.GeoDataFrame([p0, p1], geometry=0)\n",
    "r_gdf.plot()"
   ]
  },
  {
   "cell_type": "code",
   "execution_count": 868,
   "metadata": {
    "ExecuteTime": {
     "end_time": "2023-05-17T22:55:38.674249Z",
     "start_time": "2023-05-17T22:55:38.645721Z"
    },
    "collapsed": false
   },
   "outputs": [
    {
     "data": {
      "text/plain": [
       "251.53164325361948"
      ]
     },
     "execution_count": 868,
     "metadata": {},
     "output_type": "execute_result"
    }
   ],
   "source": [
    "r_gdf[\"centroid\"] = r_gdf.centroid\n",
    "distance = r_gdf.loc[0,\"centroid\"].distance(r_gdf.loc[1,\"centroid\"])\n",
    "distance"
   ]
  },
  {
   "cell_type": "code",
   "execution_count": 869,
   "metadata": {
    "ExecuteTime": {
     "end_time": "2023-05-17T22:55:38.975348Z",
     "start_time": "2023-05-17T22:55:38.950446Z"
    },
    "collapsed": false
   },
   "outputs": [
    {
     "data": {
      "text/html": [
       "<div>\n",
       "<style scoped>\n",
       "    .dataframe tbody tr th:only-of-type {\n",
       "        vertical-align: middle;\n",
       "    }\n",
       "\n",
       "    .dataframe tbody tr th {\n",
       "        vertical-align: top;\n",
       "    }\n",
       "\n",
       "    .dataframe thead th {\n",
       "        text-align: right;\n",
       "    }\n",
       "</style>\n",
       "<table border=\"1\" class=\"dataframe\">\n",
       "  <thead>\n",
       "    <tr style=\"text-align: right;\">\n",
       "      <th></th>\n",
       "      <th>index</th>\n",
       "      <th>level_0</th>\n",
       "      <th>level_1</th>\n",
       "      <th>x</th>\n",
       "      <th>y</th>\n",
       "      <th>Cn</th>\n",
       "      <th>Ca</th>\n",
       "      <th>Gi</th>\n",
       "      <th>corner</th>\n",
       "      <th>diff</th>\n",
       "      <th>trend</th>\n",
       "    </tr>\n",
       "  </thead>\n",
       "  <tbody>\n",
       "    <tr>\n",
       "      <th>1</th>\n",
       "      <td>1</td>\n",
       "      <td>0</td>\n",
       "      <td>1</td>\n",
       "      <td>38.705</td>\n",
       "      <td>125.543</td>\n",
       "      <td>2</td>\n",
       "      <td>2</td>\n",
       "      <td>24</td>\n",
       "      <td>1</td>\n",
       "      <td>2000.0</td>\n",
       "      <td>-12.036590</td>\n",
       "    </tr>\n",
       "    <tr>\n",
       "      <th>2</th>\n",
       "      <td>3</td>\n",
       "      <td>0</td>\n",
       "      <td>3</td>\n",
       "      <td>33.567</td>\n",
       "      <td>187.387</td>\n",
       "      <td>1</td>\n",
       "      <td>1</td>\n",
       "      <td>22</td>\n",
       "      <td>1</td>\n",
       "      <td>2000.0</td>\n",
       "      <td>0.001949</td>\n",
       "    </tr>\n",
       "    <tr>\n",
       "      <th>4</th>\n",
       "      <td>13</td>\n",
       "      <td>0</td>\n",
       "      <td>13</td>\n",
       "      <td>98.606</td>\n",
       "      <td>212.271</td>\n",
       "      <td>2</td>\n",
       "      <td>2</td>\n",
       "      <td>24</td>\n",
       "      <td>1</td>\n",
       "      <td>2000.0</td>\n",
       "      <td>-0.328191</td>\n",
       "    </tr>\n",
       "    <tr>\n",
       "      <th>5</th>\n",
       "      <td>16</td>\n",
       "      <td>0</td>\n",
       "      <td>16</td>\n",
       "      <td>161.618</td>\n",
       "      <td>191.591</td>\n",
       "      <td>1</td>\n",
       "      <td>1</td>\n",
       "      <td>22</td>\n",
       "      <td>1</td>\n",
       "      <td>1000.0</td>\n",
       "      <td>1.601247</td>\n",
       "    </tr>\n",
       "    <tr>\n",
       "      <th>11</th>\n",
       "      <td>24</td>\n",
       "      <td>0</td>\n",
       "      <td>24</td>\n",
       "      <td>197.220</td>\n",
       "      <td>240.313</td>\n",
       "      <td>2</td>\n",
       "      <td>2</td>\n",
       "      <td>24</td>\n",
       "      <td>1</td>\n",
       "      <td>2000.0</td>\n",
       "      <td>2.191541</td>\n",
       "    </tr>\n",
       "    <tr>\n",
       "      <th>15</th>\n",
       "      <td>34</td>\n",
       "      <td>0</td>\n",
       "      <td>34</td>\n",
       "      <td>219.170</td>\n",
       "      <td>278.813</td>\n",
       "      <td>1</td>\n",
       "      <td>1</td>\n",
       "      <td>22</td>\n",
       "      <td>1</td>\n",
       "      <td>1000.0</td>\n",
       "      <td>-0.533130</td>\n",
       "    </tr>\n",
       "    <tr>\n",
       "      <th>16</th>\n",
       "      <td>38</td>\n",
       "      <td>0</td>\n",
       "      <td>38</td>\n",
       "      <td>260.537</td>\n",
       "      <td>256.759</td>\n",
       "      <td>2</td>\n",
       "      <td>2</td>\n",
       "      <td>24</td>\n",
       "      <td>1</td>\n",
       "      <td>1000.0</td>\n",
       "      <td>1.905018</td>\n",
       "    </tr>\n",
       "    <tr>\n",
       "      <th>17</th>\n",
       "      <td>41</td>\n",
       "      <td>0</td>\n",
       "      <td>41</td>\n",
       "      <td>285.605</td>\n",
       "      <td>304.514</td>\n",
       "      <td>1</td>\n",
       "      <td>1</td>\n",
       "      <td>22</td>\n",
       "      <td>1</td>\n",
       "      <td>5000.0</td>\n",
       "      <td>-0.435340</td>\n",
       "    </tr>\n",
       "    <tr>\n",
       "      <th>18</th>\n",
       "      <td>50</td>\n",
       "      <td>0</td>\n",
       "      <td>50</td>\n",
       "      <td>373.426</td>\n",
       "      <td>266.282</td>\n",
       "      <td>1</td>\n",
       "      <td>1</td>\n",
       "      <td>22</td>\n",
       "      <td>1</td>\n",
       "      <td>38000.0</td>\n",
       "      <td>3.854969</td>\n",
       "    </tr>\n",
       "    <tr>\n",
       "      <th>19</th>\n",
       "      <td>60</td>\n",
       "      <td>0</td>\n",
       "      <td>60</td>\n",
       "      <td>304.351</td>\n",
       "      <td>0.000</td>\n",
       "      <td>1</td>\n",
       "      <td>1</td>\n",
       "      <td>22</td>\n",
       "      <td>1</td>\n",
       "      <td>31000.0</td>\n",
       "      <td>-0.285687</td>\n",
       "    </tr>\n",
       "    <tr>\n",
       "      <th>20</th>\n",
       "      <td>65</td>\n",
       "      <td>0</td>\n",
       "      <td>65</td>\n",
       "      <td>64.841</td>\n",
       "      <td>68.425</td>\n",
       "      <td>1</td>\n",
       "      <td>1</td>\n",
       "      <td>22</td>\n",
       "      <td>1</td>\n",
       "      <td>2000.0</td>\n",
       "      <td>-2.906764</td>\n",
       "    </tr>\n",
       "  </tbody>\n",
       "</table>\n",
       "</div>"
      ],
      "text/plain": [
       "    index  level_0  level_1        x        y  Cn  Ca  Gi  corner     diff   \n",
       "1       1        0        1   38.705  125.543   2   2  24       1   2000.0  \\\n",
       "2       3        0        3   33.567  187.387   1   1  22       1   2000.0   \n",
       "4      13        0       13   98.606  212.271   2   2  24       1   2000.0   \n",
       "5      16        0       16  161.618  191.591   1   1  22       1   1000.0   \n",
       "11     24        0       24  197.220  240.313   2   2  24       1   2000.0   \n",
       "15     34        0       34  219.170  278.813   1   1  22       1   1000.0   \n",
       "16     38        0       38  260.537  256.759   2   2  24       1   1000.0   \n",
       "17     41        0       41  285.605  304.514   1   1  22       1   5000.0   \n",
       "18     50        0       50  373.426  266.282   1   1  22       1  38000.0   \n",
       "19     60        0       60  304.351    0.000   1   1  22       1  31000.0   \n",
       "20     65        0       65   64.841   68.425   1   1  22       1   2000.0   \n",
       "\n",
       "        trend  \n",
       "1  -12.036590  \n",
       "2    0.001949  \n",
       "4   -0.328191  \n",
       "5    1.601247  \n",
       "11   2.191541  \n",
       "15  -0.533130  \n",
       "16   1.905018  \n",
       "17  -0.435340  \n",
       "18   3.854969  \n",
       "19  -0.285687  \n",
       "20  -2.906764  "
      ]
     },
     "execution_count": 869,
     "metadata": {},
     "output_type": "execute_result"
    }
   ],
   "source": [
    "ans_0"
   ]
  },
  {
   "cell_type": "code",
   "execution_count": 870,
   "metadata": {
    "ExecuteTime": {
     "end_time": "2023-05-17T22:55:39.398671Z",
     "start_time": "2023-05-17T22:55:39.397056Z"
    },
    "collapsed": false
   },
   "outputs": [
    {
     "data": {
      "text/html": [
       "<div>\n",
       "<style scoped>\n",
       "    .dataframe tbody tr th:only-of-type {\n",
       "        vertical-align: middle;\n",
       "    }\n",
       "\n",
       "    .dataframe tbody tr th {\n",
       "        vertical-align: top;\n",
       "    }\n",
       "\n",
       "    .dataframe thead th {\n",
       "        text-align: right;\n",
       "    }\n",
       "</style>\n",
       "<table border=\"1\" class=\"dataframe\">\n",
       "  <thead>\n",
       "    <tr style=\"text-align: right;\">\n",
       "      <th></th>\n",
       "      <th>index</th>\n",
       "      <th>level_0</th>\n",
       "      <th>level_1</th>\n",
       "      <th>x</th>\n",
       "      <th>y</th>\n",
       "      <th>Cn</th>\n",
       "      <th>Ca</th>\n",
       "      <th>Gi</th>\n",
       "      <th>corner</th>\n",
       "      <th>diff</th>\n",
       "      <th>trend</th>\n",
       "    </tr>\n",
       "  </thead>\n",
       "  <tbody>\n",
       "    <tr>\n",
       "      <th>27</th>\n",
       "      <td>153</td>\n",
       "      <td>1</td>\n",
       "      <td>85</td>\n",
       "      <td>83.168</td>\n",
       "      <td>262.834</td>\n",
       "      <td>2</td>\n",
       "      <td>2</td>\n",
       "      <td>56</td>\n",
       "      <td>1</td>\n",
       "      <td>2000.0</td>\n",
       "      <td>-0.005714</td>\n",
       "    </tr>\n",
       "    <tr>\n",
       "      <th>23</th>\n",
       "      <td>146</td>\n",
       "      <td>1</td>\n",
       "      <td>78</td>\n",
       "      <td>150.618</td>\n",
       "      <td>267.412</td>\n",
       "      <td>1</td>\n",
       "      <td>1</td>\n",
       "      <td>54</td>\n",
       "      <td>1</td>\n",
       "      <td>2000.0</td>\n",
       "      <td>-0.320057</td>\n",
       "    </tr>\n",
       "    <tr>\n",
       "      <th>22</th>\n",
       "      <td>144</td>\n",
       "      <td>1</td>\n",
       "      <td>76</td>\n",
       "      <td>169.713</td>\n",
       "      <td>298.744</td>\n",
       "      <td>2</td>\n",
       "      <td>2</td>\n",
       "      <td>56</td>\n",
       "      <td>1</td>\n",
       "      <td>1000.0</td>\n",
       "      <td>1.640848</td>\n",
       "    </tr>\n",
       "    <tr>\n",
       "      <th>20</th>\n",
       "      <td>137</td>\n",
       "      <td>1</td>\n",
       "      <td>69</td>\n",
       "      <td>210.799</td>\n",
       "      <td>373.600</td>\n",
       "      <td>2</td>\n",
       "      <td>2</td>\n",
       "      <td>56</td>\n",
       "      <td>1</td>\n",
       "      <td>4000.0</td>\n",
       "      <td>2.038508</td>\n",
       "    </tr>\n",
       "    <tr>\n",
       "      <th>17</th>\n",
       "      <td>130</td>\n",
       "      <td>1</td>\n",
       "      <td>62</td>\n",
       "      <td>248.545</td>\n",
       "      <td>333.569</td>\n",
       "      <td>2</td>\n",
       "      <td>2</td>\n",
       "      <td>56</td>\n",
       "      <td>1</td>\n",
       "      <td>1000.0</td>\n",
       "      <td>-0.526986</td>\n",
       "    </tr>\n",
       "    <tr>\n",
       "      <th>16</th>\n",
       "      <td>127</td>\n",
       "      <td>1</td>\n",
       "      <td>59</td>\n",
       "      <td>273.320</td>\n",
       "      <td>381.618</td>\n",
       "      <td>1</td>\n",
       "      <td>1</td>\n",
       "      <td>54</td>\n",
       "      <td>1</td>\n",
       "      <td>1000.0</td>\n",
       "      <td>1.939415</td>\n",
       "    </tr>\n",
       "    <tr>\n",
       "      <th>15</th>\n",
       "      <td>119</td>\n",
       "      <td>1</td>\n",
       "      <td>51</td>\n",
       "      <td>360.613</td>\n",
       "      <td>344.309</td>\n",
       "      <td>2</td>\n",
       "      <td>2</td>\n",
       "      <td>56</td>\n",
       "      <td>1</td>\n",
       "      <td>5000.0</td>\n",
       "      <td>-0.427400</td>\n",
       "    </tr>\n",
       "    <tr>\n",
       "      <th>14</th>\n",
       "      <td>116</td>\n",
       "      <td>1</td>\n",
       "      <td>48</td>\n",
       "      <td>390.802</td>\n",
       "      <td>421.589</td>\n",
       "      <td>1</td>\n",
       "      <td>1</td>\n",
       "      <td>54</td>\n",
       "      <td>1</td>\n",
       "      <td>3000.0</td>\n",
       "      <td>2.559873</td>\n",
       "    </tr>\n",
       "    <tr>\n",
       "      <th>12</th>\n",
       "      <td>113</td>\n",
       "      <td>1</td>\n",
       "      <td>45</td>\n",
       "      <td>443.141</td>\n",
       "      <td>460.607</td>\n",
       "      <td>2</td>\n",
       "      <td>2</td>\n",
       "      <td>56</td>\n",
       "      <td>1</td>\n",
       "      <td>2000.0</td>\n",
       "      <td>0.737808</td>\n",
       "    </tr>\n",
       "    <tr>\n",
       "      <th>10</th>\n",
       "      <td>107</td>\n",
       "      <td>1</td>\n",
       "      <td>39</td>\n",
       "      <td>503.104</td>\n",
       "      <td>535.201</td>\n",
       "      <td>1</td>\n",
       "      <td>1</td>\n",
       "      <td>54</td>\n",
       "      <td>1</td>\n",
       "      <td>5000.0</td>\n",
       "      <td>0.640353</td>\n",
       "    </tr>\n",
       "    <tr>\n",
       "      <th>4</th>\n",
       "      <td>95</td>\n",
       "      <td>1</td>\n",
       "      <td>27</td>\n",
       "      <td>405.713</td>\n",
       "      <td>518.022</td>\n",
       "      <td>1</td>\n",
       "      <td>1</td>\n",
       "      <td>54</td>\n",
       "      <td>1</td>\n",
       "      <td>2000.0</td>\n",
       "      <td>0.120918</td>\n",
       "    </tr>\n",
       "    <tr>\n",
       "      <th>2</th>\n",
       "      <td>75</td>\n",
       "      <td>1</td>\n",
       "      <td>7</td>\n",
       "      <td>0.000</td>\n",
       "      <td>414.391</td>\n",
       "      <td>1</td>\n",
       "      <td>1</td>\n",
       "      <td>54</td>\n",
       "      <td>1</td>\n",
       "      <td>87000.0</td>\n",
       "      <td>0.289021</td>\n",
       "    </tr>\n",
       "    <tr>\n",
       "      <th>1</th>\n",
       "      <td>69</td>\n",
       "      <td>1</td>\n",
       "      <td>1</td>\n",
       "      <td>22.437</td>\n",
       "      <td>262.155</td>\n",
       "      <td>2</td>\n",
       "      <td>2</td>\n",
       "      <td>56</td>\n",
       "      <td>1</td>\n",
       "      <td>12000.0</td>\n",
       "      <td>-6.785043</td>\n",
       "    </tr>\n",
       "  </tbody>\n",
       "</table>\n",
       "</div>"
      ],
      "text/plain": [
       "    index  level_0  level_1        x        y  Cn  Ca  Gi  corner     diff   \n",
       "27    153        1       85   83.168  262.834   2   2  56       1   2000.0  \\\n",
       "23    146        1       78  150.618  267.412   1   1  54       1   2000.0   \n",
       "22    144        1       76  169.713  298.744   2   2  56       1   1000.0   \n",
       "20    137        1       69  210.799  373.600   2   2  56       1   4000.0   \n",
       "17    130        1       62  248.545  333.569   2   2  56       1   1000.0   \n",
       "16    127        1       59  273.320  381.618   1   1  54       1   1000.0   \n",
       "15    119        1       51  360.613  344.309   2   2  56       1   5000.0   \n",
       "14    116        1       48  390.802  421.589   1   1  54       1   3000.0   \n",
       "12    113        1       45  443.141  460.607   2   2  56       1   2000.0   \n",
       "10    107        1       39  503.104  535.201   1   1  54       1   5000.0   \n",
       "4      95        1       27  405.713  518.022   1   1  54       1   2000.0   \n",
       "2      75        1        7    0.000  414.391   1   1  54       1  87000.0   \n",
       "1      69        1        1   22.437  262.155   2   2  56       1  12000.0   \n",
       "\n",
       "       trend  \n",
       "27 -0.005714  \n",
       "23 -0.320057  \n",
       "22  1.640848  \n",
       "20  2.038508  \n",
       "17 -0.526986  \n",
       "16  1.939415  \n",
       "15 -0.427400  \n",
       "14  2.559873  \n",
       "12  0.737808  \n",
       "10  0.640353  \n",
       "4   0.120918  \n",
       "2   0.289021  \n",
       "1  -6.785043  "
      ]
     },
     "execution_count": 870,
     "metadata": {},
     "output_type": "execute_result"
    }
   ],
   "source": [
    "ans_1"
   ]
  },
  {
   "cell_type": "markdown",
   "metadata": {
    "collapsed": false
   },
   "source": [
    "## 最小二乗法"
   ]
  },
  {
   "cell_type": "code",
   "execution_count": 871,
   "metadata": {
    "ExecuteTime": {
     "end_time": "2023-05-17T22:55:40.533821Z",
     "start_time": "2023-05-17T22:55:40.517734Z"
    },
    "collapsed": false
   },
   "outputs": [],
   "source": [
    "a0_df = ans_0.copy()\n",
    "a1_df = ans_1.copy()\n",
    "a0_diff_list = a0_df[\"diff\"]\n",
    "a1_diff_list = a1_df[\"diff\"]\n",
    "a0_trend_list = a0_df[\"trend\"]\n",
    "a1_trend_list = a1_df[\"trend\"]"
   ]
  },
  {
   "cell_type": "code",
   "execution_count": 872,
   "metadata": {
    "ExecuteTime": {
     "end_time": "2023-05-17T22:55:40.983871Z",
     "start_time": "2023-05-17T22:55:40.942387Z"
    },
    "collapsed": false
   },
   "outputs": [
    {
     "name": "stdout",
     "output_type": "stream",
     "text": [
      "最小二乗誤差: 2003000000.0\n",
      "最適なずらし: 0\n",
      "最小二乗誤差: 42.91200494039253\n",
      "最適なずらし: 1\n"
     ]
    }
   ],
   "source": [
    "def calculate_shifted_lse(arr1, arr2):\n",
    "    min_error = np.inf\n",
    "    best_shift = None\n",
    "\n",
    "    # 配列1をずらしながら最小二乗誤差を計算\n",
    "    for shift in range(len(arr1)):\n",
    "        shifted_arr1 = np.roll(arr1, shift)\n",
    "        error = np.sum((shifted_arr1[:len(arr2)] - arr2) ** 2)\n",
    "\n",
    "        if error < min_error:\n",
    "            min_error = error\n",
    "            best_shift = shift\n",
    "\n",
    "    return min_error, best_shift\n",
    "\n",
    "# サンプルの配列を作成\n",
    "# len(arr2) > len(arr1)\n",
    "if len(a0_diff_list) >= len(a1_diff_list):\n",
    "    arr1_diff = a0_diff_list\n",
    "    arr2_diff = a1_diff_list\n",
    "    arr1_trend = a0_trend_list\n",
    "    arr2_trend = a1_trend_list\n",
    "else:\n",
    "    arr1_diff = a1_diff_list\n",
    "    arr2_diff = a0_diff_list\n",
    "    arr1_trend = a1_trend_list\n",
    "    arr2_trend = a0_trend_list\n",
    "\n",
    "# ずらしながら最小二乗誤差を計算\n",
    "error_diff, shift_diff = calculate_shifted_lse(arr1_diff, arr2_diff)\n",
    "error_trend, shift_trend = calculate_shifted_lse(arr1_trend, arr2_trend)\n",
    "print(f\"最小二乗誤差: {error_diff}\")\n",
    "print(f\"最適なずらし: {shift_diff}\") # OK\n",
    "print(f\"最小二乗誤差: {error_trend}\")\n",
    "print(f\"最適なずらし: {shift_trend}\") # OK\n",
    "ss_list = [shift_diff, shift_trend]\n",
    "shift = shift_diff"
   ]
  },
  {
   "cell_type": "code",
   "execution_count": 873,
   "metadata": {
    "ExecuteTime": {
     "end_time": "2023-05-17T22:55:42.811268Z",
     "start_time": "2023-05-17T22:55:42.801738Z"
    },
    "collapsed": false
   },
   "outputs": [
    {
     "data": {
      "text/plain": [
       "[0, 1]"
      ]
     },
     "execution_count": 873,
     "metadata": {},
     "output_type": "execute_result"
    }
   ],
   "source": [
    "ss_list"
   ]
  },
  {
   "cell_type": "code",
   "execution_count": 874,
   "metadata": {
    "ExecuteTime": {
     "end_time": "2023-05-17T22:55:43.140664Z",
     "start_time": "2023-05-17T22:55:43.124513Z"
    },
    "collapsed": false
   },
   "outputs": [
    {
     "data": {
      "text/html": [
       "<div>\n",
       "<style scoped>\n",
       "    .dataframe tbody tr th:only-of-type {\n",
       "        vertical-align: middle;\n",
       "    }\n",
       "\n",
       "    .dataframe tbody tr th {\n",
       "        vertical-align: top;\n",
       "    }\n",
       "\n",
       "    .dataframe thead th {\n",
       "        text-align: right;\n",
       "    }\n",
       "</style>\n",
       "<table border=\"1\" class=\"dataframe\">\n",
       "  <thead>\n",
       "    <tr style=\"text-align: right;\">\n",
       "      <th></th>\n",
       "      <th>index</th>\n",
       "      <th>level_0</th>\n",
       "      <th>level_1</th>\n",
       "      <th>x</th>\n",
       "      <th>y</th>\n",
       "      <th>Cn</th>\n",
       "      <th>Ca</th>\n",
       "      <th>Gi</th>\n",
       "      <th>corner</th>\n",
       "      <th>diff</th>\n",
       "      <th>trend</th>\n",
       "    </tr>\n",
       "  </thead>\n",
       "  <tbody>\n",
       "    <tr>\n",
       "      <th>1</th>\n",
       "      <td>1</td>\n",
       "      <td>0</td>\n",
       "      <td>1</td>\n",
       "      <td>38.705</td>\n",
       "      <td>125.543</td>\n",
       "      <td>2</td>\n",
       "      <td>2</td>\n",
       "      <td>24</td>\n",
       "      <td>1</td>\n",
       "      <td>2000.0</td>\n",
       "      <td>-12.036590</td>\n",
       "    </tr>\n",
       "    <tr>\n",
       "      <th>2</th>\n",
       "      <td>3</td>\n",
       "      <td>0</td>\n",
       "      <td>3</td>\n",
       "      <td>33.567</td>\n",
       "      <td>187.387</td>\n",
       "      <td>1</td>\n",
       "      <td>1</td>\n",
       "      <td>22</td>\n",
       "      <td>1</td>\n",
       "      <td>2000.0</td>\n",
       "      <td>0.001949</td>\n",
       "    </tr>\n",
       "    <tr>\n",
       "      <th>4</th>\n",
       "      <td>13</td>\n",
       "      <td>0</td>\n",
       "      <td>13</td>\n",
       "      <td>98.606</td>\n",
       "      <td>212.271</td>\n",
       "      <td>2</td>\n",
       "      <td>2</td>\n",
       "      <td>24</td>\n",
       "      <td>1</td>\n",
       "      <td>2000.0</td>\n",
       "      <td>-0.328191</td>\n",
       "    </tr>\n",
       "    <tr>\n",
       "      <th>5</th>\n",
       "      <td>16</td>\n",
       "      <td>0</td>\n",
       "      <td>16</td>\n",
       "      <td>161.618</td>\n",
       "      <td>191.591</td>\n",
       "      <td>1</td>\n",
       "      <td>1</td>\n",
       "      <td>22</td>\n",
       "      <td>1</td>\n",
       "      <td>1000.0</td>\n",
       "      <td>1.601247</td>\n",
       "    </tr>\n",
       "    <tr>\n",
       "      <th>11</th>\n",
       "      <td>24</td>\n",
       "      <td>0</td>\n",
       "      <td>24</td>\n",
       "      <td>197.220</td>\n",
       "      <td>240.313</td>\n",
       "      <td>2</td>\n",
       "      <td>2</td>\n",
       "      <td>24</td>\n",
       "      <td>1</td>\n",
       "      <td>2000.0</td>\n",
       "      <td>2.191541</td>\n",
       "    </tr>\n",
       "    <tr>\n",
       "      <th>15</th>\n",
       "      <td>34</td>\n",
       "      <td>0</td>\n",
       "      <td>34</td>\n",
       "      <td>219.170</td>\n",
       "      <td>278.813</td>\n",
       "      <td>1</td>\n",
       "      <td>1</td>\n",
       "      <td>22</td>\n",
       "      <td>1</td>\n",
       "      <td>1000.0</td>\n",
       "      <td>-0.533130</td>\n",
       "    </tr>\n",
       "    <tr>\n",
       "      <th>16</th>\n",
       "      <td>38</td>\n",
       "      <td>0</td>\n",
       "      <td>38</td>\n",
       "      <td>260.537</td>\n",
       "      <td>256.759</td>\n",
       "      <td>2</td>\n",
       "      <td>2</td>\n",
       "      <td>24</td>\n",
       "      <td>1</td>\n",
       "      <td>1000.0</td>\n",
       "      <td>1.905018</td>\n",
       "    </tr>\n",
       "    <tr>\n",
       "      <th>17</th>\n",
       "      <td>41</td>\n",
       "      <td>0</td>\n",
       "      <td>41</td>\n",
       "      <td>285.605</td>\n",
       "      <td>304.514</td>\n",
       "      <td>1</td>\n",
       "      <td>1</td>\n",
       "      <td>22</td>\n",
       "      <td>1</td>\n",
       "      <td>5000.0</td>\n",
       "      <td>-0.435340</td>\n",
       "    </tr>\n",
       "    <tr>\n",
       "      <th>18</th>\n",
       "      <td>50</td>\n",
       "      <td>0</td>\n",
       "      <td>50</td>\n",
       "      <td>373.426</td>\n",
       "      <td>266.282</td>\n",
       "      <td>1</td>\n",
       "      <td>1</td>\n",
       "      <td>22</td>\n",
       "      <td>1</td>\n",
       "      <td>38000.0</td>\n",
       "      <td>3.854969</td>\n",
       "    </tr>\n",
       "    <tr>\n",
       "      <th>19</th>\n",
       "      <td>60</td>\n",
       "      <td>0</td>\n",
       "      <td>60</td>\n",
       "      <td>304.351</td>\n",
       "      <td>0.000</td>\n",
       "      <td>1</td>\n",
       "      <td>1</td>\n",
       "      <td>22</td>\n",
       "      <td>1</td>\n",
       "      <td>31000.0</td>\n",
       "      <td>-0.285687</td>\n",
       "    </tr>\n",
       "    <tr>\n",
       "      <th>20</th>\n",
       "      <td>65</td>\n",
       "      <td>0</td>\n",
       "      <td>65</td>\n",
       "      <td>64.841</td>\n",
       "      <td>68.425</td>\n",
       "      <td>1</td>\n",
       "      <td>1</td>\n",
       "      <td>22</td>\n",
       "      <td>1</td>\n",
       "      <td>2000.0</td>\n",
       "      <td>-2.906764</td>\n",
       "    </tr>\n",
       "  </tbody>\n",
       "</table>\n",
       "</div>"
      ],
      "text/plain": [
       "    index  level_0  level_1        x        y  Cn  Ca  Gi  corner     diff   \n",
       "1       1        0        1   38.705  125.543   2   2  24       1   2000.0  \\\n",
       "2       3        0        3   33.567  187.387   1   1  22       1   2000.0   \n",
       "4      13        0       13   98.606  212.271   2   2  24       1   2000.0   \n",
       "5      16        0       16  161.618  191.591   1   1  22       1   1000.0   \n",
       "11     24        0       24  197.220  240.313   2   2  24       1   2000.0   \n",
       "15     34        0       34  219.170  278.813   1   1  22       1   1000.0   \n",
       "16     38        0       38  260.537  256.759   2   2  24       1   1000.0   \n",
       "17     41        0       41  285.605  304.514   1   1  22       1   5000.0   \n",
       "18     50        0       50  373.426  266.282   1   1  22       1  38000.0   \n",
       "19     60        0       60  304.351    0.000   1   1  22       1  31000.0   \n",
       "20     65        0       65   64.841   68.425   1   1  22       1   2000.0   \n",
       "\n",
       "        trend  \n",
       "1  -12.036590  \n",
       "2    0.001949  \n",
       "4   -0.328191  \n",
       "5    1.601247  \n",
       "11   2.191541  \n",
       "15  -0.533130  \n",
       "16   1.905018  \n",
       "17  -0.435340  \n",
       "18   3.854969  \n",
       "19  -0.285687  \n",
       "20  -2.906764  "
      ]
     },
     "execution_count": 874,
     "metadata": {},
     "output_type": "execute_result"
    }
   ],
   "source": [
    "a0_df"
   ]
  },
  {
   "cell_type": "code",
   "execution_count": 875,
   "metadata": {
    "ExecuteTime": {
     "end_time": "2023-05-17T22:55:44.604922Z",
     "start_time": "2023-05-17T22:55:44.599697Z"
    },
    "collapsed": false
   },
   "outputs": [
    {
     "data": {
      "text/html": [
       "<div>\n",
       "<style scoped>\n",
       "    .dataframe tbody tr th:only-of-type {\n",
       "        vertical-align: middle;\n",
       "    }\n",
       "\n",
       "    .dataframe tbody tr th {\n",
       "        vertical-align: top;\n",
       "    }\n",
       "\n",
       "    .dataframe thead th {\n",
       "        text-align: right;\n",
       "    }\n",
       "</style>\n",
       "<table border=\"1\" class=\"dataframe\">\n",
       "  <thead>\n",
       "    <tr style=\"text-align: right;\">\n",
       "      <th></th>\n",
       "      <th>index</th>\n",
       "      <th>level_0</th>\n",
       "      <th>level_1</th>\n",
       "      <th>x</th>\n",
       "      <th>y</th>\n",
       "      <th>Cn</th>\n",
       "      <th>Ca</th>\n",
       "      <th>Gi</th>\n",
       "      <th>corner</th>\n",
       "      <th>diff</th>\n",
       "      <th>trend</th>\n",
       "    </tr>\n",
       "  </thead>\n",
       "  <tbody>\n",
       "    <tr>\n",
       "      <th>27</th>\n",
       "      <td>153</td>\n",
       "      <td>1</td>\n",
       "      <td>85</td>\n",
       "      <td>83.168</td>\n",
       "      <td>262.834</td>\n",
       "      <td>2</td>\n",
       "      <td>2</td>\n",
       "      <td>56</td>\n",
       "      <td>1</td>\n",
       "      <td>2000.0</td>\n",
       "      <td>-0.005714</td>\n",
       "    </tr>\n",
       "    <tr>\n",
       "      <th>23</th>\n",
       "      <td>146</td>\n",
       "      <td>1</td>\n",
       "      <td>78</td>\n",
       "      <td>150.618</td>\n",
       "      <td>267.412</td>\n",
       "      <td>1</td>\n",
       "      <td>1</td>\n",
       "      <td>54</td>\n",
       "      <td>1</td>\n",
       "      <td>2000.0</td>\n",
       "      <td>-0.320057</td>\n",
       "    </tr>\n",
       "    <tr>\n",
       "      <th>22</th>\n",
       "      <td>144</td>\n",
       "      <td>1</td>\n",
       "      <td>76</td>\n",
       "      <td>169.713</td>\n",
       "      <td>298.744</td>\n",
       "      <td>2</td>\n",
       "      <td>2</td>\n",
       "      <td>56</td>\n",
       "      <td>1</td>\n",
       "      <td>1000.0</td>\n",
       "      <td>1.640848</td>\n",
       "    </tr>\n",
       "    <tr>\n",
       "      <th>20</th>\n",
       "      <td>137</td>\n",
       "      <td>1</td>\n",
       "      <td>69</td>\n",
       "      <td>210.799</td>\n",
       "      <td>373.600</td>\n",
       "      <td>2</td>\n",
       "      <td>2</td>\n",
       "      <td>56</td>\n",
       "      <td>1</td>\n",
       "      <td>4000.0</td>\n",
       "      <td>2.038508</td>\n",
       "    </tr>\n",
       "    <tr>\n",
       "      <th>17</th>\n",
       "      <td>130</td>\n",
       "      <td>1</td>\n",
       "      <td>62</td>\n",
       "      <td>248.545</td>\n",
       "      <td>333.569</td>\n",
       "      <td>2</td>\n",
       "      <td>2</td>\n",
       "      <td>56</td>\n",
       "      <td>1</td>\n",
       "      <td>1000.0</td>\n",
       "      <td>-0.526986</td>\n",
       "    </tr>\n",
       "    <tr>\n",
       "      <th>16</th>\n",
       "      <td>127</td>\n",
       "      <td>1</td>\n",
       "      <td>59</td>\n",
       "      <td>273.320</td>\n",
       "      <td>381.618</td>\n",
       "      <td>1</td>\n",
       "      <td>1</td>\n",
       "      <td>54</td>\n",
       "      <td>1</td>\n",
       "      <td>1000.0</td>\n",
       "      <td>1.939415</td>\n",
       "    </tr>\n",
       "    <tr>\n",
       "      <th>15</th>\n",
       "      <td>119</td>\n",
       "      <td>1</td>\n",
       "      <td>51</td>\n",
       "      <td>360.613</td>\n",
       "      <td>344.309</td>\n",
       "      <td>2</td>\n",
       "      <td>2</td>\n",
       "      <td>56</td>\n",
       "      <td>1</td>\n",
       "      <td>5000.0</td>\n",
       "      <td>-0.427400</td>\n",
       "    </tr>\n",
       "    <tr>\n",
       "      <th>14</th>\n",
       "      <td>116</td>\n",
       "      <td>1</td>\n",
       "      <td>48</td>\n",
       "      <td>390.802</td>\n",
       "      <td>421.589</td>\n",
       "      <td>1</td>\n",
       "      <td>1</td>\n",
       "      <td>54</td>\n",
       "      <td>1</td>\n",
       "      <td>3000.0</td>\n",
       "      <td>2.559873</td>\n",
       "    </tr>\n",
       "    <tr>\n",
       "      <th>12</th>\n",
       "      <td>113</td>\n",
       "      <td>1</td>\n",
       "      <td>45</td>\n",
       "      <td>443.141</td>\n",
       "      <td>460.607</td>\n",
       "      <td>2</td>\n",
       "      <td>2</td>\n",
       "      <td>56</td>\n",
       "      <td>1</td>\n",
       "      <td>2000.0</td>\n",
       "      <td>0.737808</td>\n",
       "    </tr>\n",
       "    <tr>\n",
       "      <th>10</th>\n",
       "      <td>107</td>\n",
       "      <td>1</td>\n",
       "      <td>39</td>\n",
       "      <td>503.104</td>\n",
       "      <td>535.201</td>\n",
       "      <td>1</td>\n",
       "      <td>1</td>\n",
       "      <td>54</td>\n",
       "      <td>1</td>\n",
       "      <td>5000.0</td>\n",
       "      <td>0.640353</td>\n",
       "    </tr>\n",
       "    <tr>\n",
       "      <th>4</th>\n",
       "      <td>95</td>\n",
       "      <td>1</td>\n",
       "      <td>27</td>\n",
       "      <td>405.713</td>\n",
       "      <td>518.022</td>\n",
       "      <td>1</td>\n",
       "      <td>1</td>\n",
       "      <td>54</td>\n",
       "      <td>1</td>\n",
       "      <td>2000.0</td>\n",
       "      <td>0.120918</td>\n",
       "    </tr>\n",
       "    <tr>\n",
       "      <th>2</th>\n",
       "      <td>75</td>\n",
       "      <td>1</td>\n",
       "      <td>7</td>\n",
       "      <td>0.000</td>\n",
       "      <td>414.391</td>\n",
       "      <td>1</td>\n",
       "      <td>1</td>\n",
       "      <td>54</td>\n",
       "      <td>1</td>\n",
       "      <td>87000.0</td>\n",
       "      <td>0.289021</td>\n",
       "    </tr>\n",
       "    <tr>\n",
       "      <th>1</th>\n",
       "      <td>69</td>\n",
       "      <td>1</td>\n",
       "      <td>1</td>\n",
       "      <td>22.437</td>\n",
       "      <td>262.155</td>\n",
       "      <td>2</td>\n",
       "      <td>2</td>\n",
       "      <td>56</td>\n",
       "      <td>1</td>\n",
       "      <td>12000.0</td>\n",
       "      <td>-6.785043</td>\n",
       "    </tr>\n",
       "  </tbody>\n",
       "</table>\n",
       "</div>"
      ],
      "text/plain": [
       "    index  level_0  level_1        x        y  Cn  Ca  Gi  corner     diff   \n",
       "27    153        1       85   83.168  262.834   2   2  56       1   2000.0  \\\n",
       "23    146        1       78  150.618  267.412   1   1  54       1   2000.0   \n",
       "22    144        1       76  169.713  298.744   2   2  56       1   1000.0   \n",
       "20    137        1       69  210.799  373.600   2   2  56       1   4000.0   \n",
       "17    130        1       62  248.545  333.569   2   2  56       1   1000.0   \n",
       "16    127        1       59  273.320  381.618   1   1  54       1   1000.0   \n",
       "15    119        1       51  360.613  344.309   2   2  56       1   5000.0   \n",
       "14    116        1       48  390.802  421.589   1   1  54       1   3000.0   \n",
       "12    113        1       45  443.141  460.607   2   2  56       1   2000.0   \n",
       "10    107        1       39  503.104  535.201   1   1  54       1   5000.0   \n",
       "4      95        1       27  405.713  518.022   1   1  54       1   2000.0   \n",
       "2      75        1        7    0.000  414.391   1   1  54       1  87000.0   \n",
       "1      69        1        1   22.437  262.155   2   2  56       1  12000.0   \n",
       "\n",
       "       trend  \n",
       "27 -0.005714  \n",
       "23 -0.320057  \n",
       "22  1.640848  \n",
       "20  2.038508  \n",
       "17 -0.526986  \n",
       "16  1.939415  \n",
       "15 -0.427400  \n",
       "14  2.559873  \n",
       "12  0.737808  \n",
       "10  0.640353  \n",
       "4   0.120918  \n",
       "2   0.289021  \n",
       "1  -6.785043  "
      ]
     },
     "execution_count": 875,
     "metadata": {},
     "output_type": "execute_result"
    }
   ],
   "source": [
    "a1_df"
   ]
  },
  {
   "cell_type": "code",
   "execution_count": 891,
   "metadata": {
    "ExecuteTime": {
     "end_time": "2023-05-17T23:00:54.218647Z",
     "start_time": "2023-05-17T23:00:54.128711Z"
    },
    "collapsed": false
   },
   "outputs": [
    {
     "name": "stdout",
     "output_type": "stream",
     "text": [
      "33.56700000000001 187.38700000000006 33.56700000000001 187.38700000000006\n",
      "33.56700000000001 187.38700000000006 101.01699999999994 191.96500000000003\n",
      "33.56700000000001 187.38700000000006 120.11199999999997 223.29700000000003\n",
      "33.56700000000001 187.38700000000006 161.19799999999998 298.153\n",
      "33.56700000000001 187.38700000000006 223.71899999999994 306.17100000000005\n",
      "33.56700000000001 187.38700000000006 101.01699999999994 191.96500000000003\n",
      "33.56700000000001 187.38700000000006 120.11199999999997 223.29700000000003\n",
      "33.56700000000001 187.38700000000006 161.19799999999998 298.153\n",
      "33.56700000000001 187.38700000000006 198.94400000000007 258.122\n",
      "33.56700000000001 187.38700000000006 311.01200000000006 268.862\n"
     ]
    }
   ],
   "source": [
    "l0 = a0_df[[\"level_0\", \"level_1\", \"x\", \"y\", \"Gi\"]].reset_index(drop=True)\n",
    "l1 = a1_df[[\"level_0\", \"level_1\", \"x\", \"y\", \"Gi\"]].sort_values('level_1', ascending=False).reset_index(\n",
    "    drop=True).reset_index(drop=False)\n",
    "\n",
    "# アンサンブルのために複数の候補を試す\n",
    "dd_list = []\n",
    "diff_x_list = []\n",
    "diff_y_list = []\n",
    "for shift in ss_list:\n",
    "    shift_list = [shift, shift+1, shift+2, shift+3, shift+5]\n",
    "    for diff_index in shift_list:\n",
    "        # シフトを標準から±いくつかを試す。\n",
    "        if diff_index >= l1.shape[0]:\n",
    "            diff_index = diff_index - l1.shape[0]\n",
    "\n",
    "        l0_x = l0.loc[1, \"x\"]\n",
    "        l0_y = l0.loc[1, \"y\"]\n",
    "        l1_x = l1.loc[diff_index, \"x\"]\n",
    "        l1_y = l1.loc[diff_index, \"y\"]\n",
    "        print(l0_x, l0_y, l1_x, l1_y)\n",
    "        diff_x = l0_x - l1_x\n",
    "        diff_y = l0_y - l1_y\n",
    "        diff_x_list.append(diff_x)\n",
    "        diff_y_list.append(diff_y)\n",
    "        # 移動距離（判定に使う）\n",
    "        dd = ((diff_x)**2 + (diff_y)**2) ** 1/2\n",
    "        dd_list.append(dd)\n",
    "min_index = dd_list.index(min(dd_list))\n",
    "diff_x = diff_x_list[min_index]\n",
    "diff_y = diff_y_list[min_index]\n",
    "\n",
    "# dd > distanceの場合、処理をやめる\n",
    "if dd_list[min_index] > distance:\n",
    "    print(\"warning\")\n",
    "\n",
    "# l1にdiffを加算する\n",
    "a1_df[\"x\"] = a1_df[\"x\"] + diff_x\n",
    "a1_df[\"y\"] = a1_df[\"y\"] + diff_y\n",
    "\n",
    "ll0 = a0_df[[\"level_0\", \"x\",\"y\"]]\n",
    "ll1 = a1_df[[\"level_0\", \"x\", \"y\"]]\n",
    "\n",
    "p1 = Polygon(gpd.points_from_xy(ll0[\"x\"], ll0[\"y\"]))\n",
    "p2 = Polygon(gpd.points_from_xy(ll1[\"x\"], ll1[\"y\"]))\n",
    "r_gdf = gpd.GeoDataFrame({\"geom\":[p1,p2]}, geometry=\"geom\")\n",
    "r_gdf = r_gdf.reset_index(drop=False)"
   ]
  },
  {
   "cell_type": "code",
   "execution_count": 892,
   "metadata": {
    "ExecuteTime": {
     "end_time": "2023-05-17T23:00:55.357275Z",
     "start_time": "2023-05-17T23:00:55.350608Z"
    },
    "collapsed": false
   },
   "outputs": [
    {
     "data": {
      "text/plain": [
       "0"
      ]
     },
     "execution_count": 892,
     "metadata": {},
     "output_type": "execute_result"
    }
   ],
   "source": [
    "min_index"
   ]
  },
  {
   "cell_type": "code",
   "execution_count": 893,
   "metadata": {
    "ExecuteTime": {
     "end_time": "2023-05-17T23:00:56.036424Z",
     "start_time": "2023-05-17T23:00:56.023842Z"
    },
    "collapsed": false
   },
   "outputs": [
    {
     "data": {
      "text/plain": [
       "0.0"
      ]
     },
     "execution_count": 893,
     "metadata": {},
     "output_type": "execute_result"
    }
   ],
   "source": [
    "dd_list[min_index]"
   ]
  },
  {
   "cell_type": "code",
   "execution_count": 907,
   "metadata": {
    "ExecuteTime": {
     "end_time": "2023-05-17T23:09:14.141046Z",
     "start_time": "2023-05-17T23:09:13.938100Z"
    },
    "collapsed": false
   },
   "outputs": [],
   "source": [
    "r_gdf[\"convex_hull\"] = r_gdf.convex_hull\n",
    "r_gdf = r_gdf.set_geometry(\"convex_hull\")"
   ]
  },
  {
   "cell_type": "code",
   "execution_count": 908,
   "metadata": {
    "ExecuteTime": {
     "end_time": "2023-05-17T23:09:21.050365Z",
     "start_time": "2023-05-17T23:09:20.537010Z"
    },
    "collapsed": false
   },
   "outputs": [
    {
     "data": {
      "text/plain": [
       "<Axes: >"
      ]
     },
     "execution_count": 908,
     "metadata": {},
     "output_type": "execute_result"
    },
    {
     "data": {
      "image/png": "[encoded data removed]",
      "text/plain": [
       "<Figure size 640x480 with 1 Axes>"
      ]
     },
     "metadata": {},
     "output_type": "display_data"
    }
   ],
   "source": [
    "r_gdf.plot(\"index\")"
   ]
  },
  {
   "cell_type": "code",
   "execution_count": 915,
   "metadata": {
    "ExecuteTime": {
     "end_time": "2023-05-17T23:14:58.321249Z",
     "start_time": "2023-05-17T23:14:58.218868Z"
    },
    "collapsed": false
   },
   "outputs": [
    {
     "data": {
      "text/plain": [
       "<GeometryArray>\n",
       "[<POLYGON ((304.351 0, 64.841 68.425, 38.705 125.543, 33.567 187.387, 219.17 ...>, <POLYGON ((-27.164 186.708, -49.601 338.944, 356.112 442.575, 453.503 459.75...>]\n",
       "Length: 2, dtype: geometry"
      ]
     },
     "execution_count": 915,
     "metadata": {},
     "output_type": "execute_result"
    }
   ],
   "source": [
    "r_gdf[\"convex_hull\"].values"
   ]
  },
  {
   "cell_type": "code",
   "execution_count": 930,
   "metadata": {
    "ExecuteTime": {
     "end_time": "2023-05-17T23:20:50.225621Z",
     "start_time": "2023-05-17T23:20:50.206776Z"
    },
    "collapsed": false
   },
   "outputs": [
    {
     "data": {
      "text/html": [
       "<div>\n",
       "<style scoped>\n",
       "    .dataframe tbody tr th:only-of-type {\n",
       "        vertical-align: middle;\n",
       "    }\n",
       "\n",
       "    .dataframe tbody tr th {\n",
       "        vertical-align: top;\n",
       "    }\n",
       "\n",
       "    .dataframe thead th {\n",
       "        text-align: right;\n",
       "    }\n",
       "</style>\n",
       "<table border=\"1\" class=\"dataframe\">\n",
       "  <thead>\n",
       "    <tr style=\"text-align: right;\">\n",
       "      <th></th>\n",
       "      <th>geom</th>\n",
       "    </tr>\n",
       "  </thead>\n",
       "  <tbody>\n",
       "    <tr>\n",
       "      <th>0</th>\n",
       "      <td>MULTIPOLYGON (((304.3509999999999 0, 64.841000...</td>\n",
       "    </tr>\n",
       "  </tbody>\n",
       "</table>\n",
       "</div>"
      ],
      "text/plain": [
       "                                                geom\n",
       "0  MULTIPOLYGON (((304.3509999999999 0, 64.841000..."
      ]
     },
     "execution_count": 930,
     "metadata": {},
     "output_type": "execute_result"
    }
   ],
   "source": [
    "# PolygonをMultiPolygonに変換\n",
    "multipolygon = MultiPolygon(r_gdf[\"convex_hull\"].values)\n",
    "mr_gdf = gpd.GeoDataFrame({\"geom\":[multipolygon]})\n",
    "mr_gdf"
   ]
  },
  {
   "cell_type": "code",
   "execution_count": 932,
   "metadata": {
    "ExecuteTime": {
     "end_time": "2023-05-17T23:20:58.917883Z",
     "start_time": "2023-05-17T23:20:58.672740Z"
    },
    "collapsed": false
   },
   "outputs": [
    {
     "data": {
      "text/plain": [
       "<Axes: >"
      ]
     },
     "execution_count": 932,
     "metadata": {},
     "output_type": "execute_result"
    },
    {
     "data": {
      "image/png": "[encoded data removed]",
      "text/plain": [
       "<Figure size 640x480 with 1 Axes>"
      ]
     },
     "metadata": {},
     "output_type": "display_data"
    }
   ],
   "source": [
    "# 境界を取得\n",
    "bound3 = gpd.GeoSeries(cascaded_union(mr_gdf.geom))\n",
    "bound3.plot()"
   ]
  },
  {
   "cell_type": "code",
   "execution_count": 933,
   "metadata": {
    "ExecuteTime": {
     "end_time": "2023-05-17T23:21:03.434225Z",
     "start_time": "2023-05-17T23:21:03.418316Z"
    },
    "collapsed": false
   },
   "outputs": [
    {
     "data": {
      "text/plain": [
       "0    POLYGON ((64.841 68.425, 38.705 125.543, 33.56...\n",
       "dtype: geometry"
      ]
     },
     "execution_count": 933,
     "metadata": {},
     "output_type": "execute_result"
    }
   ],
   "source": [
    "bound3"
   ]
  },
  {
   "cell_type": "code",
   "execution_count": 936,
   "metadata": {
    "ExecuteTime": {
     "end_time": "2023-05-17T23:21:34.138749Z",
     "start_time": "2023-05-17T23:21:32.842640Z"
    },
    "collapsed": false
   },
   "outputs": [
    {
     "data": {
      "text/plain": [
       "<Axes: >"
      ]
     },
     "execution_count": 936,
     "metadata": {},
     "output_type": "execute_result"
    },
    {
     "data": {
      "image/png": "[encoded data removed]",
      "text/plain": [
       "<Figure size 640x480 with 1 Axes>"
      ]
     },
     "metadata": {},
     "output_type": "display_data"
    }
   ],
   "source": [
    "# ポリゴンの外周を取得する\n",
    "# TODO 点を増やすために線型補完したい\n",
    "bound3 = bound3.geometry.apply(lambda x: MultiPoint(list(x.exterior.coords)))\n",
    "bound3.plot(aspect=1)"
   ]
  },
  {
   "cell_type": "code",
   "execution_count": 937,
   "metadata": {
    "ExecuteTime": {
     "end_time": "2023-05-17T23:21:38.640778Z",
     "start_time": "2023-05-17T23:21:38.572916Z"
    },
    "collapsed": false
   },
   "outputs": [
    {
     "data": {
      "text/plain": [
       "0    MULTIPOINT (64.841 68.425, 38.705 125.543, 33....\n",
       "dtype: geometry"
      ]
     },
     "execution_count": 937,
     "metadata": {},
     "output_type": "execute_result"
    }
   ],
   "source": [
    "bound3"
   ]
  },
  {
   "cell_type": "markdown",
   "metadata": {
    "collapsed": false
   },
   "source": [
    "## 相互相関をとってみる"
   ]
  },
  {
   "cell_type": "code",
   "execution_count": null,
   "metadata": {
    "collapsed": false
   },
   "outputs": [],
   "source": [
    "# data1"
   ]
  },
  {
   "cell_type": "code",
   "execution_count": null,
   "metadata": {
    "collapsed": false
   },
   "outputs": [],
   "source": [
    "# data2"
   ]
  },
  {
   "cell_type": "code",
   "execution_count": null,
   "metadata": {
    "collapsed": false
   },
   "outputs": [],
   "source": [
    "# # 二つの時系列データの相互相関係数を算出\n",
    "# data1 = ans_0.loc[:,\"diff\"]\n",
    "# data2 = ans_1.loc[:,\"diff\"]\n",
    "# # クロス相関関数の計算\n",
    "# cross_corr = np.correlate(data1, data2, mode='full')\n",
    "# # クロス相関関数のプロット\n",
    "# import plotly.express as px\n",
    "# fig = px.line(cross_corr)\n",
    "# fig.show()"
   ]
  },
  {
   "cell_type": "code",
   "execution_count": null,
   "metadata": {
    "collapsed": false
   },
   "outputs": [],
   "source": [
    "# # cross_corr = cross_corr[:ans_0.shape[0]]\n",
    "# indices = np.argwhere(cross_corr == cross_corr.max())\n",
    "# # diff_index = indices[0][0] -2  # ラグdiff_indexで最も相互相関係数が上昇する→diff_indexシフトすると輪郭の一致する部分が重なる。\n",
    "# diff_index =  0\n",
    "# print(diff_index)"
   ]
  },
  {
   "cell_type": "code",
   "execution_count": null,
   "metadata": {
    "collapsed": false
   },
   "outputs": [],
   "source": [
    "# \"\"\"\n",
    "# 相互相関係数が最大値の19 - 2だけ移動すると一致する。\n",
    "# \"\"\"\n",
    "# l0 = ans_0[[\"level_0\", \"level_1\", \"x\", \"y\", \"diff\"]]\n",
    "# l1 = ans_1[[\"level_0\", \"level_1\", \"x\", \"y\", \"diff\"]].sort_values('level_1', ascending=False).reset_index(\n",
    "#     drop=True).reset_index(drop=False)\n",
    "# diff_index\n",
    "# l0_x = l0.loc[0, \"x\"]\n",
    "# l0_y = l0.loc[0, \"y\"]\n",
    "# l1_x = l1.loc[diff_index, \"x\"]\n",
    "# l1_y = l1.loc[diff_index, \"y\"]\n",
    "#\n",
    "# print(l0_x, l0_y, l1_x, l1_y)\n",
    "# diff_x = l0_x - l1_x\n",
    "# diff_y = l0_y - l1_y\n",
    "#\n",
    "# # l1にdiffを加算する\n",
    "# ans_1[\"x\"] = ans_1[\"x\"] + diff_x\n",
    "# ans_1[\"y\"] = ans_1[\"y\"] + diff_y\n",
    "#\n",
    "# ll0 = ans_0[[\"level_0\", \"x\",\"y\"]]\n",
    "# ll1 = ans_1[[\"level_0\", \"x\", \"y\"]]\n",
    "#\n",
    "# p1 = Polygon(gpd.points_from_xy(ll0[\"x\"], ll0[\"y\"]))\n",
    "# p2 = Polygon(gpd.points_from_xy(ll1[\"x\"], ll1[\"y\"]))\n",
    "# r_gdf = gpd.GeoDataFrame([p1,p2], geometry=0)\n",
    "# r_gdf"
   ]
  },
  {
   "cell_type": "code",
   "execution_count": null,
   "metadata": {
    "collapsed": false
   },
   "outputs": [],
   "source": []
  },
  {
   "cell_type": "code",
   "execution_count": null,
   "metadata": {
    "collapsed": false
   },
   "outputs": [],
   "source": []
  },
  {
   "cell_type": "code",
   "execution_count": null,
   "metadata": {
    "collapsed": false
   },
   "outputs": [],
   "source": []
  },
  {
   "cell_type": "code",
   "execution_count": null,
   "metadata": {
    "collapsed": false
   },
   "outputs": [],
   "source": []
  }
 ],
 "metadata": {
  "kernelspec": {
   "display_name": "Python 3",
   "language": "python",
   "name": "python3"
  },
  "language_info": {
   "codemirror_mode": {
    "name": "ipython",
    "version": 2
   },
   "file_extension": ".py",
   "mimetype": "text/x-python",
   "name": "python",
   "nbconvert_exporter": "python",
   "pygments_lexer": "ipython2",
   "version": "2.7.6"
  }
 },
 "nbformat": 4,
 "nbformat_minor": 0
}
